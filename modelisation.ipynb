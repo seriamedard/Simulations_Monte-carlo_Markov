{
 "cells": [
  {
   "cell_type": "markdown",
   "metadata": {
    "id": "DQ0h8ge5QoE7"
   },
   "source": [
    "## Probleme 1: Methode de rejet pour la loi normal"
   ]
  },
  {
   "cell_type": "code",
   "execution_count": 1,
   "metadata": {
    "id": "dE2LnGhJQoE7"
   },
   "outputs": [],
   "source": [
    "import numpy as np\n",
    "import matplotlib.pyplot as plt\n",
    "from scipy.stats import norm\n",
    "from sympy import *"
   ]
  },
  {
   "cell_type": "code",
   "execution_count": 2,
   "metadata": {
    "id": "J_GL1w1zQoE-"
   },
   "outputs": [],
   "source": [
    "# Algorithm\n",
    "def simul_unif():\n",
    "    continuer = True\n",
    "    while continuer :\n",
    "        U = np.random.uniform(0,1,3)\n",
    "        Y = -np.log(U[0])\n",
    "        tmp = np.exp(-(Y - 1)**2 / 2)\n",
    "        if U[1] <= tmp :\n",
    "            continuer = False\n",
    "            if U[2] <= 1/2:\n",
    "                Z = Y\n",
    "            else:\n",
    "                Z = - Y\n",
    "    return Z\n",
    "\n",
    "def simul_unif_obs(n_observation=1) :\n",
    "    Z = []\n",
    "    for i in range(n_observation):\n",
    "        Z.append(simul_unif())\n",
    "    return np.array(Z)"
   ]
  },
  {
   "cell_type": "code",
   "execution_count": 3,
   "metadata": {
    "id": "UcQhjfkxQoFA"
   },
   "outputs": [],
   "source": [
    "def simul_norm(mu, epsilon_carree):\n",
    "    X = np.sqrt(epsilon_carree) * simul_unif() + mu\n",
    "    return X"
   ]
  },
  {
   "cell_type": "code",
   "execution_count": 4,
   "metadata": {
    "colab": {
     "base_uri": "https://localhost:8080/",
     "height": 483
    },
    "id": "1gze1oshQoFB",
    "outputId": "74e9c95d-0664-4852-8ea7-348dbb355b36"
   },
   "outputs": [
    {
     "data": {
      "image/png": "[encoded data removed]",
      "text/plain": [
       "<Figure size 720x576 with 1 Axes>"
      ]
     },
     "metadata": {
      "needs_background": "light"
     },
     "output_type": "display_data"
    }
   ],
   "source": [
    "# Histogram \n",
    "\n",
    "data_simul = simul_unif_obs(10000)\n",
    "mu, std = 0, 1\n",
    "plt.figure(figsize=(10,8))\n",
    "plt.hist(data_simul, bins=100, density=True, alpha=1, color='c')\n",
    "xmin, xmax = plt.xlim()\n",
    "x = np.linspace(xmin, xmax, 100)\n",
    "p = norm.pdf(x, mu, std)\n",
    "plt.plot(x, p, 'r', linewidth=2)\n",
    "plt.show()\n",
    "#plt.savefig(\"./figure/dnorm.png\")"
   ]
  },
  {
   "cell_type": "markdown",
   "metadata": {
    "id": "F4T2u3eYQoFD"
   },
   "source": [
    "**Reponses aux questions:**\n",
    "<br>\n",
    "\n",
    "1.D'après les deux graphiques, notre simulation suit bien une loi normale attendue, car pour 10000 observations, la frequence (l'histogramme) observée est proche de l'aire sous la courbe représentative de la densité de la loi normale."
   ]
  },
  {
   "cell_type": "markdown",
   "metadata": {
    "id": "-pn41t7dQoFE"
   },
   "source": [
    "2.(a) Utilisons l'algorithme précédent pour approcher $\\boldsymbol{E}(x) \\, et\\, \\boldsymbol{E}(x^2)$ avec k = 100 repetitions\n",
    "\n"
   ]
  },
  {
   "cell_type": "code",
   "execution_count": 5,
   "metadata": {
    "colab": {
     "base_uri": "https://localhost:8080/",
     "height": 0
    },
    "id": "r_vnbIBgQoFF",
    "outputId": "d80a0615-260b-4c42-dbd5-47a4cb0f675f"
   },
   "outputs": [
    {
     "name": "stdout",
     "output_type": "stream",
     "text": [
      "E(X) = 24\n",
      "E(X)_Approchee = 24.23439757460819\n"
     ]
    }
   ],
   "source": [
    "# simulation-2\n",
    "E_X = []\n",
    "for k in range(100):\n",
    "    E_X.append(simul_norm(24,4))\n",
    "E_X_aproximate = np.mean(E_X)\n",
    "print(f\"E(X) = {24}\\nE(X)_Approchee = {E_X_aproximate}\")"
   ]
  },
  {
   "cell_type": "markdown",
   "metadata": {
    "id": "4gxueNcCQoFG"
   },
   "source": [
    "**D'apres plusieurs simulations, la valeur estimeé de $\\boldsymbol{E}(X)$ est proche de la valeur exacte** "
   ]
  },
  {
   "cell_type": "code",
   "execution_count": 6,
   "metadata": {
    "colab": {
     "base_uri": "https://localhost:8080/",
     "height": 0
    },
    "id": "KMrbI49PQoFH",
    "outputId": "30a2a1b2-ac70-4d98-97ab-b91753fe8111"
   },
   "outputs": [
    {
     "name": "stdout",
     "output_type": "stream",
     "text": [
      "E(X^2) = 580\n",
      "E(X^2)_Approchee = 576.5163160967176\n"
     ]
    }
   ],
   "source": [
    "# moment 2\n",
    "E_X_carree = []\n",
    "for k in range(100):\n",
    "    E_X_carree.append(simul_norm(24,4))\n",
    "E_X_carrree_aproximate = np.mean(pow(np.array(E_X_carree),2))\n",
    "print(f\"E(X^2) = {580}\\nE(X^2)_Approchee = {E_X_carrree_aproximate}\")"
   ]
  },
  {
   "cell_type": "markdown",
   "metadata": {
    "id": "ljztets4QoFI"
   },
   "source": [
    "**On remarque qu'apres plusieurs simulations, la valeur estimeé de $\\boldsymbol{E}(x^2)$ est proche de la valeur exacte mais moins precis que le premier moment.**"
   ]
  },
  {
   "cell_type": "markdown",
   "metadata": {
    "id": "eS02XoF0QoFI"
   },
   "source": [
    "**3.Utilisons l’algorithme précédent pour approcher $\\boldsymbol{E}(x^5)$ par simulation (k =100)**"
   ]
  },
  {
   "cell_type": "code",
   "execution_count": 7,
   "metadata": {
    "colab": {
     "base_uri": "https://localhost:8080/",
     "height": 0
    },
    "id": "ZZri13rcQoFK",
    "outputId": "b9cf4e7f-29f8-4f41-decb-34c94f01cf58"
   },
   "outputs": [
    {
     "name": "stdout",
     "output_type": "stream",
     "text": [
      "E(X)_Approchee = 8953871.960345784\n"
     ]
    }
   ],
   "source": [
    "E_X = []\n",
    "for k in range(100):\n",
    "    E_X.append(simul_norm(24,4))\n",
    "\n",
    "E_X_aproximate = np.mean(pow(np.array(E_X),5))\n",
    "print(f\"E(X)_Approchee = {E_X_aproximate}\")"
   ]
  },
  {
   "cell_type": "markdown",
   "metadata": {
    "id": "Do-Yx7lVQoFK"
   },
   "source": [
    "**La valeur estimée de $\\boldsymbol{E}(x^5)$ est moins precis avec 100 répétitions**"
   ]
  },
  {
   "cell_type": "markdown",
   "metadata": {
    "id": "vh0XpY-tQoFK"
   },
   "source": [
    "## Probleme 2: Méthode de rejet pour la loi Beta"
   ]
  },
  {
   "cell_type": "markdown",
   "metadata": {
    "id": "q1rLXPe-QoFL"
   },
   "source": [
    "**1.  L'algorithme permettant de simuler des donnees a partir de la variable aleatoire $X$ de densité $f(x)$, est** : \n",
    "<br>\n",
    "\n",
    "(a) Générer U1, U2 uniformement sur [0,1]\n",
    "<br>\n",
    "(b) determiner c = max( f(x)/g(x) )\n",
    "<br>\n",
    "(c) si (U2 <= f(U1) / c*g(U1) ) :\n",
    "        aller à (d)\n",
    "     sinon: aller à (a)\n",
    "<br>\n",
    "(d) Z = U1\n"
   ]
  },
  {
   "cell_type": "code",
   "execution_count": 8,
   "metadata": {
    "id": "8yP3rXNiQoFM"
   },
   "outputs": [],
   "source": [
    "# implementation de l'algorithme\n",
    "def simul_beta():\n",
    "    x = Symbol('X', real=True)\n",
    "    f = 1260 * (x**4) * (1-x)**5\n",
    "    fprime = f.diff(x)\n",
    "    c = solve(fprime, x)\n",
    "    f_v = []\n",
    "    for i in c:\n",
    "        f_v.append(1260*i**4*(1-i)**5)\n",
    "    c = max(f_v)\n",
    "    continuer = True\n",
    "    while continuer:\n",
    "        U = np.random.uniform(0,1,2)\n",
    "        Y = ((1260*U[0]**4)*((1-U[0])**5))/(c*1)\n",
    "        if U[1] <= Y:\n",
    "            return U[0]\n",
    "            continuer = False\n",
    "        else :\n",
    "            continuer = True\n"
   ]
  },
  {
   "cell_type": "code",
   "execution_count": 9,
   "metadata": {
    "id": "5_UJ9J9eQoFM"
   },
   "outputs": [],
   "source": [
    "def simul_beta_obs(n_observation=1) :\n",
    "    Z = []\n",
    "    for i in range(n_observation):\n",
    "        Z.append(simul_beta())\n",
    "    return Z"
   ]
  },
  {
   "cell_type": "markdown",
   "metadata": {
    "id": "P3aPyg3iQoFN"
   },
   "source": [
    "**2.Simulation a partir de 10000 observations et représentation graphique**"
   ]
  },
  {
   "cell_type": "code",
   "execution_count": 10,
   "metadata": {
    "colab": {
     "base_uri": "https://localhost:8080/",
     "height": 483
    },
    "id": "22cGuhsYQoFN",
    "outputId": "4e9926fb-3e07-49c9-823a-de6e9b002ae2",
    "scrolled": true
   },
   "outputs": [
    {
     "data": {
      "image/png": "[encoded data removed]",
      "text/plain": [
       "<Figure size 720x576 with 1 Axes>"
      ]
     },
     "metadata": {
      "needs_background": "light"
     },
     "output_type": "display_data"
    }
   ],
   "source": [
    "# simuler 10 000 observations\n",
    "from scipy.stats import beta\n",
    "simulate = simul_beta_obs(10000)\n",
    "data_simul1 = np.array(simulate)\n",
    "mu, std = 5, 6\n",
    "plt.figure(figsize=(10,8))\n",
    "plt.hist(data_simul1, bins=100, density=True, alpha=1, color='c')\n",
    "xmin, xmax = plt.xlim()\n",
    "x = np.linspace(xmin, xmax, 100)\n",
    "p = beta.pdf(x, *(mu,std))\n",
    "plt.plot(x,p,'r', linewidth=2)\n",
    "plt.show()\n",
    "#plt.savefig(\"./figure/beta.png\")"
   ]
  },
  {
   "cell_type": "markdown",
   "metadata": {
    "id": "9o4r7bQGQoFO"
   },
   "source": [
    "Comparaison : Notre simulation suit bien la loi beta avec $\\alpha = 6 \\,et\\, \\beta = 7$ "
   ]
  },
  {
   "cell_type": "markdown",
   "metadata": {
    "id": "ggwB1SHrQoFP"
   },
   "source": [
    "**3.Estimons P(0 <= X <= 0.70) en utilisant la simulation précedente avec $N=1000$ et $k=100$**"
   ]
  },
  {
   "cell_type": "code",
   "execution_count": 11,
   "metadata": {
    "id": "AlfxW49MQoFQ"
   },
   "outputs": [
    {
     "name": "stdout",
     "output_type": "stream",
     "text": [
      "P estimé est : 0.9531999999999995\n"
     ]
    }
   ],
   "source": [
    "N=1000\n",
    "k = 100\n",
    "p_ = 0\n",
    "for i in range(k):\n",
    "    data = np.array(simul_beta_obs(1000))\n",
    "    p = data[data<=0.70]\n",
    "    p = len(p)/1000\n",
    "    p_ += p\n",
    "p_ = p_/100\n",
    "print(f\"P estimé est : {p_}\")"
   ]
  },
  {
   "cell_type": "markdown",
   "metadata": {
    "id": "CZbf5iwYQoFQ"
   },
   "source": [
    "**Après simulation on obtient donc $\\boldsymbol{P}(0\\le X_i \\le 0.70) =\\,$0.95319 à $10^{-5}$**"
   ]
  },
  {
   "cell_type": "markdown",
   "metadata": {
    "id": "FRGge_SuQoFR"
   },
   "source": [
    " 4.Estimons $$\\boldsymbol{P}(0\\le X_i \\le 0.70) = \\int_0^{0.70} f(x)\\,\\mathrm{d}x$$\n",
    " <br>\n",
    " par la methode de Monte-Carlo\n",
    " <br>\n",
    " \n",
    " On a :\n",
    " <br>\n",
    " $\\boldsymbol{E}(x) \\approx \\frac{1}{N}\\sum_{i=1}^{N}\\, x_i = \\int_0^\\infty x\\,\\mathrm{d}x$\n",
    " <br>\n",
    " par analogie\n",
    " <br>\n",
    " $\\int_0^{0.70} f(x)\\,\\mathrm{d}x = \\int_0^{0.70} 1260x^{4}(1-x)^{5}\\,\\mathrm{d}x$ <br>\n",
    " $\\hspace{2cm} ~~~~~~\\approx \\frac{1260}{N}\\sum_{i=1}^{N}\\, x_i^{4}(1-x_i)^{5}$<br>\n",
    " donc :<br>\n",
    " \n",
    " $\\int_0^{0.70} f(x)\\,\\mathrm{d}x\\approx \\frac{1260}{N}\\sum_{i=1}^{N}\\, U_i^{4}(1-U_i)^{5}$\n",
    " <br>\n",
    " où $U_1, ..., U_N$ un échantillon généré de la loi uniforme [0,1]."
   ]
  },
  {
   "cell_type": "code",
   "execution_count": 12,
   "metadata": {
    "id": "3tnEbC3vQoFR"
   },
   "outputs": [
    {
     "data": {
      "text/plain": [
       "0.951882750473169"
      ]
     },
     "execution_count": 12,
     "metadata": {},
     "output_type": "execute_result"
    }
   ],
   "source": [
    "n=1000\n",
    "k=100\n",
    "P = 0\n",
    "for i in range(k):\n",
    "    S = 0\n",
    "    for j in range(n):\n",
    "        U =  np.random.uniform(0,1)\n",
    "        if U<=0.70 :\n",
    "            S += U**4*(1-U)**5\n",
    "    S = S*1260 / n\n",
    "    P += S\n",
    "P = P/k\n",
    "P"
   ]
  },
  {
   "cell_type": "markdown",
   "metadata": {
    "id": "8PUzo1UgQoFS"
   },
   "source": [
    "**Après simulation on obtient donc $\\boldsymbol{P}(0\\le X_i \\le 0.70) \\approx\\,0.95188 ~\\,à \\,10^{-5}$**"
   ]
  },
  {
   "cell_type": "markdown",
   "metadata": {
    "id": "nDfeOl-cQoFS"
   },
   "source": [
    " **5.Estimons cette probabilité en utilisant la methode de trapèze** \n",
    " <br>\n",
    " \n",
    " $\\boldsymbol{P}(0\\le X_i \\le 0.70)\\approx h\\left[\\frac{f(b)+f(a)}{2} \\,+\\,\\sum_{k=1}^{n-1} f(a + kh)\\,\\right]$\n",
    " <br>\n",
    " Avec $a=0, b=0.70, n=100,$ et $f(x) = 1260x^{4}(1-x)^{5}$"
   ]
  },
  {
   "cell_type": "code",
   "execution_count": 13,
   "metadata": {
    "id": "wsyS8SV0QoFS"
   },
   "outputs": [
    {
     "data": {
      "text/plain": [
       "0.9526181345288662"
      ]
     },
     "execution_count": 13,
     "metadata": {},
     "output_type": "execute_result"
    }
   ],
   "source": [
    "a=0\n",
    "b=0.70\n",
    "n=100\n",
    "h = (b-a)/n\n",
    "P = 0\n",
    "for k in range(1,n):\n",
    "    P += 1260*((a+k*h)**4)*(1-(a+k*h))**5\n",
    "P = h*( ((1260*((b)**4)*(1-(b))**5) +(1260*((a)**4)*(1-(a))**5))/2 + P)\n",
    "P"
   ]
  },
  {
   "cell_type": "markdown",
   "metadata": {
    "id": "mbNF6kXxQoFT"
   },
   "source": [
    "**par la methode de trapèze  on obtient $\\boldsymbol{P}(0\\le X_i \\le 0.70) \\approx \\,0.95262 ~\\,à \\,10^{-5}$**"
   ]
  },
  {
   "cell_type": "markdown",
   "metadata": {
    "id": "dVhjTaLjQoFT"
   },
   "source": [
    "   **6.Calculons exactement cette probabilité puis comparons les résultats des methodes précédentes avec cette valeur exacte**"
   ]
  },
  {
   "cell_type": "code",
   "execution_count": 14,
   "metadata": {
    "id": "ksWikpaqQoFU"
   },
   "outputs": [
    {
     "data": {
      "text/latex": [
       "$\\displaystyle 0.952651012600001$"
      ],
      "text/plain": [
       "0.952651012600001"
      ]
     },
     "execution_count": 14,
     "metadata": {},
     "output_type": "execute_result"
    }
   ],
   "source": [
    "T = Symbol('t')\n",
    "f = 1260*T**4*(1-T)**5\n",
    "P_exacte = integrate(f,(T,0,0.7))\n",
    "P_exacte"
   ]
  },
  {
   "cell_type": "markdown",
   "metadata": {
    "id": "kOob4BXwQoFU"
   },
   "source": [
    "**on trouve donc $\\boldsymbol{P}(0\\le X_i \\le 0.70) = \\, 0.95265$\n",
    "<br>\n",
    "Comparant aux résultats précédents, la methode de Trapèze est plus précise par rapport à la methode de Monte-Carlo qui est mieux dans certains cas par rapport à la methode de question 3)**"
   ]
  },
  {
   "cell_type": "markdown",
   "metadata": {
    "id": "IdPDi7NiQoFU"
   },
   "source": [
    "## Probleme 3:  Calcul d’intégrale impropre"
   ]
  },
  {
   "cell_type": "markdown",
   "metadata": {
    "id": "uNePOWEwQoFV"
   },
   "source": [
    "   1. Montrons que : $$I = \\boldsymbol{E\\,[\\mathrm{e}^{- x(x-1)}\\,]}$$ où $X$ est une variable aléatoire de loi exponentielle de paramètre $\\lambda = 1$\n",
    "   <br>\n",
    "   on a :\n",
    "   <br>\n",
    "   \n",
    "   $\\boldsymbol{E}(x) = \\int_0^\\infty xg(x)\\,\\mathrm{d}x = \\int_0^\\infty \\mathrm{e}^{-x(x-1)}\\mathrm{e}^{-x}\\,\\mathrm{d}x = \\int_0^\\infty \\mathrm{e}^{-x^{2}+x-x}\\,\\mathrm{d}x$\n",
    "   <br>\n",
    "   donc, $\\boldsymbol{E}(x) = \\int_0^\\infty \\mathrm{e}^{-x^{2}}\\,\\mathrm{d}x = I$"
   ]
  },
  {
   "cell_type": "markdown",
   "metadata": {
    "id": "Wj1jvR37QoFV"
   },
   "source": [
    "  **2.Déduisons en que:**$$I \\approx \\frac{1}{N}\\sum_{i=1}^{N}\\,\\mathrm{e}^{-ln(U_i)(ln(U_i)+1)}\\,$$ \n",
    "  <br>\n",
    "  où $U_1, ..., U_N$ un échantillon généré de la loi uniforme [0,1].\n",
    " <br>\n",
    " \n",
    " on sait par Monte Carlo que: \n",
    " <br>\n",
    " $I = \\boldsymbol{E}\\,[\\mathrm{e}^{- x(x-1)}\\,] \\approx \\frac{1}{N}\\sum_{i=1}^{N}\\,\\mathrm{e}^{-x_i(x_i-1)}$\n",
    " <br>\n",
    " Posons : $x = -ln(U_i)$\n",
    " <br>\n",
    " $U_i$ suit une loi uniforme donc $-ln(U_i)$ suit une loi exponentielle, ainsi on a donc <br>\n",
    " \n",
    " $I \\approx \\frac{1}{N}\\sum_{i=1}^{N}\\,\\mathrm{e}^{-ln(U_i)(ln(U_i)+1)}\\,$"
   ]
  },
  {
   "cell_type": "markdown",
   "metadata": {
    "id": "u6Dff-5WQoFW"
   },
   "source": [
    "**3.Estimons I  et comparons avec la valeur exacte**"
   ]
  },
  {
   "cell_type": "code",
   "execution_count": 15,
   "metadata": {
    "id": "KGU4aY_KQoFW"
   },
   "outputs": [],
   "source": [
    "# Comparaison \n",
    "def integral_impropre(N):\n",
    "    U =  np.random.uniform(0,1,N)\n",
    "    tmp = np.exp(-np.log(U)*(np.log(U) + 1))\n",
    "    I = np.mean(tmp)\n",
    "    return I"
   ]
  },
  {
   "cell_type": "code",
   "execution_count": 114,
   "metadata": {
    "id": "r96sRUncQoFX"
   },
   "outputs": [
    {
     "name": "stdout",
     "output_type": "stream",
     "text": [
      "Valeur approximative de I: 0.8828842\n",
      "Valeur exacte de I = 0.8862269\n",
      "précision : 99.62 %\n"
     ]
    }
   ],
   "source": [
    "k=100\n",
    "for i in range(100):\n",
    "    I = integral_impropre(1000)\n",
    "print(f\"Valeur approximative de I: {I:.7f}\\nValeur exacte de I = 0.8862269\")\n",
    "precision = 100*(1-np.abs((np.sqrt(np.pi)/2)-I)/((np.sqrt(np.pi)/2)))\n",
    "print(f\"précision : {precision:.2f} %\")"
   ]
  },
  {
   "cell_type": "markdown",
   "metadata": {
    "id": "qBjSMSCMQoFY"
   },
   "source": [
    "**Après 100 répétitions, la valeur de I estimée est précise  à 99.62 % de la valeur exacte**"
   ]
  },
  {
   "cell_type": "markdown",
   "metadata": {
    "id": "SvqrB0jFQoFY"
   },
   "source": [
    " 4.Donnons une approximation de $I$ en utilisant la formule de trapèze.Avec a=0, b=2000, $I$ devient donc\n",
    " <br>\n",
    " $ I = \\int_0^{2000} \\mathrm{e}^{-x^{2}}\\,\\mathrm{d}x$\n",
    " <br>\n",
    " \n",
    " rappelons la formule de trapèze :\n",
    " <br>\n",
    " $\\int_a^b f(x)\\,\\mathrm{d}x \\approx h\\left[\\frac{f(b)+f(a)}{2} \\,+\\,\\sum_{k=1}^{n-1} f(a + kh)\\,\\right]$\n",
    " <br>\n",
    " avec $h = \\frac{b-a}{n}$\n",
    " <br>\n",
    " \n",
    " donc :\n",
    " <br>\n",
    " $I \\approx \\frac{b-a}{n}\\left[\\frac{e^{-b^{2}} + \\,e^{-a^{2}}}{2} \\,+\\,\\sum_{k=1}^{n-1} e^{-(a + kh)^{2}}\\,\\right]$"
   ]
  },
  {
   "cell_type": "code",
   "execution_count": 17,
   "metadata": {
    "id": "N_sffCLeQoFY"
   },
   "outputs": [
    {
     "name": "stdout",
     "output_type": "stream",
     "text": [
      "I estimé est : 1.0366315028478184\n"
     ]
    }
   ],
   "source": [
    "a=0\n",
    "b=2000\n",
    "n=1000\n",
    "h = (b-a)/n\n",
    "I = 0\n",
    "for k in range(1,n):\n",
    "    I += np.exp(-(a+k*h)**2)\n",
    "I = h*((np.exp(-b**2)+np.exp(-a**2))/2 + I)\n",
    "print(f\"I estimé est : {I}\")"
   ]
  },
  {
   "cell_type": "markdown",
   "metadata": {
    "id": "zw51rJu5QoFZ"
   },
   "source": [
    " **La valeur estimé de $I$ par la formule de trapèze est un peu plus grande que la valeur exacte de $I$ et moins précise comparer à Monte-Carlo** \n",
    " "
   ]
  },
  {
   "cell_type": "markdown",
   "metadata": {
    "id": "SvnWc1DcQoFZ"
   },
   "source": [
    "**5.Comparant à la question 3 et 4 , on constate que l'approximation de $I$ par la methode Monte Carlo est plus précise que la methode de trapèze.** "
   ]
  },
  {
   "cell_type": "markdown",
   "metadata": {
    "id": "Dmgglj0ZQoFZ"
   },
   "source": [
    " **6.En appliquant la même démarche utilisée aux questions 1),2) et 3), calculons par la methode de Monte Carlo:**\n",
    " <br>\n",
    " \n",
    "  **6.1  : $J = \\int_0^\\infty \\mathrm{e}^{-x^{3}}\\,\\mathrm{d}x$**"
   ]
  },
  {
   "cell_type": "markdown",
   "metadata": {
    "id": "k1Ai00YgQoFZ"
   },
   "source": [
    "   $J = \\int_0^\\infty \\mathrm{e}^{-x^{3}}\\,\\mathrm{d}x$\n",
    "   <br>\n",
    "   on a :\n",
    "   <br>\n",
    "   $x^{3} = x.x^{2} - x + x$\n",
    "   <br>\n",
    "   supposons que $J = \\boldsymbol{E}(e^{-x(x^{2}-1)})$\n",
    "   <br>\n",
    "   donc : \n",
    "   <br>\n",
    "   $\\boldsymbol{E}(e^{-x(x^{2}-1)}) \\approx \\frac{1}{N} \\sum_{i=1}^{N} e^{-x_i(x_i^{2}-1)}\\,$\n",
    "   <br>\n",
    "   $\\hspace{2cm} ~~~= \\int_0^\\infty \\mathrm{e}^{-x(x^{2} - 1)}e^{-x}\\,\\mathrm{d}x$\n",
    "   <br>\n",
    "   $\\hspace{2cm} ~~~= \\int_0^\\infty \\mathrm{e}^{-x^{3} + x - x}\\,\\mathrm{d}x$\n",
    "   <br>\n",
    "   $\\hspace{2cm} ~~~= \\int_0^\\infty \\mathrm{e}^{-x^{3}}\\,\\mathrm{d}x$\n",
    "   <br>\n",
    "   Alors\n",
    "   <br>\n",
    "   $\\int_0^\\infty \\mathrm{e}^{-x^{3}}\\,\\mathrm{d}x = \\boldsymbol{E}(e^{-x(x^{2}-1)})$\n",
    "   <br>\n",
    "   $\\hspace{2cm} ~~~\\approx \\frac{1}{N} \\sum_{i=1}^{N} e^{-x_i(x_i^{2}-1)}\\,$\n",
    "   <br>\n",
    "   $\\hspace{2cm} ~~~\\approx \\frac{1}{N} \\sum_{i=1}^{N} e^{-x_i(x_i-1)(x_i + 1)}\\,$\n",
    "   <br> \n",
    "   par conséquent : si $U_i$ suit une loi uniforme sur [0,1] alors $-ln(U_i)$ suit une loi exponentielle et on a donc \n",
    "   $$J \\approx \\frac{1}{N}\\sum_{i=1}^{N}\\,\\mathrm{e}^{ln(U_i)(ln(U_i)-1)(ln(U_i)+1)}\\,$$ "
   ]
  },
  {
   "cell_type": "code",
   "execution_count": 56,
   "metadata": {
    "id": "shElTfahQoFa"
   },
   "outputs": [],
   "source": [
    "# Comparaison \n",
    "def integral_impropre_J(N):\n",
    "    U =  np.random.uniform(0,1,N)\n",
    "    tmp = np.exp(np.log(U)*(np.log(U) + 1)*(np.log(U)-1))\n",
    "    #print(tmp)\n",
    "    J = np.mean(tmp)\n",
    "    return J"
   ]
  },
  {
   "cell_type": "code",
   "execution_count": 63,
   "metadata": {
    "id": "yeZrDIMYQoFa"
   },
   "outputs": [
    {
     "data": {
      "text/plain": [
       "0.8927836420432644"
      ]
     },
     "execution_count": 63,
     "metadata": {},
     "output_type": "execute_result"
    }
   ],
   "source": [
    "integral_impropre_J(1000)"
   ]
  },
  {
   "cell_type": "markdown",
   "metadata": {
    "id": "EvjJMJ2zQoFb"
   },
   "source": [
    "Donc $J$ tend vers 0.89278"
   ]
  },
  {
   "cell_type": "markdown",
   "metadata": {
    "id": "RWBn9EtlQoFb"
   },
   "source": [
    "**6.2.** $$K = \\int_0^\\pi \\sin(x^2)\\,\\mathrm{d}x$$"
   ]
  },
  {
   "cell_type": "code",
   "execution_count": 20,
   "metadata": {
    "id": "tY9E7vNNQoFb"
   },
   "outputs": [],
   "source": [
    "from random import random\n",
    "from random import uniform\n",
    "from math import sin\n",
    "from math import pi"
   ]
  },
  {
   "cell_type": "code",
   "execution_count": 21,
   "metadata": {
    "id": "ufpA6pUSQoFb"
   },
   "outputs": [
    {
     "name": "stdout",
     "output_type": "stream",
     "text": [
      "1.3131857292005336\n"
     ]
    }
   ],
   "source": [
    "count=0\n",
    "for i in range(N):\n",
    "    point=(uniform(0,pi), random())\n",
    "    if point[1] < sin(point[0]**2):\n",
    "        count+=1\n",
    "        \n",
    "answer=(float(count)/float(N))*pi\n",
    "print(answer)"
   ]
  },
  {
   "cell_type": "markdown",
   "metadata": {
    "id": "cxqnt-tEQoFc"
   },
   "source": [
    "**$K = 1.31318$**"
   ]
  },
  {
   "cell_type": "markdown",
   "metadata": {
    "id": "p1o8kxNiQoFc"
   },
   "source": [
    " ## Probleme 4:  Calcul d’intégrale double"
   ]
  },
  {
   "cell_type": "markdown",
   "metadata": {
    "id": "G7zOQOXyQoFd"
   },
   "source": [
    " ###  Réponse 1. Approximons $D$ en utilisant la methode de Monte Carlo et la loi  de grand nombre.\n",
    "$$D = \\int_0^1\\int_0^1 (x^2y + xy^2)\\,\\mathrm{d}x\\mathrm{d}y$$"
   ]
  },
  {
   "cell_type": "code",
   "execution_count": 105,
   "metadata": {
    "id": "IrJdsJ7PQoFd"
   },
   "outputs": [],
   "source": [
    "def integration2d(fonction,a,b,c,d,N):\n",
    "    U = np.random.uniform(0,1,N)\n",
    "    V = np.random.uniform(0,1,N)\n",
    "    try:\n",
    "        b = float(b)\n",
    "        d = float(d)\n",
    "        D = ((b-a)*(d-c))/N\n",
    "        somme = 0\n",
    "        for i in range(N):\n",
    "            somme += fonction((a+(b-a)*U[i]),(c+(d-c)*V[i]))\n",
    "        D = D*somme\n",
    "    except:\n",
    "        if isinstance(b,str):\n",
    "            b = U\n",
    "            somme=0\n",
    "            for i in range(N):\n",
    "                somme += (((b[i]-a)*(d-c))/N)*fonction((a+(b[i]-a)*U[i]),(c+(d-c)*V[i]))\n",
    "            D = somme\n",
    "        else:\n",
    "            d = V \n",
    "            somme = 0\n",
    "            for i in range(N):\n",
    "                somme += (((b-a)*(d[i]-c))/N)*fonction((a+(b-a)*U[i]),(c+(d[i]-c)*V[i]))\n",
    "            D = somme\n",
    "    return D"
   ]
  },
  {
   "cell_type": "code",
   "execution_count": 76,
   "metadata": {
    "id": "MWl3LernQoFf"
   },
   "outputs": [],
   "source": [
    "def f(x,y):\n",
    "    return x**2*y + x*y**2"
   ]
  },
  {
   "cell_type": "code",
   "execution_count": 120,
   "metadata": {
    "id": "8E2_zGUGQoFf"
   },
   "outputs": [
    {
     "data": {
      "text/plain": [
       "0.3334415361014927"
      ]
     },
     "execution_count": 120,
     "metadata": {},
     "output_type": "execute_result"
    }
   ],
   "source": [
    "D = np.mean([integration2d(f,0,1,0,1,1000) for _ in range(100)])\n",
    "D"
   ]
  },
  {
   "cell_type": "markdown",
   "metadata": {
    "id": "o2qIv6xhQoFf"
   },
   "source": [
    "La veleur exacte de $D$:\n",
    "$$D = \\int_0^1\\int_0^1 (x^2y + xy^2)\\,\\mathrm{d}x\\mathrm{d}y = \\frac{1}{3} \\approx 0.333333333334$$\n",
    "<br>\n",
    "et la valeur approché à $10^{-5}$est :\n",
    "$$D \\approx 0.33344$$\n",
    "**La valeur approchée de D est précis à $10^{-3}$ avec la methode de Monte-Carlo** "
   ]
  },
  {
   "cell_type": "markdown",
   "metadata": {
    "id": "ien8JVncQoFg"
   },
   "source": [
    "### Réponse 2: Experimentons la Methode de Monte Carlo sur une intégrale avec borne dépendante"
   ]
  },
  {
   "cell_type": "code",
   "execution_count": 107,
   "metadata": {
    "id": "EGUvmP1LQoFg"
   },
   "outputs": [
    {
     "data": {
      "text/plain": [
       "0.1663527355438837"
      ]
     },
     "execution_count": 107,
     "metadata": {},
     "output_type": "execute_result"
    }
   ],
   "source": [
    "DD = np.mean([integration2d(f,0,'x',0,1,1000) for _ in range(100)])\n",
    "DD"
   ]
  },
  {
   "cell_type": "markdown",
   "metadata": {},
   "source": [
    "La veleur exacte de $D$:\n",
    "$$D = \\int_0^1\\int_0^x (x^2y + xy^2)\\,\\mathrm{d}x\\mathrm{d}y = \\frac{1}{6}x^{2}(1+x)$$\n",
    "<br>\n",
    "et la valeur approché à $10^{-5}$est :\n",
    "$$D \\approx 0.16635$$ \n",
    "<br>\n",
    "par analogie a la loi des grands nombre:\n",
    "$$D \\approx \\sum_{i=1}^{N} \\frac{(b-a)(V_i-c)}{N}f\\left(a + (b-a)U_i , c + (V_i-c)V_i \\right)$$"
   ]
  },
  {
   "cell_type": "code",
   "execution_count": 108,
   "metadata": {},
   "outputs": [
    {
     "data": {
      "text/plain": [
       "0.1676746880933838"
      ]
     },
     "execution_count": 108,
     "metadata": {},
     "output_type": "execute_result"
    }
   ],
   "source": [
    "DD = np.mean([integration2d(f,0,1,0,'y',1000) for _ in range(100)])\n",
    "DD"
   ]
  },
  {
   "cell_type": "markdown",
   "metadata": {
    "id": "inOkl_Z3QoFh"
   },
   "source": [
    "La veleur exacte de $D$:\n",
    "$$D = \\int_0^1\\int_0^y (x^2y + xy^2)\\,\\mathrm{d}x\\mathrm{d}y = \\frac{1}{6}$$\n",
    "<br>\n",
    "et la valeur approché à $10^{-5}$est :\n",
    "$$D \\approx 0.16767$$ "
   ]
  },
  {
   "cell_type": "markdown",
   "metadata": {
    "id": "MqW-zRlGQoFh"
   },
   "source": [
    "## Probleme 5:  Estimation des probabilités stationnaires"
   ]
  },
  {
   "cell_type": "markdown",
   "metadata": {
    "id": "mZPYXdDyQoFh"
   },
   "source": [
    "soit $S = {1, 2, 3, 4}$ l'espace des états d'une chaîne de Markov de matrice de transition:\n",
    "$$ \\mathcal{P} = \\begin{pmatrix} 2/7 & 0 & 2/7 & 3/7 \\\\ 1/4 & 2/4 & 0 & 2/5 \\\\ 1/6 & 1/3 & 1/3 & 1/6 \\\\ 4/10 & 3/10 & 0 & 3/10 \\end{pmatrix}$$"
   ]
  },
  {
   "cell_type": "markdown",
   "metadata": {
    "id": "3WWJ9w0tQoFi"
   },
   "source": [
    "Rapellons que la loi stationnaire $\\pi = (\\pi_1,\\pi_2,\\pi_3,\\pi_4)$ est déterminée en résolvant le système d'équations:\n",
    "$$ \\pi = \\pi\\mathcal{P} \\, et\\,  \\pi_1 + \\pi_2 + \\pi_3 + \\pi_4 = 1$$"
   ]
  },
  {
   "cell_type": "markdown",
   "metadata": {
    "id": "JHC780v9QoFi"
   },
   "source": [
    "**2.montrons que le système précédent est équivalent à :**\n",
    "\n",
    "\\begin{array}{rcl}\n",
    "\\frac{2}{7}\\pi_1 + \\frac{1}{4}\\pi_2 +\\frac{1}{6}\\pi_3 +\\frac{4}{10}\\pi_4 =\\pi_1 \\\\\n",
    "\\frac{2}{4}\\pi_2 +\\frac{1}{3}\\pi_3 +\\frac{3}{10}\\pi_4 =\\pi_2 \\\\\n",
    "\\frac{2}{7}\\pi_1 +\\frac{1}{3}\\pi_3 =\\pi_3 \\\\\n",
    "\\frac{3}{7}\\pi_1 + \\frac{2}{5}\\pi_2 +\\frac{1}{6}\\pi_3 +\\frac{3}{10}\\pi_4 =\\pi_4 \\\\\n",
    "\\pi_1 + \\pi_2 +\\pi_3 +\\pi_4  = 1\n",
    "\\end{array}\n",
    " <br>\n",
    " on a :\n",
    " <br>\n",
    " $\\pi\\mathcal{P} = (\\pi_1,\\pi_2,\\pi_3,\\pi_4) \\begin{pmatrix} 2/7 & 0 & 2/7 & 3/7 \\\\ 1/4 & 2/4 & 0 & 2/5 \\\\ 1/6 & 1/3 & 1/3 & 1/6 \\\\ 4/10 & 3/10 & 0 & 3/10 \\end{pmatrix}$\n",
    " <br>\n",
    " \n",
    " en faisant le produit matriciel $\\pi\\mathcal{P}= \\pi $  et en ajoutant : $\\pi_1 + \\pi_2 + \\pi_3 + \\pi_4 = 1$\n",
    " <br>\n",
    " \n",
    " on obtient le système : \\begin{array}{rcl}\n",
    "\\frac{2}{7}\\pi_1 + \\frac{1}{4}\\pi_2 +\\frac{1}{6}\\pi_3 +\\frac{4}{10}\\pi_4 =\\pi_1 \\\\\n",
    "\\frac{2}{4}\\pi_2 +\\frac{1}{3}\\pi_3 +\\frac{3}{10}\\pi_4 =\\pi_2 \\\\\n",
    "\\frac{2}{7}\\pi_1 +\\frac{1}{3}\\pi_3 =\\pi_3 \\\\\n",
    "\\frac{3}{7}\\pi_1 + \\frac{2}{5}\\pi_2 +\\frac{1}{6}\\pi_3 +\\frac{3}{10}\\pi_4 =\\pi_4 \\\\\n",
    "\\pi_1 + \\pi_2 +\\pi_3 +\\pi_4  = 1\n",
    "\\end{array}"
   ]
  },
  {
   "cell_type": "markdown",
   "metadata": {
    "id": "pIcjaKXYQoFi"
   },
   "source": [
    " **3.Résolvons le système d'équations précédent:**"
   ]
  },
  {
   "cell_type": "code",
   "execution_count": 26,
   "metadata": {
    "id": "TFt-p6l0QoFj"
   },
   "outputs": [
    {
     "data": {
      "text/plain": [
       "array([[-0.71428571,  0.2       ,  0.16666667,  0.4       ],\n",
       "       [ 0.        , -0.6       ,  0.33333333,  0.3       ],\n",
       "       [ 1.28571429,  1.        ,  0.33333333,  1.        ],\n",
       "       [ 0.42857143,  0.4       ,  0.16666667, -0.7       ]])"
      ]
     },
     "execution_count": 26,
     "metadata": {},
     "output_type": "execute_result"
    }
   ],
   "source": [
    "P = P = np.array([[2/7-1, 1/5, 1/6, 4/10],[0,2/5-1,1/3,3/10],[2/7+1,1,1/3,1],[3/7,2/5,1/6,3/10-1]])\n",
    "y = np.array([0,0,1,0])\n",
    "P"
   ]
  },
  {
   "cell_type": "code",
   "execution_count": 27,
   "metadata": {
    "id": "frXHfzATQoFj"
   },
   "outputs": [],
   "source": [
    "x = np.linalg.solve(P, y)"
   ]
  },
  {
   "cell_type": "code",
   "execution_count": 28,
   "metadata": {
    "id": "emvxX99rQoFk"
   },
   "outputs": [
    {
     "data": {
      "text/plain": [
       "1.0"
      ]
     },
     "execution_count": 28,
     "metadata": {},
     "output_type": "execute_result"
    }
   ],
   "source": [
    "sum(x)"
   ]
  },
  {
   "cell_type": "code",
   "execution_count": 29,
   "metadata": {
    "id": "xDncPzWcQoFk"
   },
   "outputs": [
    {
     "data": {
      "text/plain": [
       "array([0.29, 0.24, 0.12, 0.34])"
      ]
     },
     "execution_count": 29,
     "metadata": {},
     "output_type": "execute_result"
    }
   ],
   "source": [
    "pi = np.round(x,2)\n",
    "pi"
   ]
  },
  {
   "cell_type": "markdown",
   "metadata": {
    "id": "ZPiFqs4CQoFl"
   },
   "source": [
    "**on trouve donc :\n",
    "$\\pi_1 = 0.29, \\pi_2 = 0.24, \\pi_3 = 0.12, \\pi_4 = 0.34$**"
   ]
  },
  {
   "cell_type": "markdown",
   "metadata": {
    "id": "YLZXHHaSQoFl"
   },
   "source": [
    "**4.Estimons par simulation la loi stationnaire**"
   ]
  },
  {
   "cell_type": "code",
   "execution_count": 30,
   "metadata": {
    "id": "cDLxCo42QoFm"
   },
   "outputs": [],
   "source": [
    "def markov_avec_p(k,P,x0):\n",
    "    X = np.zeros(k, dtype=np.int64)\n",
    "    X[0]=x0\n",
    "    for k in range(k-1):\n",
    "        X[k+1] = np.random.choice(a=range(len(P)), p=P[X[k],:])\n",
    "    return X"
   ]
  },
  {
   "cell_type": "code",
   "execution_count": 31,
   "metadata": {
    "id": "AhoUDX8EQoFm"
   },
   "outputs": [],
   "source": [
    "def table_markov(N,k,p,x0):\n",
    "    tab = []\n",
    "    for i in range(N):\n",
    "        s = markov_avec_p(k,P,x0)[k-1] + 1\n",
    "        tab.append(s)\n",
    "    return np.array(tab)\n",
    "\n",
    "    "
   ]
  },
  {
   "cell_type": "code",
   "execution_count": 32,
   "metadata": {
    "id": "J9BDp2vxQoFn"
   },
   "outputs": [],
   "source": [
    "from collections import Counter"
   ]
  },
  {
   "cell_type": "code",
   "execution_count": 33,
   "metadata": {
    "id": "fnCQUx4FQoFn"
   },
   "outputs": [],
   "source": [
    "def calcule_freq(tab):\n",
    "    freq = Counter(tab)\n",
    "    return freq"
   ]
  },
  {
   "cell_type": "code",
   "execution_count": 34,
   "metadata": {
    "id": "_JgyheSSQoFo"
   },
   "outputs": [],
   "source": [
    "P = np.array([[2/7, 1/5, 1/6, 4/10],[0,2/5,1/3,3/10],[2/7,0,1/3,0],[3/7,2/5,1/6,3/10]]).T\n",
    "N = 10000\n",
    "k = 20\n",
    "x0 = 1/4"
   ]
  },
  {
   "cell_type": "code",
   "execution_count": 35,
   "metadata": {
    "id": "ltK7uFArQoFo"
   },
   "outputs": [],
   "source": [
    "table_mark = table_markov(N,k,P,x0)\n",
    "tab_freq = calcule_freq(table_mark)"
   ]
  },
  {
   "cell_type": "code",
   "execution_count": 36,
   "metadata": {
    "id": "dWsLyHDbQoFp"
   },
   "outputs": [
    {
     "data": {
      "image/png": "[encoded data removed]",
      "text/plain": [
       "<Figure size 720x576 with 1 Axes>"
      ]
     },
     "metadata": {
      "needs_background": "light"
     },
     "output_type": "display_data"
    }
   ],
   "source": [
    "data_mark = table_mark\n",
    "plt.figure(figsize=(10,8))\n",
    "plt.hist(data_mark, bins=4,alpha=0.7, color='c')\n",
    "plt.title(\"Histogramme des fréquences des états \")\n",
    "plt.xlabel('état i')\n",
    "plt.ylabel('fréquence')\n",
    "plt.show()"
   ]
  },
  {
   "cell_type": "code",
   "execution_count": 37,
   "metadata": {
    "id": "Fb3rB3VPQoFq",
    "scrolled": true
   },
   "outputs": [
    {
     "name": "stdout",
     "output_type": "stream",
     "text": [
      "pi_1 = 0.29\n",
      "pi_2 = 0.24\n",
      "pi_3 = 0.12\n",
      "pi_4 = 0.34\n",
      "somme([0.289656, 0.240981, 0.12452000000000002, 0.34484300000000007]) = 1.0\n"
     ]
    }
   ],
   "source": [
    "# Estimation des proba\n",
    "pas = 100\n",
    "serie = [1,2,3,4]\n",
    "pi_estime = []\n",
    "for i in range(pas):\n",
    "    table_mark = table_markov(N,k,P,x0)\n",
    "    tab_freq = calcule_freq(table_mark)\n",
    "    tab_freq = {key:tab_freq[key] for key in serie}\n",
    "    pi_estime1 = [j/N for j in tab_freq.values()]\n",
    "    pi_estime.append(pi_estime1)\n",
    "\n",
    "pi_estime = np.array(pi_estime)\n",
    "test = []\n",
    "for j in range(len(serie)):\n",
    "    pi = np.mean(pi_estime[:,j])\n",
    "    test.append(pi)\n",
    "    print(f\"pi_{j+1} = {pi:.2f}\")\n",
    "print(f\"somme({test}) = {sum(test)}\")"
   ]
  },
  {
   "cell_type": "markdown",
   "metadata": {
    "id": "6QDk9BE5QoFq"
   },
   "source": [
    "**en arrondissant à 2 chiffres après la virgule, on a:**\n",
    "<br>\n",
    "\n",
    "**$\\hat{\\pi_1 } = 0.29, \\hat{\\pi_2 } = 0.24, \\hat{\\pi_3 } = 0.12, \\hat{\\pi_4 } = 0.34$**"
   ]
  },
  {
   "cell_type": "markdown",
   "metadata": {
    "id": "n9RIYQwPQoFq"
   },
   "source": [
    "**on constate donc que les probabilités estimées sont sensiblement égales aux probabilités théoriques avec une forte précision.**"
   ]
  },
  {
   "cell_type": "markdown",
   "metadata": {
    "id": "I7ofnGSAQoFq"
   },
   "source": [
    "## Probleme 6: Estimation du temps de retour"
   ]
  },
  {
   "cell_type": "markdown",
   "metadata": {
    "id": "XVdJyOp-QoFq"
   },
   "source": [
    "soit $ S = {1, 2, 3}$ l'espace des états d'une chaîne de Markov de matrice de transition:\n",
    "$$ \\mathcal{P} = \\begin{pmatrix} 1 & 0 & 0 \\\\ 1/3 & 1/6 & 1/2 \\\\ 2/5 & 2/5 & 1/5 \\end{pmatrix}$$"
   ]
  },
  {
   "cell_type": "markdown",
   "metadata": {
    "id": "tVMZJt_9QoFr"
   },
   "source": [
    "1.Expliquons que les états 2 et 3 de cette chaine de Markov sont transitoires. "
   ]
  },
  {
   "cell_type": "markdown",
   "metadata": {
    "id": "zK9MuiVmQoFr"
   },
   "source": [
    "![d.png](data:image/png;base64,iVBORw0KGgoAAAANSUhEUgAAAhAAAAHOCAYAAADJ3DBLAAAAAXNSR0IArs4c6QAAAARnQU1BAACxjwv8YQUAAAAJcEhZcwAADsMAAA7DAcdvqGQAAP+lSURBVHhe7J0HgB5V1b/P27fvpoeEhBBCDS303pGO9CZF+FAURUXUD0X+gPChgg0LYAERVBCkCUjvvfcWWnpv297dt//Pc+e9m8myKSRssuU8cDPzTp/Zuef87rllIiVFDMMwDMMwPgPR8tQwDMMwDGOFMQFhGIZhGMZnxgSEYRiGYRifGRMQhmEYhmF8ZkxAGIZhGIbxmTEBYRiGYRjGZ8YEhGEYhmEYnxkTEIZhGIZhfGZMQBiGYRiG8ZkxAWEYhmEYxmfGBIRhGIZhGJ8ZExCGYRiGYXxmTEAYhmEYhvGZMQFhGIZhGMZnxgSEYRiGYRifGRMQhmEYhmF8ZkxAGIZhGIbxmTEBYRiGYRjGZ8YEhGEYhmEYnxkTEIZhGIZhfGZMQBiGYRiG8ZkxAWEYn5FSqeRSmFwuJ/l8vvxLpFAoSHt7e/lXsE+xWCz/WgzbdD6Wp6vtOQf7cHzDMIw1SUSNV9fWyzAMaWlpkcrKSonFYu43DhznnUgkJBqNysKFC6W+vt7NA9mJbVgPmUzGTdmfFIlE3O8VBbEQ3je8P8dOpVLlX4ZhGKsXExCGsQIQDejswBEK8Xjczbe1tXUICxLbE5VAfHhYxjaIDS9IwEcUqqury0sWRx/CwiSbzbrz+X3Zxq83DMNY3ZiAMIxlgDBIJpPOaZNVfDWFjzC0trZKRUXFEoIgDBEK1nclJLwA8MfyhIVJGLZnHft0td4wDGN1YgLCMFYCogFUIdTW1rrfOHYS2QkxgYPvHB1ANJCIYnjRwG8vTjge835dOp1282zD1IsUzoOYQNgYhmGsKUxAGMYKEBYHCAMvBu699175+OOP5a233pIpU6ZIU1OTS7Nnz3bRB7ZlH9oqIDaGDBkiI0eOdKmhoUHGjx8vm266qZsSpfACo7P4oDokHKngesAiEYZhrClMQBjGMqB9AlUQMHnyZHn44Yfl/vvvl5deeklmzpwpX/jCF2TMmDGy2WabydixY2XQoEGuUSXiAMGA4wccPtUdc+fOdUKDNG/ePPnwww/l1VdfdSJkxIgRss8++7i0xRZbyPDhw90+dXV1LtrQOfLgq0AMwzDWBCYgDGMZ4MBvvPFG+ctf/uKc/nbbbSfHHHOM7LHHHs7h49Rx4t6R49Shs2MnsgC+GiIM1SEIlVmzZskDDzwgt956q0ydOlUGDBggJ5xwguy1115OUEA4EmG9MAzDWJOYgDD6PIgAHG043I/j7yr8z7Y4ebpvfve735W77rpL9ttvPznllFNkzz337IhGIBRIn2cVAlnR9/JATEybNk3++Mc/yuuvv+5ExsknnyxnnHGG661BNQmRCWA/rrumpsb9RowQpVjR66OhKNUn4WiLRTcMw1geJiCMfgUleJw0rz0leYQCjhdB4Zd99atflTvvvFPOOussOe2005yj9s6Z/dkWRxvu0rmyEJkIN44MO3zv2Kk6mThxotx0000uQnHEEUfIueeeK4MHD3bbcC0IBq4NEeAbdq4o4ahGWESEr80wDKMzVsQw+jR+ICfAQeMocdLeYXphwLLrr7/eiQIaOj722GPy4x//2FVT+G2A/XCwlNA53qoSFiEIGCINHt/1c5111pF9991Xrr76annqqadc74wddthBvvKVr7j9cfQk7qGqqqrjd/hYS4P78M8C2MfvZ2ULwzCWhUUgjD6NL9UjJAjJh50lTpbeEogE2jW888478uijjzoB4dcDx2Ce/Snph9s7rGqYn+P6Uj5ZkXMhCkg+a9LwctiwYe5cOHeugTYS//jHP+Siiy5yiSoWtgH2CwuTZeHPTxSC4zPvoxBWjWEYxrIw62D0aXyVAM7Qz9NeAHCOiIddd93VOdxXXnmlo10BjhVHjEOl/QQlexx32DF/3s6VY/sICedlSlprrbXcuRBBXAOw7Dvf+Y5r2EkX0l122UX+9re/uXU+isA9ryjh+zLxYBjGimARCKNP40vj3iF65+qrJS699FLXtuC1115z6/12PnLR3NzsnDoiIuxkOS4iw4uSVcU7+85Oe/78+a5rKPhtuA7O768TYfHGG2+49hrbbLON3HDDDW67FSEcAQGiHURgfKTDMAxjaVgRw+jTeKfrdTJO14uH5557Tn71q1+5aguWsw3bE6FAGOBEaZBIiZx1hPlJbIMT/7zEg8eLknBCPNBQ0lcxkDh3WDzQK2PHHXeUd999110bVRmML8H1Lw+OE+aqq65y087LDcMwOmNWwujT+NK1d6beMdINkpD/97//fTfwkwfn7D9qFXaizBOJIPnlOPhVBQEQbn/QOSESaEzJednWCyLOzXofJWDdokWLXLsIGn/uvffe8uyzz7p1y4L75fwcj2P86U9/csfh2IZhGMvCqjCMPg0OF+fsp4CYWLBggRs+mtEkcaI4TL++J+KjHiTmcfiICgh3vfQwfsU3v/lN+elPf+oGo6LnBkKEKQLJix+O5cUJ1TQbbLCB68K60UYbuXMZhmEsjZ5rMQ3jc6ArJ0ip/Z577nFdI1mPcOhqu56grREHEL5G5nH6OH/w4oHr9dfMENsMuf2tb31Lnn76abc9+/voCiIK0eRFiI84DB061LW7IPJhGIaxLExAGH0anCZO1Ttf7xj/+c9/yvHHH98ReegsIMLOeE3i218AUwSFvwcEBANhARGF8H0CUQSqMeih8eSTT7plVE9QZUE0AqEAHNMLCKIyNMg0DMNYHiYgjD4PztU7Vu+McZI41mVFH/y2axoaUSIauE4Ehb9eGnH6BqEIAKohwkKCfdZff30nIo499lh58cUX3Ue+/P6+d0dYeNAY85FHHumITBiGYSwNExBGn8eH+gHBwHcmqO8fOHBgeemSeOHgneqaBmfuIwSAMEBU0J6BeR+RIKrgxRLVNAgMepQwauUvf/lL182T6EPn3iPh9hPbbrutvPDCC+VfhmEYS8cEhNHnCTtfLyAYQGppEQYcsE9rGsSBb7/AmBSIIcQPYoHBrRADVEEQfYDw2A0s920eDj/8cNcz4xvf+IY7JutInaMzfJIcYUIvlaU9H8MwDDABYfRpcLgICB+FwFniHHGsiIml0ZMEBBA5IFLANTNP7xG/jmoM7pFog79PnD/b+zYSjGdx4YUXyoMPPui6erIuHHnwYgFhsu6668p77723ROTGMAyjMyYgjD6Nd4KUtAFHieP1v3s63sn7SATi4Te/+Y0ceuih8sUvflEuv/xy1xiSSATRBy+KiC6A35/7Rhw89NBD7jPlfPeDY4ajD36edhMff/yxCQjDMJaJCQijT4NjRSx454uTxFmGqzV6Azh/4D6+/e1vy8033yw//OEP3XcwttpqKznzzDM7og3cJ9v7wbN8NQWCYL311nP7UZXBc0BwELlgHpjn2yAIDc5lGIaxNExAGH0eLxZ8iZpvPTCQVG8gHAXwTp5Iw+jRo2XzzTeXv/71r/LBBx84sbDxxhvL3//+d+f4aWTpG1KGxRIi43vf+57MmzdPHnjgAbeM6hy2oYsn88OHD3ffxEBMGIZhLA0TEEafhtK4xztgvmQ5Z86cXlON4eH6qXZgisPny6G+Uehf/vIXue222+Syyy6TU0891W3D/fkGlrT7ICrhu30yZDWfMEdIsQ78Okaj5FsaPuphGIbRFSYgjD5NuCGk775Ig0J6GvieCz2ZcAQCscD9ICIQRkwRCEQjmDKGwzPPPOOiDFRr0M6BNhD02vDVEYgFohNse8opp7ihrnkuCA6mHJOPcSFKfHsKwzCMrjALYfRpvGgAP49jZBClGTNmuN89HSIJPnpC5AExQArfG0IBcUEU4ZZbbpHzzz9fDjroILnxxhvdeoQIgomoBVUTCI7f/va3bkROqis4B+s5JseiSiQcvTEMw+iMCQijz9O5qgJHu80228hLL71UXtJzwaEjeIgMdFXlgrP3VRtEVXxXzkMOOcR9FOviiy+Wc845x7VtYDuiE4MHD3bbcGwGl+KLpMwTqWA54034rqGGYRhLwwSE0efx1QB+Sul9jz32cEM29wYQPL4qBhHhowPcD7/9OgaW8uNbsG7ChAny2GOPuSGst9hiC7ePb+fAtsCnv59//nl5/fXX3W+qN2hcudNOO1kVhmEYy8QshNHn8eF/HKif32yzzTqcZk8GIUB0gQgBEQFfheEjE/wm8sBv8B/I4psXVEnwdc3bb7/dtXcYNWqUq9LwkQyqMXgeRChoC8FxECD05GCcid7QRsQwjDVHRA1IYFENo4+Cw8TR8qpTWmeK82Q46zfffFPWXnvtju1Y552xd9y9GUSTFxpEI84991wnDH70ox/J0Ucf7bZpbGx0g0cReaDKg+2vvfZa19jUMAxjaVgEwujz+KoLDyKCtgO77babPPfccx3jHfgSPvQF8QBEKxAIiAaqbe6++2654IILXENLngNtQY444gjX/oEqjzFjxrgIhO+pYhiGsTQsAmH0eajXZ0wDH4nw8E2Im266Se66665PCQa6O9JjoS9AtAWB4NtKeFg+ZcoUee2115zIIjoxadIkt45vbTBehmEYxtIwAWH0eYgwULdPOJ8SuYexDsaPH+8GlaKE7hsWQl8SEMC9g79/X11DlIH75P5333131/1z3333daNYdhZchmEYYawKw+jzdC55A86TIZu33nprue666zrEA5EI6CujMPpqCISDFw+IBcQBERfEA9sQoTjjjDPciJb+k+BWtjAMY1mYgDD6PDhKnKHvlsi8bxdx9tlny69//Ws3D6yjm2Q4UtGbQQxwr1TjUGUBiAW/nISYgMMPP9y1CWFgKfDPyDAMoytMQBh9ns7heESCn99rr73c+kcffdT9Rjj0pZI34gnhRESFe0NIIJB4HggE1tFgkt90/aQh5fXXX+/27SpyYxiG4TEBYfQrcJpeIOA0cZJHHXWUa0yJYwVK6H6+t0PbBx9hQDQhJBBMzPsIA9vwmwgFXTtpG4LQ6CtRGMMwugdrRGn0e2gwOXDgQPeJa0rh0LnBZV/FRyGY0v6DBqcMOMWQ14ZhGMvCIhBGv8Y7UAZQuvDCCzs+bY148CX0voyvpmBKZII0cuRImTp1akfkwjAMoytMQBj9GsQD4fuTTz5Z7r33XheF8I0NfY+M/oAXEgywxXcz+Cx4fxBQhmGsPCYgjH4P0Qa+GbHPPvu4Lp3hUnlfh3ukFtOLBcTUdtttJ08//XSfGInTMIzuwwSE0a/BceI0ERFnnXWW+9jU9OnT3br+4kCJtISjDVtuuaX70Fh/EFCGYaw8JiCMfg2O0zvKjTbaSI488kj5wQ9+4H73F4hA+GfA8+DDWpMnT3a/DcMwloYJCKNf46MMjM4INKZ8//33XXuI/tQGgigMICCozuGz4NZByzCMZWECwujX+J4GjP1A40mqMuiNwQiVJcL6zokS3i+V/yvDjCa/FqlBcuv5h8OWOzEEe5dhxidH8KPktvKpvHOJpL+Lug3X4VPHAZaSOrYr6lGC/4ruuCzvtKlOJFL+3oX+iGqqrKjQZ5FWUdUWLDQMw+gCExBGv4aSt48+MPYDJXCqMTbffHM5/7zz1H+qEy/mpS2TVhdcksbmpsCl8o8mJnymin4bHMVpBnx1RtdkVVRkS05YsCjHMmbQBBndK5+XfC4rhVJej1PQxJYcTXcsqPPOpnWqR/SpqMmJCk3uTOxTTiXdr6ipoCm0Tbv+11hq1qNyDpUpet5im64r6wl3qfmIOzy/6ZXCvgMH1kpLmi6t3KFhGMansYGkDEMJDxzFYEoIie2331Z++Yufy9577y3JVIVks3lJJioCn4rz1VSIBy4f148a17USL+gKFQ5Cu4JUROa3Z6S2MuXWNy9qkqpUSlKppB5D3beLFqAo1INTZcI8ThxKun+GIyssi2mK6jKaK/iE54/Hgnlwx9LEuZMxKUSRF1FJim5T0lTUC9ZT5lWjtOv5quriktUb4NY5azGfk1g8Ig211TJr9mypqOKLpOXrMQzDCGECwuj3kAVoREh1BhEJ//nvX/3uN3L9Lf+Ue+++W+qjKamqUGdaUMdcUAddEZW0CoVIIuJK8VQCkJwEwYmzVI9ZVOe7qK1VCrqyMlmtv4uSL7ZJsalVBtcMEGlRT15Chej2CxaJfPSxzHzvfflk0seycOF8Sbc1u+qE1uYWybS3uyoGvhxaU1srqapKGbPBOBk6eqSM2GRDkbGjRWqrggvB5yM6onpF7YgQxENE2jI5iVdVS6IKqaOQ+3UzBu4O4h9ZqdJtG2JxaW3XpbQRKTewNAzDCGMCwujX0FDSN6SkDQQDKcHChQulZkCDnPydM6RlUaPc9debRAj942WT6lzTrZIaWO2iD4BwwG8jGWjPkNV/3X9aoq+MJ52fnj17ptSrMKmsqNGT6Z7FmGRfek3ef/E1ee3Z56Rx3jwZNmyYjB03VgYOHSIxPc/g4QMlVZmSWKUKg2RK99EjtSFAEBbtMm3mDJk1d458PG2KzGtaJDWDGmTTCVvKTrvvKtH1VVQUk3rNet1Vum9clYIKnrb2jCTiCYlFYmoA9MLiMcmrSMi5KxYnWtYbNkIaFzUH4sH0g2EYXWACwujX+GhDOp12JXs/JVtk1XHOK7bJ7rvsJpd86/ty5F77S6K2XoT2C1UqGfT/vG7jfLCmIBZRdK0N2t18SUvzJcnMna+igeiFbkU7iKmzZeHjT8mdd9wh8doqGbfleNl4p22kbtQwaY4WpLmYlXh1pVQ11EtzJiu5ogqSXM6JHRp2xiNRPR/VElGhYiSRL0m0LSeF5rQ0zZwrMz+ZItM+niSNM+fIgTvvKWudeKzIwLi05RZKcmCDuzLJqIigOoZqExUTbiFiIRqXl15/TY7/ymnyyouvSKXeVSCvDMMwlsQEhNGv8dUWHto+sIz2EIvSrRKrqpYps6bLnlttLzdfe73ssvV2Eq+rCaoIKJkHYQf2LCfaHCAiiurgSxJpVbFB/QWhitffkQduuEkmvvmOGy561/32EdlorK7IyMJITpoTKloqYtIeLUk6n5W2bF6isSqJJyuloir4iibkVVRk21SitGdlaG2DEw8xTRW5kiSyeg3pjGQaW6Sg6ZNXXpXnX31Rtjp0b9n9zFNFkrq+mFHxE5d8e7seW49JNQfXV9Kbiiflyj/9SZ546zX5wx+ukjq9OaIrhmEYnTEBYfR7+IBWXV1dR0NKBAQ9MyqrqlQM0I6xKM89/7yccvLJ8sDd/5WhDQNk8ODB6snVGVMtENFpTJOrD9ApyVU16GyjTj+ZJg/+7Vp57t03ZLcvHii7H3aQtFfGZG57q7SrtsjqfkXXXiIitMWIx+IS4xsdpbjE8ykpZFRYZLNSIFqgpNTpVyRT7lqbm5vdMj+apm8ImtNti1kVGa2NUquC46nrbpZP3npLjjn1BBl51IEitUXXphL1E0EN5fUH4ZRkhRz/pZNk9y/sJ6ederKLPqCVDMMwOmMCwuj34IRramqc8w63g2hpapFUVB11VUIy6kWv/ut1cun/XeLaK9Sra62qb9BSe1k4xJlqIjv5Xhha0H/l57+XTyZ+JIM3Xk92OuJAKQ5vkPcWzpJm9fOJAXXSpsIgElXnLzFJRuNuGikUpZCjvUVJKqIVEldPj6CIOmevp8gXnMghWhKJx2gb6dp25vQ68oiRWETFgQoQlSRVek21LRkZ2RaV1vc+lEceuFdaolnZ5fiDZdQeO6jy0B0jenOuIacePFEpE7bYWn7/mz/IzrvvvDjSYhiG0QkTEIaxNAgmNGupvyouLeqso6mo3Hjbv+X73/m2vPDgozJu3bGBYMDBamlf6JqJeFjYLLKgRX574U9kzIQtZN0tNpUR64+VTCIijcWcFCuSUlAHn85kJRGLO1kQVRXAfyWSi0bo6aMqJKI5/V1wvS9IMZKuZOoCHmXo8YmQ8InfCVUVNRk9VltGIpUxWXtAg+QmTZdnbvuPNH40WdbfeAPZ8jtniFRG9f7aJV5RL2+//pYcutdBMn36HD2IHphaExepMAzDWBITEIaxNPDi1BqQKkXmNDdLbV2t3PDP6+VH55wjzz7ymKy//gYirWkVDxUiTa06rZKP775Xbr7metn3qMMlOWEjSY4cJhWVldLW1uZ6QMTjCS30xyWXL7h5FAiiAfHgnH9ZSBSjeSnG2nRdXn8FIBqY7zyFsKCARDEqldmYRBNxmZltdFUa4xuGSEMuIouefElefOJJmd6yUL588Y9F1hku9MY49cQvy6477i6nHPMliTU06DI9kNVhGIbRBbELGbfXMIwuKeWLbqwHSuPVqZS0NjXK9ttuK6PWGy3HnXi8bLDuGNlw/KblgRSi8swfr5UHVEB89RtnytidtpfWQbXSlkpKPpOXUjovFZmIVBfiUlVKSEU0KaVSRApRUlR3x1NHVQhEJa6pIh+RWj1uTTai8zFJFGISK8X0Uqi2oOtlTArlxDIaNcSKMYlrSmji98JcRmIVKRlUXSdJVSeLWlukkIxKYq1BMnj0KElkSnLbFX+W7SfsooqjVua+/bYcdeJxUjVikItK0N0zqDgxDMNYEotAGMayIHdoKrS0SayqUv170aXG9hZ595235IQvHinfOP4UOefrZ8t1l/xcHXxETvr611yPzWmFjCwcWCPNeoBUQYWDFucrVBgkNLn/EnFpK+RVOETQHioKgshDRI8R1RQvFnU/xpEsBeNX6TZs5xPLiFh4fDUHicWFiMqK2qQsmjdPGiIJqauokEXNi6RUzMvg+loZIkmpmNMibz3wmDz78KPylf/9nsi2mwTDaaZoEqGCRBJ6fqvDMAzj05iAMIylQMagF0ZRnXwyoopAHXrr/LlSPXhg0BBBs86iSdPkpEOPlMLcJjnykMPkf757tjS3tUhy5FCZ0rRIslqC5xsZNHaMJxLCMFP5dnXNjO2kx0wwDAOaRE+GeAjEQURy6rOLEZUOpZguJSoREgdcGJQFBEKC/XJhcaGJqo9oJCuFtlapiVdIFVIgnZWGFA0zSzJ/1iwZ2tAgyUJRXn/ySXnykYfkBz86V2TcaD1Yi0h9vZ5D1QT3bhiG0Qk1M4ZhLI1CqSDRWEymTp/sRIMTDyoopKVNZO4iaRg6Ug7dZz/ZcJONZX42ralFppXaZZI64JZEROLRqAoFyvERKfBRrkJW2iI5aVcF0Z4oSnu8oCKjIHn9XaDNQ7TgHL9oKmrK6TkzmpjmXaNKlSAROnxqKhVVUBQlFkpRXe6SW1eSXLpdqiurpaauTkqxhLRni9KSzklWFUZFwyBpq6qUt+bNlB2/dJRM2Gd3+e4Pzhb58AMRxofI6nXQHdUwDKMLLAJhGEuBjJFXpx+hfYIUnNMutLRIVUVVMKJkTuSv5/yvVKlzPuTE46Ri7eHyfuM8ydZUSMWwwTLpg49lZLzGVVvwzcys7k90oJSISTGubp5IgTsLGRF9ElEREEQZCHAAEQaS/h8QbN7xm/2Y75iW54GGmZW1tdKcTktLc9o12KytqpVSQUVILi9VqaQUcu0SLWalQk/cOm+WzPvkQ3nmvnvlnB/+SGToMJHqepF4KjigYRhGCItAGMZScH44GpfmTKtrBUAFRFVNSgqzZoq0ZuW962/UUn1Mjv3G12VuLifvzZwpERUTbSo4Jk6eJAOHD1UlEAsGeYrH3TgPFbGEVCVTbjjqTDbnxm7Kai7M6gkycRUZ6shpu1B0KgBVgHAJIhJEJuiZUYjlJV9OzLNMNLFdrJSXuKakCp9koSCzpk6TlJ53YF29JKI0tqTKIyKt+Zw05bLSSuSivlZmNDdK5bAhMm6LzWX98ZvK1RdeospFL0qFhvt0J18L1b3LV+VSB3qMxZ8QD7ZB/5CW2M4wjD6FRSAMYykwrhKDSSIeqgs6V9IlxXZdoQ74Xw/KzbffJYf+/P/J/IqUluJVXkRiktGNEQGZeND4sTIXlTiNFPR/73gZo8FHFpj3GVBnO9o4MHVrIrSa8FsE24fx0QYWMx+e0iiTj2TxK050QxM9PDgGPT/yepJ4VVKamhdKRTwqVSo4hqiwmfvORHnrkSdkWEOD7PqNr+j+CBS9sdoGd49oikRcj6oKIcLJVLA48cCpVKwUhBRgvUANo+9iedswlkLgeqlmwIHqXDqt6kC95qJmufOuO2X/Yw6X1kRUE8Ihoc46oa4+rs5fRUPZYdNagS6aBXXMrlGkJrJdsE1UEoWoJMuJ+ZguY12QNTXpvGtEWU6sCye/nG05NufwXUIRD3pIJ1SAPh5BW4mSCglkSUkWtjRJ9cABElURlFYBkY/EZaMttpJtdtpNXnvtDUk/8YQeQOVAZVJaWxr1nHogHocuyuvURUromUIUgs+c6x1zXObY1DCMvguWxzCMLiDyEFOnWqFzWYrb5Jb2mDz166slvt4IGbLLBF0Qkapc0GYBR43DJrGpiybodI2hJ3cRDk1cm3foQYSiFFyfpnw2J5n2jPsqaXNbWhpbW2TMZuNlu512ktv/9e/g0+N6/6naGvSBpFQ4MI3rA1JJJe0clIO7k2hSgn8Nw+jLmIAwjKWAE6zSf5PqLdO5NhEaTz72vLzz0huy+5eOlulxekro+kIw1JIreatHxpe6gjkOeg26Uq7DjWipl+CFhL8cd326traqSjLpNvep8FgyIdlSUabMmSUZveftDzlIovGkvHPXPaoyiK1wEN2Z4a1VQFA7ktMFOXdQ1pUPrmBYEGCLlxiG0dcwAWEYS6PcPCjX3CINCRUP+Yhcd+Vf5MjjvyT5wfUyh66X6kURCq5CQL0yVQNuOCi3K07VHWINEYiH4EufgX/ncnDqXDMJUVBdUSnVKiTmL1joogxDx4yWaYvmSzrdIgccfaTcetsdIhnda35zcAC1GsUWYg8B7hapmkFR6PH4z0Vv3C/DMPoqJiAMY5kUJRFTV9gu8sF/HhCpqZZBu+8sTeo200W6ZdK+QR205iQEBGMvBF0wy67TTXCxK5NWjeAoyBmd6nUwHyxfLHKKjPVQoKeHSLq9TSSZkLiKiEWFnLTEo9Kw4TgZt9HG8twf/qrWolq3zUqulJdovQqqQl74koeLTCAe9Fkw5Vg0i6DWx53cMIw+iQkIw1gazsNmNJeogJg4U16/5zHZ86RjZHa2SeKpSonno5KLRqRdvWhWVQOOOVEkBbsjLIIKjVVJq0ZZKuhcICSISAThkUDsUI2RbW+X9raM1NQ1SEsmI1PnzZHUwAGSGDZIJqUb5bDjjpdXb7lPZHar27cxllXVoMdQ66EyQlIcP6Y/EsEwVpwiOBkzhmH0VUxAGMZSUS+opXBK6PLeJIk0tsmgzTeSOVUxmTe/UQZW1ks+EnVdN2k4SZGbIaLjbvTGwGGvaQLpEIgIF4VQAbD4unS+UJQKxqWIxaS2tk7ac3nJ6rYNaw2X92dMk3RFQiqHDJHtNthMFtx0m1qMiBtPorm92c1TDcJg23RaZSQKzlPWJ4uTYRh9EhMQhrE0aAPB+AYqIJ65+XbZZbsdpb2+RuYlo1JZUSeltqKW6OkyqQ7UOWaqBRb3bgjc96pRWVUp7e3tUqS6JJ+XaDTqUoToBte3DDj74mtZ7M+DRpWs4P9AROhRpbU1LfFEUmIqKGYvWiQVDQMkn6qQ1lxWtt55Z3npuedEFiyUSt0n2040olg+KG0sguiDMyjl87kLWPVHYBhGD8UEhGEsDRx0W7vIvPnSmG6WYZtsJLNbWyRZ1yCFIqF6av+9h8QhqzMuJ5bzRc1V9aALFiyQZDIpNTU1MnjwYHXyrU48+LQs0Ai+saTfMmhUWRYRZU/POq6Xr4BiEqjYcONJRGISiSelhQjM+qOkLV6S4qy5ksxmZVBVtW6rAkItCI00oRyECQREcCjDMPowlsUNY2lQFZEpytwXXpDi8DqRDUZJIV+SVDEhkWSFZNXJRlVIxNW/MjgTnjOn3prvXeC8+bR34JRXPtXW1EoqlZK5c+fKhx9+KFVVVR3Rh3h82V/J5AiImOA6gmUIB/dp8HJyl6dbsj4QEeWBqfgKqCYGtspxnjGDJLnBSPng6RdE5jM+J6ajKG16z21uT3FfFXVDUDLlEGHlYhhGn8MEhGEsDQSEOtRnHn5YRu2wubQl8lJTUy/ZxnaJJSrVT8acg06oV3bOU5fkYoGIwHfSGyPwn/y7MonBL9MurbvuujJy5Ehpbm6WyZMnO1HR1NTktlkaiBf3gS69Dq6HQ7rog/4oaKLnCJfdEYlwQkOTrnCjXGrK50ruWxlzou2y7o5byssPPqpbpkTyKAUVS/ovycHBggO6KAxjRNC01DCMvokJCMNYGgV1fs1pmaYl/+HbbiJT1IkS3q8oxCXXnpdYLOmGo0Y8BBEIcQIiHwvcvxMQq+g/iTYgFqZOnSrPP/+87Dxhgvz2t791VRv19fXlrbrGX0PwDQxaOyAgAvHgks4jJnSVu06d1fsgBcLDCQg9SiYZl+mltAzZYB1pnDZDpLFVj4Ts8P07nGYIKAsILyw6lhuG0ecwAWEYSwPv98lUaaiuluKAaknXJGV+S7P7JHamuV0qIkmJqqPF8ZLYwQ1lrd4Yh4wzxrmuCoMGDZJEIiELFy6UCy64QKI1NTJt2jSp46ufbVQlLAN3DVRhLM7oiIWOKgy9aP/VT64zuI9APBCB4OrzST13rl0KqYRE4jEZPWSoyLvv6bqiCoS8G5SyPDBlcJLgcC7ywKfK+WkYRt/EBIRhLA31fvm335EN1xsn6VJBMqmYtMUiktPlVSoeEpmic7qBk9R/KdHrXNCokHYBwXRVmDRpkrz44ovypS99SSa9/bYUm5tlwoQJMnPmTKmtrS1v1TXu7HpZXCNTfnOtiAhXlaHJ/wYmCAgvIriP9mRUmkt59xnyChUV640dKwveeStQR0pSJxWaqNDIdaiU4LhLfkfUMIy+hgkIw1ga6lEnT58hw0eOlEihJPlMVmrqaqSxpVHqa6oln8ssbk+g21JNQHUGCafsGimWD7Wy3Prvf8tJxx4n8yZPkcGjRuuSiLz15lsyZp0xsmjhouAEyzhJ0CskmLKdkzVlkbC4waRuoHPBofwBg7qIov4XjcWkmCtIZWWVVA4cINMWzNfNoxJnsGqUg6YOQ8KMJiaMD8GRDcPom3Tke8PojXQeC4HfuVxOCnQ97IRvkNgZ9mGchU+Nq6A/35o6RQasNVJizVmpy6qISLdI3YBKac42SilVkmysIDn1o3w6G8dcqcXwVD4Y3jqryxEWy4KGkLRlYKwH2jtks1l11JWu3cNZ3/ym/P7nl8nAQYPlq988S4744mFSO3iI1FZXy9zZs6WupsY5aHeKTpcOvr1DPuqbMgaRBT4bHi/E3JReJPS2oBKDFOyjsiHK8NYFqdDHWJEXqa9tkNmNzVK9zih59t13qf/gaO6YkNLtYjR6wKLERRK6vLK8Bc+Wv0dXfxP+Vnm+Cx6C352XGYbR8zABYfRq/FgImUzGJaDNQIzvVyg4LT8QE10gSQgFluG8WM4x/OBM/Ga5IxaVtO5fPWCgVMdTUh2JSyoRk1whKyV1sLQB8I0RXSFeHWZcHfRniUBwrZyPLpmM9wDz58+X6dOnu/YPXzz2WLni17+R//3+D2TggAHSPGeOFHJ5GdgwQAquJ8SyQRAgYrgeLrGjisJNy70t3BoVEOXtFo9lEQzNXWzPSuOiRqnV89cNHy5RFTiizyLT2KLr2tTjB9/SiPIPPUvVquQzOcm0qljTB8Cz5e8RfrbMI+a4f98dlb8JAorfJOYNw+i5mIAwejU4IUQCJXYSIgCBgJhgHY4LZ0SDQ18CZpuKigrnvMKwX15Lvjg3vy29HaS2tkNgcCycIMf9VMQiTHkVPnVZcM0MDsU5OV51dbWLSIwePVq++c1vysUXXyy77rqrW4+D1YtwwoJrcdfWzXCeKhUMNdU1MmPGDHffyYqUpKdOlVSdPhfEhIoq7jefVYGQ0eem8wkVQ1V6L+yPEOD6ed4k/jbcK2IuLBJ4FsC24AWVYRg9ExMQRq+GcL935jh9pjgtnBEOCqeL08cxs11HdEFhW4QBUxwZU5wW+7KtLpRZs2Y5p81+fl9EBuvZtzNhwbA88QBcP3A8BA/OlWtmvIexY8e6hpILFy10UQlEj3pgmTNnjqv6GD58uNu3OyHaUcwXpHHRIll/3Dh3nVOmTJGqYcMk3dgoRURNVp+LioZ4KiqJlD43vfGi/i3y5efF34P74rkBz5dnzTKetxcMbMdv7h/BxzaGYfRcIppJLZcavR6cu49E4IhwSi0tLa67I7AOB+ZLuUAJ/rnnnnMO8d1335WPPvrIjfjYqI4RB165sFGOGL2eXHbV72VOfUoWNNRItrJGWtvyMiBZI6WCOsGIOthIUX1m0XVMoF0BujwbjbmqA754GTRP7Bqui+tFHPjwPdeJYKjXEn4+0y7VVZWSiCfkur9dJz+98ELZYY895M9//rMr4be2BW063Bk6K5YSC7ieFZEyn4YGlblSTioTMRmYSkps5lwZOrNJjjjiMJnWEJUF0ZLUVQ/Ua66QiqpaGThkiIweM1rWX389WXfddWTwkEGy9qhRsvbao8pHDKopnBDqBH8/X9VhGEbvwASE0ash/E90wcPrjEP2ICRwTEwRCg899JDcfvvt8tJLL8kiLVXvtttuMkqd3KabbiobbbSRrLXWWq7UjyMfnM3LFSedJudd8hNZOLxe5tVWSUs8KfliTKol6QRELsYHtToJiJIKCHWEgYBg3dKzGA6VUjcJ4eCrVohGpHRZpFiQnJbUW9Otcv3118tvr7hCDj70ULnsssukWQVSZTUf1F6egFg5OGY197xogbTNmysThqwlFR/OkJ//7FL533/9WT5ZMFdy7XzkKyIt6YzMU0E2acokmfjB+/LJJx+qGJsjH3z4kfv7bLjhhrL33nvLHip+NthgAyfs+LvwN2hoaHDnI+pA8s+fvy3fADEMo2diAsLo1YRLtDhgXmfftoES/f333y/33HOPPPDAA660v9NOO8khhxzinNmwYcPcdh7291EAHLq0Z+XqI46Vr33tK9K8/iiZU10hCwsiyYpaibbRcDAieVUNxWhZQBRVQBSpEuksIIIQfVdwrYibtragoSfXj2NNaYm/pL8TiJ9C0C7jxhtvlJ/95Ceyw+67y5VXXinV6lwzuaANwdIFROeFn41sXp9HqSBDa6qlakGT1E2ZJ9dc82c59VcXSnzUWqrQeNaLowaM/s21iuvfqfcSi8sHH3wgb775phvPAgE3ceJE2XjjjeULX/iCHHfccU600a7DMIzexcoXTwyjB+DFA+IAx49D5qNT5513nnNSl156qay99tpORDAoE074+OOPd1+2JGyOw/Yamv1pN4F44HiiJf+qikppa00Hbli3Q2TEEQc4Sd3tUy7aLytP3YJlQDuAoG1FSUvi9Vr6rlEBEVRpEElB0FRVVkl1VXVwTXoNlOg7N0DsLupqat3nvpsWNbrfjD1BZCA+dChKQR98XpMKn7JGUr2jzzEqcf07kLhmog9HHXWUXHLJJfLyyy+7Nhw//elP3fYIiO23316OPPJIufvuu50gZB/O4e7XMIweiwkIY42DAw1KrcF85yGaAwe7JDjeMDibW2+9Vfbaay/ZXUvotCG47bbb5Nlnn5Uf//jHTkz4qg2m1LUjNpj3y8O4uvhUKqgeKYsMGgZW6DKqF5K6L8sdTMqznz7SsiHaQPKNBxEoXBfzXBfnRSj45wNszzarQ0CkEQvRmET1WmpUxODYfZWDuyYVXbqBRPRxuYBHJ7hOj5+n4SgRIATFW2+9JY888ojsueee8n//93+ueuPUU091QsO3hwj//Xk3wn97nk94PdcUfpcMw+g+TEAYaxwcogcng4NBENAIEifAMpwCDtOXSmkMyXp+X3HFFa5q4uqrr3bO57333nPzW2yxhdt2VeALmNTTt6njrKyolGwm2yFAuDbvM8O+s2PeiYrPKimWhC6dbe1t0tTcFDhUPTfPgdRVY8TPE66cUSJoi0HdBMKpTZOr+tGV0fjiqgtfW7IytSZUX3zta19zYu/pp5+WddZZR7797W+76U9+8pOgJ4yCWPCDbCEivMji/eBvwW8vyCAsXgzD+PwxAWGsUXCEOEaMfjhkzTIa0IVLkzgEtsOR8HEpIgxDhw6Vxx9/XP73f/9XbrnlFjnppJNcIzy2+TwgcjHpk09cZIDoQ0GnsYg6KU3+er2/DPvNJX2o96qfPXH/3DMRCu8QeRakFbvHro+7QknVAJGHVDyIttAtk29wrL/BBjQ+CbZh0zIr88R5rkR5qD5CANCglbEvEBP8fRl7Yuedd5b99ttPnnzySReB4J1BRCCg/CfNeTY+isPfhdQ5SmUYxueLCQhjjeKdYjj0DN454ijoUsnUVzc89dRTsssuu8i1117r5q+77jo5+uijO0Lrvl3B5yEi6tVZ0giwIlXhnBLOHHGDkEgQvg+fws+Xp4FvLTvjlUpBL5Pamlo3kBPOFkeOs+U5hAXXsunq2CuSqJ2IuTYQtOlIJZLuWYzbcEN3HR3opuFbD61ZLi6qovhn6/9miAN6xlx11VWu0eXhhx/uBtb64he/KA8++KD7G/O++K+SEh1hf/bzfyPeGcMwug8TEMYaxTtCHEI45Ewpk2WsIxLB2AyM00BVBaXRv/zlL/LYY4+5CAElWJwIQsOXTimNcuxVAl82bJi0Nre4Y+HMiUIw78/jz9Ax1X1W8axL4BtL0gCUUH6kstLdL86Tdd1NTJ1xTs/PPZHmzZsnMmqUax/yWYTC0uBZIoy4H/834+9IJCEsGk8//XR55pln5JRTTnENMA888ED5+9//7o7B3z787rA9rLjAMgxjZTABYaxxKHX6ERmJHOBQcB4kSpKULi+88EIXdcCR8JsxG1yJXGEb9qfqAicEHIc2EqtMRaWMGTNGpk6d6hyVO75eLw4vpqVzQDS4aTBxfF4ignvg+YwbN07OP/98+e9//yvf/e53nYigoWh34u8BR0zUg3E0qDLSB42ycOu4dS8kVkZQUBVFxAABgEBDOPB3JJLA3xn8+RGSJ5xwgvz73/+WL3/5y/LHP/7R9fCYPHmy259jAc+Ldis+umEYRvdgAsJY44SrGih94lCA7n6Eq7faaitXF/7CCy/Iaaed5sTBgAEDnFPx+zIlYkGdOE4Xh/J5DULE4EeMWOlBuNALg14ZHi8iOuC3plUVEggjStRz5s5xAoZvZNDokGtYHYMsMYw1VTXxWFyef/552WGHHfSmgrviU99QvtWVgr+jr7pAFIUbhhJhIfLkIy28DzwLhvA+8cQTXYPLn/3sZ7L//vu7vxEjiyLsiNhQnWURCMPoXkxAGGscSp1eCHiHgrP47W9/60qav/nNb+Rf//qXa2CHU/DhavbDobCMKREL6sRxrDgRhMYqwecl4+rEt99OPnj5DRlQjElEHWq+kJNEkpb/2bJwiEhetyWVdBdGnoxKQRMOdmVda8CChYukUh1rMlUhmWzODcwUiyckm8vrdeAgceblxMnDyS1X5+xSxA1s5T/XnY8WdFrQzYLEaJoMXR3Vy+VrnezD3rFcRup0n/piSSa+9oZssvUEXciKmGTdHZa30/1IzAdw3z4tH1/tAIgAEtALhb8lEP1gOe8K2xOhoG3E7Nmz5dBDD3VdQXlf+JIpmIAwjO7FBITRreDkO4MD8A4CI08JM1+ujsAxMGokjuHtt992g0IxZoDfPhyWRjBAV6FqqhrC9eIrRVydWm1SpCIh+26yrcx+8jVJqYCoqE5JW65NonE+h82GEWnX+Tbdns97611pxlJnr2lZo1AuD5x+rTrQJj6LrcIhriIiV9Dj6XwpqmImlnCOnhRk5c5Jn0tJn0EprlfByJgRN/R2LpaXbDwnubgKoHhecvm0XndeUpVJSZWiootUOyX0CBGpKbRL1cJ50vLG2zIENTV+I5GalLRHE8LQUm48Tm6RP5/6awQVQoToBNOVAQHpo1Dgq6WA5V5s+MgEkRmqdV5//XUZMmSIayPzox/9yO3n3xs/hfC8F5m8k16oGIaxYizOpYbRDRCSpm7bCwQPjoCqBpw/CWfPNn/9619dQ7mzzz7bdePzDiNcQl1tEIHIqQAaNEC22mobee2pZ2WoOuTMtNlSpQ48noypM1bHQ9Fb4Qop5bvPYeh/y/oGxooSHGXJFJxp+SnYXo+hz47rYh59EyuWJF4eYrs9on+XiphEVci1NzZJJpeRItEUVQLFQk4qVRVU11bL0/ffLycdf5yLyOQzaZVGuo+EGlK6EwWz+hQ08QRWVkKsOEQhqOah+oro1S9/+Uu54YYbXLuIzTbbzDW8pRqE9wiB4Ks52B78e8XUCxXeV6rCTFAYxrKJXUjrNMPoRjDMGHBKeYgEHzHwBpvGeUQTCD8znDHfS9h66607uisuTUR0/t0dFKmmUHFTNXCQPPvY47J21QBZp36wXnxcmrXU3ljBB7W0NJwrSUUeRx2RAtfqnHg5OrAarnNpcD1UWxRVOSAYKvMlqSyIpPRaS3pZzcmIpGpqpL5Nn3M6J7nKhBSq+GBYXhL5jCQWLZQadbi3/fs22f/kk5yYiuq9F2kXoUckxlPWT2iWoEii52M2SG6Bpu7BR5l4V4A2NOutt54bkZR2EESyaJTJp9GpDkFs8D6xPdEx9vdVaOH30jfgNQxj6VgEwuhWMMxAaY7kDT49CBATJBrF0auCkuETTzzhej14h4AR9wKCY/m0uohWVVPPIjJyoOxx+MHyyl0PSlWpUlLtGcmkm9Q15l0bApwzpW7EQyFC24C4/sIBdZ/zXB4lJxwKUtIULRUkUSxpUqdfUAeqKVFQEZCLSlTni4wqqeIhVhGXQjErhVybJHX/wXUN8t87/iOb7bidyOAG/YPo/ejfMJLPCfLPGRBukRn3IxAPqwvf8wKIKiAWgGgEDW5pD3Hfffe57r8PP/ywe3dokMuU6BjvFaIC0cD+4Z47vheIYRhdYwLC6FZ8lMCX6hAJCAl6EiAS6GXBh634XsVNN93kWuITZu4RpT+K6EXNItGItCcisskXdpP6QkTaHn1aatW51iVjUpfNSZU600y8KOkkDpvYQ0zdaEKdFCJidbrTJUFA5GMInLwkiwVJFfRq9J4QOLloXGIqIIa2xCSxoF1mRLMyu0a1Uj4rydY2qSzmpVZFRa6pVZ5/7gXZ/+gjRRr4LoiKKf37VagQSapmwoC4xpk6U+JH+XaZrI47RygAkQffngFRSjUE0KiWiBYNcfmI2ve//30ZMWKEazeBYPBVGcD7SfKNL5k3DGPpmIAwuhUEQ7jRGqU6xATGnu9VMK4D/fp990yEw8CBA922YeMOiBGfVg96nrReQ7LCNYkULZ3vcfgB8sDjD0lp3gJZJ5qU+kxOKpzDKbi2EFndLK8OOlKKaak/pkfgWomYrKnEteUlrn+DqJa6cfb5aFRFhF6bXt/AeI3E2kuS0+XZZFTSxYzeZkRGxFNS2ZiWf/75r3LAgYdIav31xAVUEvpPUh1rVo+r/6tG6TgLycGC1QRigSgEkQffrRVhihDl/SHSgCDYd9993TdSPv74Yxk/frwblMuLWuC95FhEyHgH2ceqMAxj2ZiAMLoVqh8wzJQQERIY+blz58rPf/5zl2jz8IUvfMFtR2TClxwZCKhHlAC1pC7FmFSrECjhhPeZINXbjZP3H35SEpMWyID2glTgeHQdTRYz6nwzMZUN9GYoICQ4CP+s/kS1SqxE/ws8fdF138yoT8zq9dE2oqRCJ6/OtqTPfmC0UqpVVDTFVMTVJWVwc7vMe/JlaZ0xT3Y4/gT1ylGZOn+OFBhACk3knktwKs6GeFgsE9nAp+4FJ08UgnYMdP31EGHg/UFsso5qCoTpP/7xD/fBNdpI/OEPf+ioAmE9+3h4X60RpWEsGxMQRrdCCZCSHoYckUBJ76yzzpJ7771XXnzxRZkwYUJH6NmXHBEa/rsWq7O9w6fA/1WmpG1Bo0TzKgYSSWmsyMs+3zxFnn78cZGPp0ptpii1WRonFrWUH/Q7oJTvd+9+F7p0IvrsEBBB5EEFhF6M3obkdUpbDaIl8/JpSZfyUhdLSI3+GWJaaq8qFKU0c668+fAT8vXTzwgUgv4zaOhIyesdNam4E0bhbM+X1wWT8mYdy1bH3XuBQHsGP04EIAiIIiAKeKd4jxCyLP/e977nol7XXHONq9JglFGOQ/TBv2/hUU0Nw+gaExDG5wpGGsPtS28YZqIKRB7oTsdHr2hAScM22j6Ab1jpIw4IDQ/7r1H0UippSInXxTfV1ElpaL2cdPY35KabbhSZ2ygD0kUZFFGR1JKWWHtGap3jKUqumHPtENYkhWzOfRArnkqWu5eqoIirGKpMSK4yJo2pkjRFaBAZkfy0ObJ5apBUTFsgj952l4wZNUoSO+0kovdfVIGBeKC5aN2AQNzREwWW+At1/CAes3oIj14ZfneITiAYgPfIN8yFbbbZRl599VUnXhmEijEkOI5vRImQ8MKWKe91Z3xbCcPor5iAMFYZGj0CogEjjeEOt47HeCMejj32WDf4Dw0nfaShR4MzJFEX7krWVAqoONJsU7HNJrLjUQfLf268RZIL2yTe1CYDInFZr26g5BcslJbmBZJQB939IyEsHdpfVKnzj0SiklEHmMMJ5goqKrLSmk1LU6HNDZRVPbhO0q1NMjSalKHzMrLg2Tfl/ffelS3P/qaruuC7F4sHq0IY6EPxP90S3UST+8ntOtEXbLcmG5GuCH/729/kqKOOkiOOOELuuusuF3nw7zHC9v3333dTfiMYEBbhqg7D6M/YOBDGKkGVBC3dfYM1DC3igegCU35TsmN0QKolCB0DomKNRxeWQ1kzaNJrxUMWS5LK0BU1LqX6KmlYd5RMeeZ1mf/JDBmy3hgZMHCgzJz4idQnUjJ4xFCZ37JQS/vsGDjU1Z1w3jzinBt+W689npCaqDrDaESyWhjPx9UZqpCIlfKSVKc5Ll4r+YdfkWduuUtO/NmPRdYZKqL3KtyDCglaeUQ7Uvk0OsM5yrM6Dc7t2lh0/Oq5EB1jpFMGnaIhLxEMPtrGV0d5n9daay23HdUkVGkgInyVCevDEQ/D6G9ENBOsuSKS0WfwRpXW7Yzr4Jk2bZocdthhzijTlQ4IE1OlgTHuyS3diY+43gXqfCvwkjqVtrRIZUyaEyLV6iKjU1rlPxf+VIpD62Xvww6VmvoGaSzkZF40L8XqKsmW1PE69bEmKEmpmJecplIiJtWplNQUoi4k3xjJSSapDrTQLsMqa6RudrMk35kqz//mb3LYaSeLHLGLFLJNEqtXEUF7h3hECOhjLHCZrjLAKSxmlLBK4FHphFVePvVkfMNdBC0fbtt8883l5ptvdst4VxHBVK8RmfDVbOxDFM0w+jMmn41Vhh4Tvh6abxH4umGGE+bzy4cccoj84Ac/cMuotqAag2lP7yaHA6QlR8F7QUREQu9TPWm8FJE84YmhtXLozy6Q9PxF8uiNt0pEnXNttCSDNWeVFsx3Q0avKRjzIRVNSUVMrzkWl4z+XVozbZJra5HqdJs0pNtlaEVKRiSSkn3lPbnz6mvlwLNOFdl7W5FUTGK0UUnqjfBNEL2NhD4QhAPPhQ62dP10z4UFoW4YTEgsJvV0eA99Q0vaQiAk+OooUQiELgLC9+pgG95vts930S7CMPoTJiCMVQIjStUEpVq+H4AxxgAzAiBDU2+55Zby7W9/2w3e40efJOxL6ultILwDJBBPDwaXWxA9sZRUFhKSjGhptEJdqnrWE352qRMLv77w/0l+4QKpzWRkFM6nuOZcKNfNgNNJFRGxYlQymay0lXISr0zIIBV8axVj0jB1vnx818Py0I23yMmnf1mSB+wisla1tGVapBiJSrvetGtKyJ9K/SXf0uCOEFaumawXEF41lCcsWnN3vuLwznrxiyhAJPz5z392vYOodnvnnXc6IhAe39Cy8zglhtHfMAFhrBK+DhjRQFsISm3wwx/+0H17gE9yIzAwtow+ST2yN7xUe/RkAs3AVyWDEnc7PSpc0ETX0B9Si+AMV51J6O9sixx44Y9ksw03lKt/+jOJtaQlP2/+GhUQNOAo5PQKC1Gp0GuNq2cvVCekVJeSTL5dcp9Mk7on35cP/nyrnHDicVJ10K4itSJpvZ+o/u24ZxdpcMfSVFYGzLIMAeEaiVILyn2W75V/vYjo6fDOElEIi1mWXXXVVXLcccfJwQcfLC+99JITxghg3nPea0SEVWEY/R1rRGmsEhhUBAEt1ZmneuKYY45xBvbOO+90y4g6IBww0mzrS3y++2ZPJlvIqUiKBQ5RdUJS78f9yBSch3QjN1ZVug9uSS4vY3feWYaowLhaHVDDwMEyYsRoLf3T6FB3coM5lcqJ45X7aKBUgn/K/+pUT9bRBDGCSAvWBL0awimAawuSHrM879bmc1IVj0qqWJB4PispPVRFNi/NH3wi059/Xd7/7+Ny1HnnS8V2m6nnTMjCaFGapCAJSRFwUKKu2oLqC3exKqA4Nuu4KsrlHT1VWRBVUeVOHJx/8ZX3TPy7Sy8h/15SXcEyPui29tprOyFBuwgSPY7oGuqjaIbRn7FGlMYywcD68G14Hqi24PXxA+7kVSicd9558txzz7nvD0BvEAlLg4zhq/aZxxESgHBOsZxr2tUpV3CPeV2QbheJ67PQZzL1+eflnn/dJus3DJdtd9pJIusOk2mRdskOqpF8dUpa2VYPXBlJSCISl6iKjJKW4Au5guqMki6LSSwalxzZ0zsrFS+lUlF3K7rnzjSbzbieHlG+waGJi0SWsD6hoqG6lJWk/t1qilFpiKcku6hFJr72hkx5Z6IUWtrksIsu0T+S3kiVHr8yKmk9RnvZ9TMQN39ZkvviZvkhMFBW0Mol2NUtJ4EeJvyTI5F6KzScvP/++10bnosvvth1+fSwzgtj/j48cwQzEQ0ENJEKw+jLmIAwlgvCALHgB+VhHqOJmPA9Kfh9wQUXyD333CNPPfVUxzovLnojZAwvHjydHWNJ75GBmtyK9qx6Wsrr6kWzOZGpM+Xp6/8l7732umy86/ay01GHytx8Wubk26ViyCBZ0NbqvksR0X1isYTEEQ3qnROlqEsx/Z0pIBP08AgGFQ9EGCIICr6Kqf9X11ZLJpeRtvY2KRTzuiwQEoiIlIqb+mybxBqbZHh1g2TmNckj/7lXpk+aKgccdLCMOuQgVQB6EJfUAeoxc3pQBosi0oFYQiAgmPozCOe3335bdt11V7nuuuvcYGgMx06DYRoQ+1FTO0M3Zv+xL8Poi5iAMFYYBAFQyvLJc+utt8qZZ54pjz32mGy88cYu1Os/itVbIWP4zBGe9+BYiwgIX8XABnj7vD4nRAXPS8WWzFkgT/zsCnn9qeflxGNPkAH77KHbpmXBgJTMq49LS2VMCkQRSioesuq6GSJaUylfVDEQ10PFnRCL6zaqKyRP18x8Tk+Tl3YVD4gKRpdMVaQ0VbhLSbelJdHcKutLUpLNbfKfO++Sp555RnbZYw857NRTRIYxCqheX0VCsrqDlqH1XyIO+i8tRn2IoayH+itUZyCc6bZJw2C6I//ud79zg6KFI3JEHMgfRB3Yh4aXpHAeMYy+hgkIY5n48R0AA4nRpJ0DeON62223ydlnny0PP/ywjBs3zjWkZCApIhW9uQoDwgIiPAVcA6mg9+m+u0n0AQFB9AHxQJQgptNZc0VSKqbmNMvbv/ydvPDKKzJ+711koz13kuR6I6QpXnLfowh8NsfRo+F8cEIVlfoc85Jtz0hez0NsIKnLqTZJJeJ6iqgUdXk+l1XBUZAig0bpfC6rsiDdLs/95z6Z/P4HMmHbbeSA0/9HZEBdIAoSEWkpZHRa6YaoppUG4qFSk2shSQL8I6GIfox/z6myYJwTehZddNFF7psuDKRG9YXPI/wmf/SFd98wlocJCGO5YBQpaflxG3hlfMmKoX733HNP1/XtoIMO6gjp+nrhvgQZpSsBoQ9EMm10eIxIgiobIhJsqA46k2+SVLV64ZzKg8ZWkUp14DPnyzt33ievPPSk1JXissUmm8o6220jMmZtddgFaZQ2WVQdlXxdlTSqgItEY5LUZ5nUMyTyJYlmchJty0oim5dUXqQultI1es7mVlk4ZbpMnvihTP14kkxfNF92OPwg2fLA/UQGDvAhE8m2NEmb/ilrhw6RjF4zVRYICP666IUILSRJ3JzVYbgvczLENfmA9553fMyYMfL73/9evvKVrzixQJ4gShSutqCLKD06DKOvYgLCWC4YSB+ODQuDTz75xLVQx4gyYBR0jk70enzuCPSSI5xhqMLwwkoKRd2uQ1ao4y2oc86oLy64An1bMS3VWvyvKqpXnp9VQaHp41nS+NiT8tBjj8qMtIqv8evKiK02kdhaA6VVDztyzLrqmFJSrSXcqnhS4oWSFFrbJdfcIqV0u8z8aLI0zZkncyZPlea5C2RAVY1stenmsu6uu4mM30jVRVwkm1ZloNLARUj0GikZRyOSaU9LkhFB9XoJnHDV/GVdg0kWAAtC997f8BEFD+aSSBxRth133FF+8pOfyEknneR6cVB9wTq2IZ+QXywKYfRlTEAYywSD6B2kL4EhDCZNmuT6yhPS/cMf/uBG7PPwSrFd514bvZJw7ujCkXKPlDy53w50nxKOmlGXtDi/qL1JYioAiBKUVErU0pAhp4mBFBqbRR9esG26RRZ98KF89M67Mn/SdMk0tsjcmXOlrbVNmlqaJa2ijC6SqapKqamv02mFjN1wnAwfOULW32hDqV5vLIMYhK5Tr6GmUkrRmGZ0XZjN63lURFBX0oqoqBBJIib0t6aiJlaRuG0Og/sry6N+ia+KYAwIognMU5VBXpgxY4bsvvvucvXVV8uRRx7ZIS4Q24bRHzABYSwXogkYTm8YaTDGtwIuueQSmThxYsdyH50It5vo9Swtd4T0Ak6DhJBgc+ZdlEa3CTpbFiVTyrqumTwpHHKxne6X+sv1pmAvTQx77dof6Hy7zjOKEwNWsUe5i6Zz9hzATwkXhH8zZTu3bUzyesa0OryKWEKSmpw6aCt3N6WhZ8e2enpN1Fx4EcGhXBdOTf0V3mmSf8c7twli6Ov9999f/v73v8u+++7bISSp9kBULyEsDaOPYQLCWC4+jOtLY0888YRrhf7888/L6NGjy1v1UZaVO0K+wW8WnlIL0OGI3QL9h+yGYFDHHzQ1oMOkOiidEp8IDons0P3Yp0335qMTrPCJA/ppOJWdFfuyq2vZUFL3T/TB7RtUVfj1HreqnKDz1Fg25Ac+GMfnwHfeeWcnOBAQVGn4sSLCsB6z21H1ZRi9FBMQxjLp/NXBDz/80H0c69JLL3WNJjsbx35BZ++rsCicwDtr3ETCF+tBF+Q1ZXRLBERMU0q3DMq4bFaSrFsekZQbtal8EiY+AYJB/w/OQ/+MxVMS1Q/xvG7AD3SEigxqTQhycCksRndwXp+caPEKg/M4YaLJ6BIEAib08ccfd22B6MZMfhk6dKgTEcwTjUI0+OoNH5VgWV9raGz0L0xAGMvFl6IQEyeeeKKstdZacuWVV5bX9m3CmWMJP9ppBT87J3A+WH84xwy6AJ/uaieCJc5xV+geMSIU3rOTLZ13143LDic4RCAQwG3WKXmYdz0qUAz80JMUVUTw9REW+XM7caMJGcg04lUP+3BaNghOb3SBr9Igb/zzn/+Uyy+/XB599FEZOXLkUqMPXjT0iTZCRr/GBISxXHw3th/96EcuXMtIkxhHSlJ9uZU5GaNz5sCXdvhTv7K8wPtdn3ATMRYqvoFi58I9/tm5E7+CqUv6gxXqfwplAeHxv9h8Wbhzh1QK399AQLCIVRwH8cJfkOREjk/ABj4ZS8WLCKr4+Hjc3/72Nzf8NUIbwcBIrl5IMI/J7cv5xug/mIAwlgmvB0KBQaJo9/Dee++5QaKgr4dgyRjer4P3pR13HF6h8NPvA67wXnbgOfXUfmwmXEmcH6xDVbA//kS3oZqBYwQRC3+CELRnCOM36WJTR/mCqQnxwgG4B8RDlOzvb7LTtixK6MKO+zU+BdUStGXw0QYEwje/+U3XO4nRWVmHsCAPUX3hqzJMQBh9AbMNxjJBQBCeZZyHG264oUM8MJhOX6+/xYHiW71/JYGfdlBe4F27nzr4oYkJTwtRQerAr6BhpSbaP9AuIq/zOHK3vMurUPxsaJHDb1Y+tmtGEVqEcEDERAu6hI+AkZgn6qFbBW0wiip4aMzJMmN5ePGAUKBbJ3kGIeHFAuKBefIMv5k3jN6ORSCMZcIAOVRd0BPjr3/9q1vmS1s+OtFXwWX7knjZFwe+vpw+5Vt1YeCCg31prRD0rNAlHdvqRvo/7sNXaXAsGlL644dxX9Ysz7tz6r/8F/wKljg6jq+Ed9DEORAFfrETMfxANJDCK4iU6D7tbiFDW/M579B5jCVANCAOwu0ZiDggsPfbbz8nIg4//HA3OqXf1m9DdMIaURq9GXt7jWVy7733uhbmDBYFfuAkX9rq65R9cEdaUfy2lOCd63ZVBeWp/ibKQC8MHDXJCxVHsMkSsyQfg2DKcYNU/q0nJJVImqtdKl8EEzK6T+XF5RX6T6cVzPpISce2RpcgCBDUiAemQISBL3XSqPLHP/6x6+4MrPeRB4SDiQejt2MRiH6O//N7McBvbxCnTZsmW2+9tdx9992y7bbbdkQcfASiP7SBCGcO70yX51SXzFDlsR06Hcg7fr+4kw/vYMljdebTV7K0a+t8nOCadGmn6yKxiGuD4Budxsry8ssvy4EHHui6d6633nou3/hh3vvMcO9Gv8UEhOFKRYgBXgUfXaBkxUeyDj74YDnjjDPcqHqdBUNfFxCGsaqQpy677DK57777XKNKhsP2UQvymmH0Zsz6G86YEXalnQNg4PjSIELiq1/9qhMPbOOjFMwDAsIwjKVDnuFT97SBYOh3BAXdok08GH0Bi0D0c3wUwU9pPT59+nQ54IAD5N///rdMmDDBbeeHsQY/LoRhGMvHjxOxzTbbyPHHHy/nnHOOW07kz4azNnozJiD6OQgGjBvigVeBKeM9rLPOOi70yjLERdjQhcWEYRhLJ5xX+PAWX+3kw1vbbbedy1e+V4Zh9EasCqOfw1j9/jPdlJT+/Oc/y4IFC1zr8XBPi3B1hTeI1pfdMJZNWGhvscUWrmqQ4eDff/99Ew9Gr8ciEIYDsUDVxe677y633HKLq7rwBg7x4BtaUneLqOgqMmEYxqcJN5hk/mc/+5kbEp4u0hbJM3ozFoEwXOQBscAXNg899FDXdZPfhF8BwYChI/mIhB8IxzCMpYPwRjwsXLjQ/Wb+29/+tuu+iZAwjN6MCYh+gI8W+N4TEK5+IPrAWA8MGHX++ed/qmumFw3h5daK3DCWj887VVVVLs8hvOvr6+WnP/2pGxr+2WefdfkPqEr0PaH8MsPoyVgVRh8Hg0U0wRsy/twYKaZ0z2TI3YaGBtdC/KyzzpJTTjnFbRcOuxqGsXL4HhgIeAS4n8L111/von4vvviiG7gtXM1hec/oDZiA6OOEW4FjzDBe3jj5kfAuvvhi10L8pptucmKDVwIj5sf2Nwxj5fCCgYgCeYvfRCLIk+Sxb3zjG9LU1CT/+te/XI8oGjWznupBPzWMnooJiH4C37DAkGGQfAkIozZv3jwZP368KwWNHTu246NArGM7v61hGCsPUT+qMfy8H8KayCBdpqnS4Iu35DuWkU+96DCMnop5h34AJR2MEqUeBAHVFoBx+v73vy+nnnqqEw9oSUpIwPYmHgxj1fD5CUHgy2q+PQQJGBfi3HPPdd+eIU8i4lln4sHo6VgEoo8TLvnwp6ZU46s0HnzwQfnWt74lTz/9tAwcONAt83W2hmGsOuHPfHeFb4OEkP/www/ltttuc+IdAWEi3ujp2NvZx8EIAW0hqGv1zJ49W6666ionILx48HhNiZgwDGPl6SweEAbkL5/HEA+NjY1y+eWXy9SpU91AbmDCwegNWASin4CRovsYUOp58skn5Yc//KG89dZbbhmjT3ohYe0fDOPzAyFOw+XO+QnT66sqmL7yyityxBFHuK6dQ4YMsUbMRo/HPEQ/ICweAIPFFwJ9aQfCUQjWm3gwjM8H/62ZzhAd9O0cqOrYdttt5bTTTnNfwPXVjED+9dCeCRD8hrGmMS/Rx6FkU1dX1zGPofrHP/4hm2yyifugj2EYa46WlhY3JUJB5O+8885zPaOuu+46F6GgESbinyntmXyjTAS/FxOGsaawKow+jv/0NsYJKM1sttlm8tBDDzkRYRhGzwGB/95778mBBx4or732mhMK4bEgEA3kZRpGM28DThlrEhMQ/YBwzwpae1PqoQGlYRg9A4Q9I8N6sUD7JBo6X3vttW4dUUSqPMjLVG/4bqG+kbRhrAlMQPQTGOUOQ7TlllvKlClTXK8MDJYZIMNYc/hu1n4USpg/f76LGo4bN859L4Mv5LIdjSrJtxQGfETRxoow1iTWBqKP4w0Nxueiiy6Sk08+2c1joEw7GsaaBfFArygvHmbOnCmDBg1ywv6SSy6Rc845x4kGX2XhI4kIBxMPxprGIhD9gFmzZjmxsPPOO8sLL7zgxAPGJ1y3ahjGmiH8DQwaSYZ7Z+y5555y8MEHy3e/+92OaGH4+zaGsSYxAdHH8Q2tjjrqKNl0003lwgsvLK+xr/4ZRk8B8YApRjgwJW8yT0Riq622cmNDrLfeeh0jW9qIsUZPwAREL4c/ny+ZUF2B0fElFF+yYYx92j58/PHH7iM+rPNf4jQMo2fzgx/8wHXtZNwWhEZY9Ifzf2eWN4y2YawqJiD6COHumgsXLnQj2QElmf/5n/+RDTbYQM4//3y3DOiJQSNKwzB6NhQI1l13XScgDjjgAJfHye8DBgxw6wARQZXk0sSEYXQH1oiyj+BHusOgePFAmHPSpEny6quvusaTYYhC+EFpDMPomZCHyds33XSTnHnmmW4ZUUbEA4UA8jGJbTrnZ6KMhtGdmIDo5fgSCFUVlEp8tQRdwagjveKKK+RLX/qSjB492pVc/PaENm24asPo2VBlQWRhm222kXXWWceNUIkwoHqCCCLr6eLpt0NEEIFEeFgVpdHdWBVGH6BzXaf/jYgYP368vPjiizJq1Ci3DhHBet9tzDCMng15lqpIRqjcf//9ZfLkyU4cYLpJSysI+E+FG0Z3YQKij4CR8Q0oMTYIhK985SuulPKrX/1qibpR3/uCbQl/GobRMyGy4BtOYqr50NawYcPkrLPOcvn6/fffd2KCRtKICwoMwLaWt43uxgREL4eQJSUQLyC8OKCUssMOO8g777zjSiFs5w2Rx+9jGEbPBRNNAYAvcFJNudNOO8ncuXPdcNcIB6o0Hn/8cXnuuefcOrpqIzKsp5XR3ZiA6ANQ3+mrMDA0CINf//rXMnHiRNdyOxxp8KKBYa3Dn/g2DKPn0tTU5L6HQYGAj+Exrsvf/vY3l5d9IYBu2n/4wx/kySeflCOOOELOPfdct9wwugsTEL0Aogo0kPIjR3aOHPgGVDBnzhwXcdhiiy3k+uuvl2233da1eSBKgYgIb2tdOQ2j5xMeNIoG0VtvvbX8/Oc/l+eff15GjBjhoorkcWwCeZvlxx9/vHzxi190BQk+ykVEAsJRCR/Z8NFJ9vXtKVjGem8rDKMrrBl+DwfDgIHonJGJKiAkEBeUTpiHoUOHupbaG2+8sUyYMMGtZ52PQGAgWAYmHgyjZ4NjRzz4nhZ0yT7kkEPc0Na0g8A2kL99ryoc//bbby+vv/66G3yKUSx9g2nyPeKBxpXg20X5wgVT34aKeRMPxvIwAdHDCWdiMjalAkoaZHimGBD6hDPvhQF1oF//+tc71mNAMCx8E4Mpy6yPuGH0fLyT52Na5F1ALJxyyinywQcfyLvvvuvyOevovonjx0YwqNwvf/lLOfroo90Q9owjQb6nQEKEkimJ/bAb3nZgV9iOY1AwMYxlYQKih4NxABw+pQNvUMjgwDJKJ8D03nvvlbXXXlv23Xdft46unIBhGT58eIcgwUgYhtHz8XmdvL/hhhu66AJ5mQjE2Wef3THY1MCBA52dQBSwD9FIGloiHi699FL52te+1tFWCrvioxbYAhIRDmwIx+NctLkwjGVhAqKHgyEgY5PZfSiSkCWZHENBicGXHihZXHzxxfK9733PRRtYx6eBERGICeB4zCMkOK5hGD0bnDm9L3D29Lp45pln3PITTjhBPvnkE3nttdc6ohN+fAj2IZ+znPZQd9xxh4s4bLLJJvKvf/3L5X+281UjwDIiHb69hbcrhrE0rBFlLwDB4CMRZGr+ZL4k4eGDWddee638/ve/d9tgPBg86pZbbnGttoHGVAxzjSGipOJLIIZh9Fy8+McGvPHGG3L44Ye7HhdAT4xbb71V/v73vzux4KsnsBmdB4tj+Y033ihXXnmlEwuMKbHPPvu4QgbCoTNeiBjG0jDv0QsIazzv+IFP/U6fPl3OO+881zIbQ0IJhe6bfImTelKMzUcffeS2p17UCwYf9jQMo2dDWwSiidgBoglECO677z63jp4Wb731lkyZMsWJB7pn+2gl8yT2I7+z/Mtf/rI8/PDDrovngw8+6Ko6fU8ND1EJRIuJB2N5WASiF4Bo8F2vMAQYEP9538svv9wJhTPOOMONl0/JhLpPDAAlliOPPFL22msv12+celNKJpQ+MA6USDpHMgzD6DkQVfBCn7xLok3DY489Jn/84x9d/iX6wLLbbruto21TV8NYk985FmIEOBa/w8fnfP4YuAYTEcaysCLoGmZp7RBY7kOXXjwwbgPi4e6773ZdNBkbn9IHJYgXXnjBfeqXbdnXt43gY1oXXHCBa2CFQUBUYCSYN/FgGD0bnLu3A0QGyP9EFe+66y5XbQnke+wAkUZEAnTVRZv87sUDYAu8eAB+hxtXm3gwlocJiDUMzhxw9j7zUxJg2FoyO6LBb0PkgAaS3/rWt+Saa65xiYFkEAy/+MUv5Nvf/rarpkAcsAyDwe8xY8a4xlbeEPkGVIZh9HyojgR6RRCBZATZc845x3XXxlbQhoHf9MrwhYKwMDCM7sLesjUMzhxnj/In81OqoCRAY0eqKShJMKV0QQtq6jqppth1113ddkArbPqA77zzzu43yzkuogRjQ/uIl19+2RmbMF6YGIbRc/H5HHye/cY3vuHaMGAP4PTTT3eDTM2YMcMVOhAQlr+N7sYExBqGjI6AIDwJjOHgGTx4sFtO40gaT9HL4k9/+pMzDFRV+K6cjH9Pf29fUvFCgYgGYUjaRvBJ786RByulGEbPhvxNIcKLAXpLkL8pGBx22GGuHQS/qdr45je/6aISbE+00fK30d1YI8o1DAIBMeDrGzEURA58lQahSSION9xwg6uuIEpBtIEGUuxDdIKR5ohQEMWg2gNhgVhgnuM9/fTTcskll7iW2/y5MSxMrY7TMHo2FC7Iy4BQIBrBlES0cscdd3Rf3iUv0+Niu+22c4UFemHYUPVGd2MSdQ1DiQIjgUFgsBhfmqB7JiUMjAejS6677rpOPFCyYOhq7/xpUEnXTdb5BlLsHxYkCA9vZLxeNPFgGD0f8j+9sPw8hQpEBPl63Lhx7pP9DFlNIYReVjSwZDC5cNTCMLoLi0CsYYggUFURhgaP999/v4tO8NGcML4bJyA4Dj74YBe2pJqCBpMYGN+Qys/zhU7aT3AuIhvhltaGYfRswnkeUYD49wWAV155RQ488EA38iyFj6lTp8ree+/tBpyiQOFtgWF0ByYgegAYBT9AVLjBlAchgTHwEQYvDPiQzk477eSqNHxYE0NDKJMQpj8WfcKJQnCcsDHiT2+RCMPoufgqDPIt+Z95emjRLRu7QXXkRhtt5MaBoCqTPH/sscfKfvvtJ6eddlr5KIbRPVgVRg8AIxB2+J3BUHjxgEhAPDC96qqr5Pvf/76LLLCv76ZJAysMj4fw5o9//GM3Hz6HD40ahtEzQTAAot/PIx7AN5JEMFCVSd4mKkl3zt/85jcdVRgUHDx+nu0MY1UxAdHDocrBN4aie5Y3Esw/8MADrs7TV4F4AwMICC8iEBwnnniim0dk+LEluhr/3jCM3sX2228vjzzyiItMUI25yy67uMLBSy+95PI7+ZyoJTCPTWE7LzAMY2UxAdHD8VGFcGbHCDz33HOuMeXGG2/slvlQpwehEf49evRoN6X9g7XONoy+A42oGQ8Ce+DtBFEIel75yGU4IomAAG9bDGNlMQHRw6Fqg/EdCFfi+IkeIAyuvvpqZyQwDBgE2jIQaeA3hiHcUNKPD0HbCC8qOJ4vlRiG0XshmnDqqac6G4B9oJqC0WopZDCwFPkf2wDkeV+AsPZPxqpijSh7AXPnznUjUwINIhEBdOtk7AeMAYbA14ciJlhPCkclKJmwjV/Gb/YzI2IYvRuqNBER4QbSwBgy5PXLLrvM/cbUhwsX1ojaWFUsAtELYAx8QBwwgNTtt9/uhrJGPGAgvHjAOGAUvGjwoUoIN6SiASb7mPEwjN6Pr6YIlwUpKJx55plu9FoPnwX34gEbYPnfWFVMQPQCfPjRGwhGpaT6gt8kogmEJjEa3pgApRFfJ+r3RVz4nhh+nWEYvRdEAdWT9LYCX1VJlHL8+PFuKHwIt4cIiw3DWFmsCqOHw5+HkoKfUp3BiHPUdWIwKEmEu2YCBgJxgMHwVRbAMVjOb6akzvsahtF78HYByM/haCT5/4477pDLL7/cDWcfXu6nhrEqWASih4NACHPjjTfKySef3FHa6EoAIBC8cfDiATA0/jeGxsSDYfRuwtUQXjyAz/+MUklbKb6bAQgHYH24itMwVgYTED0cMrqvryTzU6I48sgjy2sNwzCWDtUbjBXz97//3QkGP/ZLV5FLw/ismIDoBSAeCFUy3v3EiRNl3333La8xDMNYNieddJLcfPPNrpcGUK2JTQlHLAxjZbA3qIeDcKDagV4Ujz76qOy5554djSoxBIZhGMtiwoQJzma89tprzo4QyQxXbRrGymICoodDwyigzcN1110np59+ekeXTCtBGIaxLCiAYDuOO+44ufLKK10Vhm834W2LYaws1gujF0B9JeHHddZZRyZPnuzGf6A+MzzapGEYRmd8WwdGpNxwww3doFMIB0QEU4tEGKuCFWF7AYQc77vvPtl99907Gj5Z9MEwjOXh7QSf899mm21cI2yWUQAx8WCsKuaFegGUFm655RY33r3veoWQ6NzF0zAMIwxigbZSFEIYmZJqDLAeGMbngVVh9HAQCXyad4MNNpA333zTfbqbPxmiIjxIlGEYRmewEdgLBMOcOXNcFOKVV16RQYMGdbSFMIyVxSIQPRwy/pNPPilbbbXVp4a0tmoMwzCWBQUM2j3A0KFDZdttt5VHHnnEvsRrfC6YB+oFUH1x0EEHdQgI8A2hDMMwlgWNrX2PC3pj0Jsr/J0cw1hZrAqjh0ObBz6Ic/fdd8t6663XUXdJ5rcIhGEYy8L31sJekGgLgR15++23XffO8Oe/DeOzYh6oh8PIk2g82kCEtZ6JB8Mwloe3Gb7NFKKBdhCMTGniwVhVzAv1cB5++GHZZZddnAEgWdjRMIwVhWpP2jtgN3wV6Ne+9jX585//7OYNY1UwAdHDueeee+Soo45y81RfhAWEiQnDMJYHPbl8xJIqjD322EPmzZvnBpcyjFXBBEQP5+WXX5add97ZZXyP/waGNV8xDGNZIB6qq6td9JJIBF/3pepik002keeff768lWGsHCYgegB+cKgFCxa4KTQ1Ncn9998vO+20kwwYMKDj+/50y/JjP1hXLMMwloVvdN3S0uKqMBgSn2jEEUcc4Xp3+UKItyXhwkm40GIYXWECogfgM3ldXZ2bAvP//e9/XfQBfMamJOEzfbhbp2EYRmf8aLU0nqTK0xc+tttuOzeglP8wX7iA4vHLDGNpmIDoAVAiQBQgJFD9XizQdZPxH6Bzewe2CWd2wzCMzni7ga0It4XYfPPNXWHkjTfecLaE5d7uEI1gnWEsDxMQaxiEAxnXlxTIyCSGnW1tbZXNNtvMLfelAba33hiGYawI2A1vKxgPAttB9SgcffTR8q9//aujIOIjm35qGMvDBMQaxldJ+GoMMjPLGG6WMCP4kgFTn7kt+mAYxvLAlmA3vIjgN0ICTjjhBLnzzjvdPPjohLdFvlBjGEvDBEQPgAxLxvaNlhAJtH84+OCDXcZnHYRDkEwtCmEYxvLAvni7gS2hFwbRzbFjx7pGlZMnT3Y2h22Y+sKJL7gYxtIwAdGDINyISCBTv/76664BZVg0eMHgM7YXFoZhGEvD2w3Egbcd2BqEwp577in33ntvhy1hGxJ4u2MYS8PekDWMjzr4TE6XTtKiRYtk1KhRHeFE1vtt/D4mIAzDWB6+iyb2AtuBQKAaAwGx7777ylNPPeXWe7zI8LbHMJaGfUyrh4FIoH/2rbfe6ho4mUgwDKO7YOyZddZZRxobGzuqL5jSvZMBqAxjWVgEogfgIwpA2PDJJ5+U3XbbzeogDcPoVqqqqlxbiA8//HCJqlFrpG2sCCYgegBhAQEPPPBARwNKwzCM7oIGlXys78EHH3RVFr7nBVUcFpw2locJiB5AWO0TUpw7d66MGTPGGjEZhtHt7LPPPnLHHXc4e+OjEMxbAcZYHuahegB+SGoaT7799tvuQzdgjZgMw+hutt9+e9frCyjMeOFg7a+M5WECogeB+n/sscfkgAMO6Bij3jAMo7ugmmLEiBHS0NAg77//viu0eAFhEVBjedgbsoYJ1zOSeRmBcvfdd7fMaxhGt0OUAcGw1157ycMPP+yWWeTTWFHMS/UAfMMlMu4777zj2j/QuMnqIA3D6G7a2tpcQ8oXXniho0BjPcCMFcEExBqGjOoV/3vvvec+401I0TAMY3VAQWWHHXaQl19+2YkJsG6cxopgAmIN4zMqDSg//vhj2XjjjTuWWSMmwzC6EwowtbW1rtBCu6t58+aV19jHtIzlYwJiDePrIMnIDCm7xx57uOWMDWECwjCM1QEDSg0dOlQmTpzoflOVYfbHWB4mIHoAZFSiDvTA2HXXXd0y64dtGEZ3E66qYDwI/10Mvp9h1RjG8jAB0QNAQBCBoApjww03dKFDMq8JCMMwuhvsDW0fGP2WESmBr3UaxvIwAdFDmDZtmmtASfLCwUKIhmF0J9gaGnFTYBk/fryrwvDRB2sDYSwPExA9AOobX331VZkwYYKLRDAOPRnbQoiGYXQnvtsmNod2EAwo9cknn7hlVoAxlocJiB4ASp9R4CgB+A9rtbe3u6lhGEZ3EY40ICbGjRvnvsxpBRhjRTAB0QOgvpFPeBOBYAApMjSlAd8n2+i7+BKgF46Ej3/961/LMcccI5dddplMmTJFFi5c2LEdhNvGhOd5bzp/2dXD/nQV9rBd+LfRf/HvFoJhs802kzfffHOJ980wloYJiDUMVRZA2JDMS+SBOkmMe2VlpVtn9F383x8h0NLS4j6sdvrpp7vvoUyePFm23XZbN8wwy/7+97+798QPc46RDwsI3ptw4zeO7QUF24ZD0jgLwtaGwTvjoxBbbrmlG1CK9yP8bhlGV0TUsJjUXIOQcZuamlzvCz7jjcEnQzOoC1EIo2+DUPSOnL85AiIcOuZ9IArx6KOPuk8uv/TSS1JfXy/77bef7LnnnnLggQe698WLCo7nj0lCRHQViua98yOgGgaRL949ROtOO+0k06dPd4UZIqKGsTRMQPQAnnnmGfna174mb7zxhvvtM7PRP6CqKhwR4Hc4+oQgwOHzTvBu8J785z//kccff1zeeust9x2D4447Tvbff38ZMmRIea8AH3lAiHAOLzRMQBhAlIF3Ivw+MDLlrFmznDC1KJWxLKwKowfw7rvvyhZbbNERMvRhZzK10ffx0QIP4oF3Yfbs2e4364hGIQBYt/3228ull14qTz/9tItOfOlLX5K//OUvsummm8opp5wir732mtuPyJavtuB44Ya5Jh4M8DaG98HP05CSj/qZeDCWhwmIHgAf0aLu0ZcEampq3HLrRtX38ZEBD9UYwLswbNgwaW5udlEHT1gQkKjOIPpANIL2EXzJ9aCDDnLLFi1a1CEaiF7gELxIJTLh5w0DeLeIdiFQaQdhGMvDBMQaBiNOGJoIBPhGdWTkruqujb4FYWIEgu9x49u94PhbW1tdODlcneWFg8f/9u0nLrroIjcY0Oabb+7Sv/71L5k0aZLb1kcdeMfYxwSq4W2MbyuDsKQ7+dtvv+2WG8ayMAHRA6DfNWHDcNsHLySMvg1Ckb+5r7bw0HiturrazbOcyBTvBJEJDD1TBABThAHCw4sJ9vve977n2kpcfvnlcv/997seHoCDIHEMExCGFxC8h0CUatCgQR3VZ4axLExArGEoaTY2NrpMGzbo1oWzdxCuXugMDp+Ew+4KnH24LQJigO2p1vACkn15L7xoCMNyLwhIHMsvI7IxatQoeeSRR1xUgigXUYqwcMBpsG1nWMb5V6QNTlf7A8u9oFnaNuCF0fK26wzbr8j1GSuGtze8e0RDGRnXMJaHCYg1DI3gaDlPqbGzg/BOxOi5hKsXcMi+ASzgrL3DxjmyDsHoS3v8vTv/zfm9NLHgHX8Yv3xpiWP98Y9/lHPPPbejeoRrQfggMtiG3zhjrs87ZfbzDeu8kw87eu/s2X9ZcB9sw35elPjnQBUN5/D364/FsdmW58R1+ufqzwlsHxZfxqrhny3PlOGswUetDGNpmIBYw1DXOHbs2A7HERYNGF2j90D41zs1/nY4PRwg8zhHHDZVE2wXdsLg59muszMlcQyfvDMPvysQ3s6vJ7K19dZbyyuvvNLhEHDcvGv+HEy5bu/M/XIILw87+vA2XV0jv/06roMp+3Ms/xwQzX49wsLvw7HZlueEQGPKPsB2PFPajNhIrasOf6sw/H0HDx7snvnMmTPLSw2ja0xArGH4BgaDSIE3nD5TM2/0bChJIxT838w7VgwxTg8HyDzr2c5v650wTjNcyu8M+3ZOvBc+eacLHK/zNhxzxIgR7jro3YN4oOcGjpwhsr1z9/uTuBacMz1AOhN2+NwL+P3C1+gTy7kO5v0zQADw3Eh+PdfDPNv44zP10Qd/nWzn24xYNd+q0/m9BZ4vUQgGkzKMZWEDSa1hvvKVr8h2220np556qjOOgMH0BtXoHXjH57NT2IF7I+1L0cByHKhvKNkZ1pNoH4PDZbpgwQKZN2+ezJ8/343xwP5z5sxxTpboAt02EQVM+e1L6lSRffDBB05AUI3BPjBw4EB3TN41lpNwylynd/7sj0PhM/MDBgxwpVOm/GY5x/DriXZwLhIOiGMhBDief5d5Fjwjng3wroefC7B+ae8+6/x6yx+rTvj587ch8T4cf/zxbpTTk046ya0zjK4wAbGG2XvvveWCCy6QbbbZpqOOmkztS21GzwYnjSMLO0nwoqGrvyH7ULrHyb/wwgtuijAgZDxjxgw3ZVhzogVsS7jfO2gcOFOiCN5xM6W7J44dh87Ud//kOm688UZ59tln5fe//33H9jgJBAjHZhvmfbUA58Txs5z1/EawIE4QL4gOrp99mPfrWUdiOz9+xejRo931rLXWWjJy5Eg3JSJCQmTQZZBrISGYEENMef95plwH6/jN82UdeIFjrBr+Wft54Dc2ied74YUXumWG0RUmINYw66yzjhvKeujQoc5Qkmkx3CYeei++9E/Weu6551yJn666jM/Atwa802X9zjvv7CIDCAPvWEn8ZjmDSXlHyTSclgaOgHeIhFhgYKAzzjjDjVjJb4SJb3/gj+O3570Lv3veqUBX5wwv43g+cSzgnnkedAucNm2au3+m/GY5XU0RQ/QYWX/99WXjjTd2U36znN/ewRndixdr/M3/+c9/ygMPPCA33HBDea1hfBoTEGsYSlkYdBotkXHDJSt+m/Hs2VDaZqAmHCGJRrGMCEmJnKxFlzgEAe1ccIyUyPmNYORvT4mbv7H/O3vHuywB6Z20nwfeGZ/CXHLJJW6UygcffLC8ZHHY2ke6utrPn2N5Qpbr7bw/+7GcKQ4JOBfHCr/P3DvvPdEWntlHH33UkfiN8GJK1GKjjTZyX6tluG7m1113XSeyjFXH2x3+Zvx9+FvR/feXv/ylExGGsTRMQKwmCA1TJ8zj9saWUDVVF5TKyLwYU483wGGD25/heUDYWbHMi6yuHJ13UGxD6lzNQAg+HB5fFhhVhhxniN/XX3/djavA3432BsOHD3dObcKECW5I8g022MCF6wn/dzc8A+7dj/FAhIF7JcKBcDjnnHPkzjvvdOLF4wUE27B9T4Z7mTp1qhNnPHe+G4Oo4GNPiDSiK+utt55rR0ReokdTV/fEcXhO/u9M3mIZf3/mKX2zPrwN7wfz4eOxj8+T/jn2dvw75Ku0uEcad3/xi190bWf8+rDt8suM/o0JiNVEV8aajx7ReJJBW7oycOB/91cwVB6eRfh5hA2ah+eMM0CsdWXgMPo8a/4W4X3Zj+W0Q+G4OCq6PlK99Pzzz7sqCCIHO+64oxMKOGRKxpSIuxJ5XDfH624Hg0jCCfp7pe0B7R8w/F/4whdcKJprJsrF/XJ/PlTdW+H6qf5ANCEsuFc+LEZ1EW1JqBbkU+d0X+XT1HwfxOe9zk7fO80wiH3+fr6BK+fi+fo2SjxzfvfmZ9gVvpADFG622mor1yYHeHfC+a2rvGf0P0xAdDM4ERxM2GizjHT33XfLP/7xD7n11lvdcv+nsIy5mHDJ0MNz8s+K5Rh0fnsnwTzPl3U8Sy8qcBxhEedLUXRXI7LwxBNPyGOPPeZKuLQ9oIEfjghDSiKawbk4Hk66p4CDw9n59wZHSgv66667Tg499FC3jG38R9oQGcz3hvcMpwb8nfj7hd+DrkrB/H2oRnr00UedAOTvyd8L8cffcq+99nLtKhB//nl4eG+okqIhKtAglAarnnCUB2jL4rftrYTtEs/OR0FZThURUTbaooC3ZcCzMjtlmIDoZryRC2c+SkHw29/+1in9X/ziF+63/1Mw7WwYjQCep39OPCNvxMKCYXkQnsWx4GBwNBhO6tQPPvhg52R8Az6MKc4Hh8F5Ka2yzBvccIktTDhLdbeR5Vycwzs3SuCE9elxcdhhhy0hHDx+Wfid7Olwnzg14Pn758rfjnkSf38S25L4m7Et1Uw05nzxxRfdd0GI/NEDhI+N7bbbbu7rpVQ5dfU8+BtzzLDw9H/f7v7brg68ffLTMGuvvbYT1VQLgRcbXW1r9E9MQKwmfKbjcWOoyIjf+c53nOP69re/Xd4qILxtXzBSnxc8D/9MunouvnoCJ892OHzCzpSiEAxEeiid4/T32GMP2XXXXWWHHXZwbRa8gwiXyMLzYagO4Pg4YV9PjuPhb7YmDKt3fLQJoHR9xRVXyFFHHdURruda/b0w9SF8RIcPy/dUuF6eL891RfMC9wts70vVHAcxQHUFx0JQICCJAtJWhGezzz77uF4xVPnQpoXn6p8Vz5Z59uf4pM9yTT2d8Lvue+lQ/UNDSp4HhN+hrvKF0f8wAbEaCBs0xAGJDHj00UfLcccd50qK4ZKPdwim9AP8M+P5dS4hshzCz4kSJ06B9gt0Q6PHA70hcBC777676wkBhPJxCN5JIAYwjr46wEcfcEL8DcOl0GXBNXEc/o5dRSg+b3w9Pu8SgvSnP/2pizIgDnguXAfJCyuuj+fIfG90gFw/98OUvwlCyUcKuqqW8PcYDtFDuAoCQfHQQw+594bqLCJQ++67r+y///4uUuG3C7eh6K3PrzPhdwIQS4wXwvt07LHHusaU/j1iGxMQhscExGqAzOkdnDd+GCGv8GlBHnaM3kiF9+vPeGfBM/LPg2U4BO+gacdAaRLB8M4778gmm2ziogyMqEddLqMjsi/Gj+eLI/HPnGUQNor+2XujCThq9vXtH5hnX5wI2/rrW91OBbFA10cMPY6Qa/clZa6P32Hx81kFUU+B+wD/DkDnaiT+Jiwj/7Cc++RvGP7bIhz5+3P/rOd5hJ8Fy2jYfN9998kdd9zhIjU0xDz88MOdoKA9RV8QDh7/jvt33tufM88807X9+fKXv+yen1/vBQTPqS89B+OzYwJiNRB2Qjxu78AIN99+++0uXBomXO8eNpb9FZ5ZZyeA0yRdc801cu+99zoHussuu8iJJ57o2gDQ+M2XFKEr58MyDGDYCHIukl/OPH8P5sNOJvw39fh9wR8zfOzu5JhjjnHVMd/97neXKGl7ZwAIIObDzqKn4/8WYfwzZso98Lfwf4/OfxMPTo914WOF/4Y8D5J/x8LnJVJBFRgNnumRQy8PhOkBBxzgupD2Zrhn7pXn0FmMUbXK/X3ta19z75N/Z0xAGB4TEKsJn+nAGy5CzLT6JlPyuzcY9JWhs6H29+nnw4aI58T2GCy/LLw/QuGWW26Ru+66y81T/UOPA8LNGD+25XhhsdHX4TlSLUOD0HHjxplR/xzh2ZL8+4Q4o8soYoJBlhATp5xyihx55JFuyO6weOM9ZF//7nrYBmFHVVlnu0BC5K3OvyHn5Hw+X/r8dtlllzn7RJWYz6O+uiycZ43+S9/0WD2QcGZjHsNBiZb5vpwRMTgYIwwOjbO8keI3oWGGNPb3j1HFmProCyV/Ej0L6JJIAzcaPtL3/8c//rEbzOlXv/qV66roS07e+AHPuK/DPfJMzz777I7QOs+AZ2msOjxb3kkvJBAHVI1deeWVbqyQn//85/Lwww+7tif04KGhLoNceafs30X2JS8QNeMYfoyJsNBlWy+c2Z/8sboI2yA/T57iGsirJPD51zDAIhCrCR6zz5jMM0zvtttu68YcYLlPYcL79GbCpbLO7QjAl2r8PAKCbajP/93vfuday9M47n/+539cw9OuqncIv2J0WedD9n3l+S0LX4L14ov75Tl4gWqsGuF3tyv8ep45bSauvvpqN2LpIYcc4kL/dA9FGPj3G3yDT/4+7EfiXWU7lndlC7oTzu+FThjaE9Gw9Nprr3W/2ca/b/0hbxnLx+TkaiKc2ZinlELLbgyGNxphyKCk3g6CwBtgnD6G1IsHektwjyxjHWCkiDbQwJRoA8NE//GPf3Thedo3+GfCMyM6wfEx4hwDkeHFA4bOH7MvgzGnlMh9+xIrz9DEw+eDf3d577yz593ineP98+sRcEQgaHTJd0eozmB8CQQvVR38bUjsS8mevw/vP38rjsFv/pa81xyb7VY3Xsh4aEfEYFosC+c7T3hbo39iAmI1EM5ofp4BpOheuCwV3xcUvi95YTypwgAMFcaTwXy4Rxw9YzVQLUEomPplBtei/vWiiy5y35fwcDzCwD5SwW8MsH9WPF/OtbRSVV+EewWegZ+H8LyxavAseb68Uzh67/R5R72ApU0T6+mxcf7557shtk877TS56qqr3NDn//d//+feXfDvP8Kjs2Dg+LC6/n7eJnUW3Igg7o/79tt4AeHzm9G/MQGxGggLCG8UqMJAQCwNMmhfyaT0K8fgEnnA8WOovPGkHvmrX/2q60FAVOaFF15wYVO+MeGNKs+BsC/7ApEGDDa/eZ6UBFnPlH28ce8P8G75xnjegfFcwYz8qsN7xTP20QHgWbMcoYqT5X3zkTAP7zjLGNCLqAQDmPF3QVxQteFFApEj9uccHJNtvEhZXQLY26ewnQLGgiDvch3hd8nbMHu/DBMQqwGMic+cPvNRAgmPs99Xwan78CwwxWjyvYLvf//7bihhWrJ//PHH8pe//MWJDJ4VYzewLQYMQ0XYF9HgowvAb4wbx/dhYY7tzxU26H0V3i0cWzi0bIb984P3yj9PhIMXwCxHsPF+A+8ifwMvcplnGREH3kvyOlEJviyKAGb0U3pv0F6CyBzvLcf07y5wntVBWED4eyWPcT2IGgi/U6vruoyejwmIboRsqdJBipGiTsl0uqSgU/0/35qRuorqYKNwKoOLJLlF+o9fzVHCyS8nBYSXdEpdLOpI5QnH9OdmPrzeryMuQApfX8fOPpWX5bVEhQHFECGaMEzf/OY33YiQlHAwqFRdYKww0AgIjBXbIQDYBlgXLmUDpTUvJgDDFv69ukpwaxJ/jxh/77y8EzJD//nBu+dFARED4P3j3ead4/nz3FnPc/dRIMQCfxfeW95tplTP8V2ODTfcUPbee2/XTXLSpElue959zgVhUdiRx8p0ld0ciAESf/vyCtYtXt8p6TYR/c/DooIuzJcKEknEJFPIBefQTVjn8CfsnEKz7if/kB07DEWwq9/dw7xfjr10S0r6i/swejQmILqRkv5XIPfEIpIpUhouSSpZKdJWkPTMBbJ2/bAgc/kc5fOOTnL6L3uwCp+ITWFTTAumiXWk8O6IFJUrbo4zk3JZdSo+M7qkq3P6O6czHKy8M/YmT2K1JspVHNv9Q9JtmLAcN8WU7ThcxzF15+LCZr0/vbICByW8XuOMKQKBrm80isToUj98wQUXOIOL0cRYhktfOEZvqIF14fVAqS0sEjhG+Hd/EBAe7pVnGabz8zJWHp7lEg5d4f0Dnn24hM52fh2E/y7+naR3xo9+9CNXZUeUjQbDdEkGzuUjGz7ftjW3duTVvGY8ZsmP5EHybDmLBttTSMnrkjz7ButYxCr3W7NnkcOXf3fcRyKux0I+aP6OFCRalZT5rY3OFkWiMWnP6k5+ezbSFD4OdopUvuTg4lzSH5xfZ7kWrpd5/sm0Y6eCZcG9lA/MTabT5QMFINK8KGbKMwoXGIDfCDAfVQG2DYtpBJ0X20Q0w9sCBZf+EL38PDAB0Y1ENGvENGHGk+V84VAD06rKXj0pG7lU0lTUv0ZBp2SpuCaytfpgKfFXYhvNK5gfjsc6UokNdNvF/yEjkC1aOi9lJZHUPSKcmJwdZFGJ68FIuqo9nZGiLoouXiRqOySuhyXpAYNUpvOiTCbIiJLRDEcpra5W7ysp8+bMcgcrqnjh64cMLU13TMZuuPzyy13dsWH0dxASP/vZz9w3OOi9QdsfRAUiG+bOmaN5NC2VNdXOBqSb21VgiDQ1BlULQF4kh7s8qdtIROc6kuZxdfJNzXlJ6y7YmZjq8iiH1/k8jpV9dO+Y2hnsVVSPltJCT2U8KjWal+P6O6r2oyKpFkePmU63BlUbul90scZ3NgSN5a8nOC6wJCjaeKGAe87r+lQqJlG1N8V0VuKqcpJuJ90+oQeq1oPr+XD+OHQfBQKmPKPOhQR+I8D8PsC2JMTC3LlznaAj8ZuIEOKP7YmQ0uuEgguJ8WeMZWPjQHQnPFpK/zj5rOaShGYI9dJtuvz0b5wpO+ywo3ztlJPdpmQq3cJlsgoyMOEAzbbtmpki8ZgTC1EWZflHcflMs2NKM5RmMtXcmilzuhjRoiXx8iaEJ5EU+SKfu2YN0sSv4T/NXPpfW0taYsWIJCvLQ9kGeT6APIsY0CkGILgyt0j3YSM9nmb+fE6NQFVFh4FoL7bLL39yqdz893/KxRdf7D7M48O5fI/Ad+c0jP4KDov2Ef4LmIy9QGSO3hunf+V0GTpsGLnL5dT21jZJqPePUShQWtTpVtYkXX4MciE5G2cfiAByaSarBRF1/D4rM01n252wTybjkoiQ+4P9Mm1qA3S9i/ypjSq0Z2XEkGEym54m+axEKyukFEto/uYccU1cmdoDF32kCichutqdGVtGQSdK6IMlqk70CC56iQ0BtEdSDUWSi/ILE9iydlkQz0tRHfugSLUryIQjPIgXfiMCcPwICyIPPvLjRQaujegn98M0HBXyvWDYD9ERXs9+/D2ofjKWjQmI7gTnWg4juhiiZtic5ip66x9z8pfk6KOOli8dephmq8XigX8xCUmqAHTHomY81kVUABQ1QycRIW4PjquppUkznR5USwouP7OMXVHf1MOqs3YLKB5oqcJNneIuqKahX3tJqipUhbOzC4Noymlu5hhRPW5Mky7ilKwKrjG4ApdNdUGhrV1ialxYoKZJWko5eeuTD+Ssr58po2sHyZ+u+L0raXm88scQULVhGP0Z78QoMePspkyZIueee658POkT+ct117quzYiHQQ0DAkOh2RMhXlGrea6cZQP7EUQg+Zdf5M+k/lvS46fb1elSatd8SnYGBEd7ulmqsCnk9XK1I3la1NZIS6tMGDtOXlUB4ZRFUe1JBdtiT7BLCA/dzx3RWRA3LWKDOhw+V4Y5iehcICK8rcNdJzMlSbEnJY60ygsVEDKgQuZroYjtKvWctS5coretQsFXyyEcEF98OI8u4EQ5GaGWtiSNjY1uWxiGANNrGTt2rBvund8Me8+otv54XrwB1Ukswz5xDi9GjK4xAdGdkAPIGJo/SpoxsurAea154AcfeJCcc845ss/ee5UzOn8MzVYkzaA4YmcM2lqkqrLK7UP9YDrTJsloTCrjmqk4GMfXUoZLGT0hBiASlFBcjqb6gnAgJyHvueqL8rwLIQQZPacXSyYnduFLFuwU0ezNlAzPNQBr3Rl0Qa65VRKa+dLNTVLVUCdz003yzGsvyzGnniQ/OPscOf9rZ7t7IzMiGHxGJZTIFzINoz+DE6P0i3jgE+IenNrt/7lTvvejc+Xf//637Lj1dtKsjrGhVrchI5IonCQ1N+r/VH0ShcRGkJOxHlQ9VGsiurCY8s45tRVZNSBxzZ3OTumyNhUIHDNKGIFcHpH9RtfL/c+/IzJq7cUZP9smUk/BRPePFiVfEZcS+yicq9CekaTuH6lISYs64LwuTTnLEkQ8iY9wyg67hx1r0/PSbqNaDZMeqlHP1VJKy6BIhav+9Y6ctlP33HOP3HnnnfL666/LZptt5npxTZgwwY0Xg1BggD6iCQgHxAXPmMbaJHp/8dVeIhD0AONbOnwUjV5fYYGCQEPUhaMWxqcxAdGdkG/JHEpOcwqzLOIV3XWnXeSK3/xatt1uW5cnI1RZqJN1mTtelFbNmLjtSi09uAaKNFSgDhJ0k+LMuTL7kyky+Y13JTe/SZpnzJFFM2dLywJV31p6IK8TNoxUJaWivkYGDBksg0cMl2GjRsqIsetI1ZjRKs8HlUWEJkoViIlyyYGXgsqQolS4qX9JWIuscAKifLku0qEZrVQqyG//dJX89Ne/lBtv/7dss+nWkm9tlgHVQVWFb/RE3SXzRB/CoUnDMNSflyMSi1SUP/Xcs/LVM74q/+/H58sZp50u+UwQai+25yTq2iToDkGmVPsSCAimiIik/ptsa9K8qisjbKC2hPxKPQNTvPj0mVKau1CmfzJZJk38UGZOmSoL586X9ta0aoyCPPPSi3LgQQdJIRd8tn7w0CEyeK1hMnaTjWTA2sOlaqvNFxdGKPzQ+JGopRZyKKy06HmpWEVAEA2Jc7GuUVcgCKCQ5YNjXKP+0NSu58rqvkkcuC7Kq63g43lXXHGFvP/++y6CcPrpp7uxY3ybBy8wKKj46gxS2L6wjt8kqlD5bslNN93kutLuuOOOrls5ny+3yMOKYwKiG8G/anZyU9ph06aJPEbe2XTLCfLPv98gW4zfVHOQLnR1hboBDR1UQDiHzsaNmeAgrTr94GN59+ln5Y3X3tDCQlaqBjbIyA3HSaKhVmqGDZa6IYOksrZG827MZXgUdURFAcagZe4CWThjtiycNlOa5syV9kXNklOVve9++8rocWMlMX5DkSED9LxqVfKEEvUiq6o1r9OmwckFJciMCAiyl8tiXLYLe5bkt7/+tdx+xx1y1Z/+KGPWG6sbBPWUZGhKVL5LpmVQwwgg3O4jD4z66BsXM35EdU2N8/MzZs6QrbfZRn566aWuHVF1RaXLd6UC+RvvzVYKBoZGh/o7iEBoXqZxM9EG8im9IdL6++PJMvGpZ+X1V16VufPnS93gQTJs3dEyfNy6UquiIF5fLcVUXErq/AfUNUhLU4vkMu2SS7dJMd0ujWpHZrz/kbTMni8fvPaWbLXlFrLDLjvJ0G22FFl/nSCsoJ4/n26WmN4PEQj+c7FNxIOrCy1bEP2/pOaFJqHtxYKanZhQqYkJzOu1/uKKX8p/7rlLl4j7YBxDg0O42sGDXYGwbaFKwtsdD5FQbJJv40BVCN/cYRyabfQ5M/rtFltsYVWsK4AJiG6EiAONhnjANeRt52w1aYbZeOON5S51tuPWX183YIvySoyAbztB0sw76a7/yhMPPSoxXb3ZxuNl/Y02lMqRa4nUawZQ+9EcL0mTCo82PW4BJU+jy0RSYqq085oJEoWSpDTTVmrmrdKLirVlpaDHLbS2yQtPPy0zp8+QdHta1t94I9l5v31ENlEx4bSCnrBWM6keL/jNvVBzCpgEkayKkFSqUv5y5dXym1/8Sp596mmprdUMS9c1NuCm40GGJlRLaYESgKvDZRvD6Of4iANgjqnOIErXrnk3pfk4ouvmzp8nm26xufzuyj/I7rvvJoMbBrKj5nE8sO6IzXCUp9gRXS+NDJ2tGXH6THnnsSfk+Week3w253p7jN98c6kbPcrZo3Yt8acTQWqPlSSvBYhIIqGrYrJg3nwZPXJtaWtskkJLWtaqqZdES1aSVJlqwaZp6nR59eWX5J3335NqLYTsut9esu6uO4kMUjFE3ieySaL9VUmT626GTYhIQe8xpoKFQe4X5dqlPlHhKk3vvuE2ufxnP5Vxm28oX/rySbLffvvp0qBqwdsN/9x4ZsxjV/xzRExQgPINKJlnv3BEgv347dtkcQx6iPHtHcap4XPmyxot2OA1MwHRbSAJNIs5nAtV5+1eXzUQ22y2uTz60INSv7YKARUAWc3wBS3rp9I5iRY1C02cI29d/095/O1XZNQWG8umO24rQ9ZbR/LVKWku5nR7PVY8qNLAqbvMqJmBlNeMmiff6l+2Mld0rZj5I5cwKm7rkhMjSc1kiUxe6lWFtM2YK+8++6J8/NLrMjRVI/vs/QWRA/cVqdMMmdPsTTeyhM77yIgal0Wtzbq4Tu67/z759plnyaP3Pyij1xmr98md6wXQkLNGiyNBnjYM47NAdsWA5PJaMCjJ7MYFssmEzeXav/1VDtx7f8m0tUg9g9G15zAGgYjI6DxVFUQpyIdvvy8PXn+9vPTOW7LlbjvKdl/YSwse1dKsx0sOrJemQlbyKkJckwe1DBF18FGX9HBqS2i35dpGqZsgxXC6uoRLY1qVSkrL/AUyUB3/kHilfPDMS/L0f+6TmlxEtt92Oxl74rFqhNQApHSPKnqDFKRE9QIlH8SEFmrmzZ4tA7RARIFr2sxZcu45/yuT9Lp/csEFcsDhB3CibiccvZgxY4YTEXzDhGqTY445xgmTsNCDzmKG30Qs+lN01QREN8KD5bWkrVJRX7CqVKwjCjF28GB5/MnHZdS4dTSDJSVfymuW0pczXZD7f/47+fihZ+Www4+Qhm02kfYBVSK1ldKmemFRMStpPTKlg2SqQnLtWZfhyfhkbQxBQQUEQmKxgNBs65brVN9tsj9bx9XgJPXiarVE0FCMSUVrVnIz5sncDz6RKe+8L9NmzZQjzzxNYjtsE1w0PT4G1Opbo/OVKSnFNPPrsh133lmu+PUVssdOu0g1ncyJSba0q8HQzIXGMQFhGJ8dbAVVlxUpdU6tkqitknsef1C++Z2z5MH77pP1ho2SfGOzaoUaFRm67ey5IgOHuP3a3nhTbr/lFmmcO1fz546yybZbS0ltyMJIXjLVSclWJrQgovNqKxAKTjSo8UjovnGdUoVA88ucCghsCfYisGgl3T6wI4ywS9sF1w2zpU1Saj9GxqukPh+TWW9OlHdefFmef+opOfmrp8nIow5REaHbJdQQqT1ob22VippayaczEq9U+6Yi5ulnn5P/+Z+vyCEHHypnff0bMnrMiEA8dKOAyJcbTuIGmfeNJqlC+vDDD91w4zTMvOaaa1z1EhGLcLUI1RyICtf1tQwRD+gPDTBNQHQj5P9FqkqrVaXyKkUZw6ElraXyKll/3bXlnY8nSkwVfJsq+Opkg7Q+8aL85RdXuKqEA79yokxsXSCltYdJm2biaF5LAJrI3LFITGL6cpb0xU8TjVAj4DO62gEnDwg2ICASqqwZqyGQF/zBCSLQDjooUdBQqZBFhJTUTiUlpcdtS6dl1swZ0jZtlrx9230uQnHC+eeJDFfjRJVrUkss6SZp0RN876L/Jy35nPzpD39xUZZce5vUp7T0Qx5iAeKhGw2AYfRZMCDtBc1zhOlzrl1CRvPt6Wed7npiXXvFlRKl62WrZjZsS0w9tAqKB6/5q7w/8QPZYLutZNj2m0rNyGFSVVUtra1pac/wbZoKN7JkW3tGEiktCASWwU2xHwEYEoRDIB0CwUDiVxCJwK5kmltkcEODpNQWtbWnJaeiJKGCp40hsOculEGzm+WxW++UeQvmy+nf+JpUbruV2ga1gVooQoCU6D6q53jqsSfk5ONPkst//gs55NAv6q2kJFmhxmM12g5f1UH1kY8iIBAYapz2Ebfddptst912bh1tMBATVH3gQn3VSHi+c8SiL2ICohtxGS+YdS9WTJ25G1hFnX2dOusPJ74nQwcNFcmU5ImrrpNJb70nxx1/vCQ3XFcmtsySqg3GyIyWVilqZk8Vo1JRDKYRPUZeU7akGVCPk9N3NEfUQd95zumyvc4ErzHliCCzE5YM2mcGAgKyuawzCnnNzFR7FLSEEFFDFa9MyQgtSYya1iQv3nSHvP3eu7LfIQfJWgcfoDu1iTTUSL69WYZusJ5MnjdbmjSj1VU2SFENXVUk4XRGtk2NlR7HMIyVAAGhBqTY2ibR+krNoyWZ2ThHBtcPlPXXW0eeffARGTVyXRUQWc3USUm/9Kpc99frZMiw4XLAoYdIc6Xmwg1GyrSWRjcoFN/eSZSikmNAKlX29bX1Wlhoc5aAKISrAlUbgB3AamBBsBlMg4KJm3P2g+glqa6iSpoaF0mukJdopRaGogVZpAIhUlspo/U6R7UUJP3BZHn7mRfkuSeekr323Vs2//KX9HozIrUpadZt5y1cJFtvuqXccfNtstvue3NCZ7xmzZ4jw9fq3jYI2GVSuNqB3wgJpkQWmH/00UflzDPPdD01aI9B19HOAsFXY/jGnfQ08yOK9lVMQHQnLmeqc8+0S1tcnXgyJXSzKuZaZdP6YTJ95iKRVyfK/dfd4EKK2x7yBWkdVitt1QmpHzRY2ttykiol9Y8Uc/WD2VJBcrzwKhboohmPxaWQzen6xYLB/zExCHnN/dmYnk+ntHnAGATJlTXcdhE9Dh/OcQJCD6AaRVRSaMEnJ9XNbbJ5Li5VC1ulccFCufXf/5YBAwfJsd86S2TYEPndJRfJxNnT5XfXXSttztohG9QA6fEqIvT6tgCEYaw0ZFHNVhl1+Mm6SloPSDrfKtXxpHz9y1+WXTbfSk7+6jc1w4m8duO/5IEHH5Jd99lbtt1jV0mzY221TJw5U1LVNa7nRlLtBT0hsAH5PB+ry0ksHldboc7P2QsimcxrQkToMhK2hYJHUsVMguQKI0HcgupQxEVeCzP8Rw+weFztlTrd9kxaWpoXyrbrbySxhW0y75W35ME7/iOV9TVy2P9+S2Q4jSzzMnbTTeQHPzhXzjjtq5JLZySZqFDDUXbMnITUjRB5wPl31ag73NuDofgPPvhg10vj5JNPduKA7qD05vBRB46FGOnrkQePCYjuhCfLqI6JmGbEkjAErOti1d4iO609Th654d/yj8t+JwcccKCsv+eOkhsxQObUxmRWa7O0N6alPl4tpaacZvyklFIJyceCDF7UjM6HbxJqEOgPjjiguoKM7k6r7zJGAQGRQ0DoCi8wMB7gBQQGpKCZv6BOHwNVIiOoqIiqEajS5bWtLVKbK7geHKV0Vv57652yaN5COe2MM+Qr3/yGfOf8H8l4WlxXpqRVhRJtM7iutnLVDbo+yFqGYXxmyKaagYhk4qwZgql1wXz5+NU35Cfn/K/cev8j8p9f/kbmzJ4rhx5zlAwdv6FMmj9LFqi1qdFCSG1lvRYygm7UuUzW1cvjKIsqAhidMlmp83r8IAIRiAd+Y0MQFU5A6LkD4RBMERPYDy5tYVOj1A8cIFU11e74bS0tEtFjV8QTEklqIWdglXz49tsyrqJeRtYOEpk2S+65/Q6ZPGeGfOWcs+TGh+6R+559Qv555x3SpNdYU12rx47JooWLZMCAgXqG7se7QEQAwofIAfMIhM5CgHUMWMUYFL///e87xAU9Z8LjUfSH6AOYgOhGNJ9JRosHDKAS0xeThkaCuk6nZaOhA2X3vfaWb593rtSPGCaR6kpZoBkoqzm3uq7e9bBoTbdLIq5OOKolB32RGX8BpYzKzeaD+rrK8iiVnQnsTjAYlf6Rg4UYhmBOCeYwLJXJCqlIMtSLig4tlbiohmagUrIkrYm0nrvoRoTLz26UEck6eenRp+SVZ16Qv9x4rTz91MvSsOXmmoPaRaqrpJDLSoxqCw5v6sEwVhqyEE0b6KkJxaIWJvimDbl68nTZc8K28pWjT5DRI0bKZltvJQ1j1pa56uVbapPSVl8pze2aF9vUBuQjkqxISVIdGl/UbFYnz5DWA9XxL1y0yB0bmUBW9QUNXxghuskSJiwKpuWVCm0rFi1qdOKhpqrS2RE+4U+vBr7BsaB5oTSouEjlCzIkUSmp5rQU5y2SOR9+Infeeqs88cKz8su/XCXr7reH2sao5PRm21UkxSQuOXXKtckqZ0a6C6ocqKYIV2GE8d/MoOEk7R0QCYzdcdJJJ7lGlXxBlW+ZYJPpDurH9Aj30OjLdOffpk/gMk0wG7DEj+AnQiGc/CZEG6h6aCo265PWNQw/3ZSX3JOvyhbrbqzi4YcSXW+kzKpJyFxCAzW1EktVSruW9POtWanSDEdYsaWQlYUtTbKwudG9mFF17lWpCqmtZqAZoga0il4yUW2BJWBCdML99MldXWAYBjYMVJESl4yKlWw6IxXRhAyorpOGVLVmloRkayqlKRWTrBqGrGa04qAGGbnFeNlh3z1l2022lga6jzW1BgeOasZPJaRpfmCU8mktruhiw+i38P6H8gCzXdmKpZEvMgwThpqBoair1xIxDaozIpsOHy1Dhw2VrfbaVQZss6nMUX+1QO1MJhGX1qyWpBn/BZuiYqGtkJdF6VbJx6JSPWiAi2ZOmjXD2Rd6bbkoRHBKd1GcE7sRJCKYZTujiTYSrt2Vpsa2VklogaFuoBZ69Lzter0uUqrbtGTapaayRu1IUlrjUXlz/gyZGs9JdOxwGTButBx+9FFaMEnKugPWEpmnNlKvN+PitGpvcu0qHirLtqprlvks+bHEgq7BySMeKEdTOCMhfnxCPFBNQa8LxAMFLkTC9ddfL9OnT3djRSAyFkd2gqfoqzT6OhaBWAbhd9ApLbdA//Hvhk4L+k/45WUV25LxspGiNEubZvy81Bd1QYs627ufk2uu+L0c+ePvSn694TKjJibt8ZhUaCmBUdoymin5KmZdJuhalU5qRtUD4p+hq9fSn9sVFsoE2xPyZLLkzn57cIt0R6YuhTZtixdkUW1BSpmMDG2MSLUkJVsVl2IuK9EFC6Rm9kK596e/la/89CciW4x0XU2DMTf1olU7MKBlnCHzy+dd4sSfotNKv8/iGcPoXfBKB/7EGQXyJ9WEVEcAbzYthcij7i3vnD90IYvogVHK5yWmjt6xqE3u/MZ5MnzwENn+1KNkem1UCyExza8xLenHJFHQo6otYYwFCNsFd4qO36ET6iyL3aryPP86e6A/mLhUni9vENo2ILS43G4CcVKSllRBsjGsZUFS6qQbMgUZ2lqQhY+/Ko/fc5+ceNF5IpuNlQWVup0+keElDJ8aQ77dEz4B6G+Oz6N11a5uIc8yeJ7umkPP/VP7f47ss88+rkEl3TyBSAQgKPL6N0N09GWCN8xYKryL/gXtILTAr+9qO15mvqypulwkkxeZPEX+/ve/yf+c8x1J1taq4ObxU65QxR2Nq1Ag48dUQLCcMkeQGcrBhKXmA7+O7XwKllFTSfhRj0VyxwyO7ZNbpmo5qAP1g1BRggiWxVXYxEsqGqIJFTdxNQJJKVRUSrS+TiqGDJSjTjxWbvz5/4nMmUu8T49ZcKUSLsD10FL0cgK6ugFWdmwA5QWma40+iC9s+Ony3vJSPiNRNQIRPt1PnmgvypXf/r6M2WCcbH/EIdKUikpLMippFQ/tsSDl6OZdjKnzpsFkUBDxKUbSAkqQoouT2qKoJoRHIGlI2I7AhgTWpItjlI/rU9Cge8l5dxw9XkFtUDYW1QKTXnMi4q571PZbye4H7Cd/+Mklah+ny0C1hQM05ZuadDevArrGP7/wM13dIBxoXMk3NebMmeOEg8dHI/oyvCXGZyLIEIvTYvwS91D1jY7RCFFnqvmS1uy0/PmSn8vYA3aV3PiREl9rkCuJ0LIZkdCUEmnVd69aBWxtVjSjlaQ1GYQL1xQ0mqrLlKRKSxHNFRFZRJugXFEqc1FJJaukNLBeanbZQgZsvpHc99MrRdK6QVu7pCorpblFDZ8KCOyHz+ikTo9s8UPrWBHawO1gGL2Yjvc7wDnhUAqtCtAF5Bn1zfr6q9vFiap4iCa1fN2ekw+v/KcMUH0+7rB9ZPaYellQEVdHHtfSfFRT4NCzuqnrkk1JYg3CPeTUjvkIakrtSE02ItVZtR+FuCuQtA6pkSF7bCsjN91Ibvj1H0Tm5SS1qE3idRWSTWSC6tjyM+n8sPi55LMMbdDF9t0B0Ycbb7xRvvrVr8rs2bNdFTPt1agKCQ8u1VcxAbEKLJk9+VXW6sGs5h79Z05alUFEnv3T9VLXMEC2PGQfmRRrl5mlds0gweNnH9cCWn/6CIKvZyTzrCno3VGlgqZSL6KoBqxdBUFWM0Y2m5es3ltrNCaTowXZ/6unSSRdkA//eIPed1IqChmpqVY1pNfvH0U4dWRunzrwPz61wjB6H/41Dr3O5HgS4XY/3/Gm6wz5g3IriU9iqRXQmbyK84wsfOE1ufOmW+T4iy6UeZq/Piq0STqBSo9LhRoLHHNFjogh9qOojjsYNXJN4Xqe6TUU9Fqo0k3mI5Ki8JGPSUwFRE5LGG81zZfimLVkz2MOl3gkKs//7Ldlw5dz1RMFfQaLn4dSflhMunqWDlaGUzez0UYqfm64QQ488EBXbcHgU/2lZUDHMze6ZkXeQb+Ne4l5cXh3mFIdVqqR9jsekQ8++EiOVkc7J5+RxkREWmuTMi8SjCJJuK9SbQTRCEoPafW9iIk1DUImnqPOkk8D6x2qYCD82KrXzHd02lT1LIzHJFNdKV848kh56ennJfPwsy7MGim0StY1iArqKL0BCM93sMQD9k/TJ8PovVBydqn8m2yNw/Mp/IYvmU/4T3/heZubRRYV5KZLfiWn/b8fyJzMfGlJxKSipl4dbELykcAZU/1J26naLMKBxpTFNWpHuO+860ZeDD7op/YiUaR6hWvVa46ooRs6SN5pmiet1Sk5+MgjZO77H4k89bzazpxrO0YLs+BZfNpu8OzCz9Lfqnt+5efe3Xih8MUvftElxoegaycNM4lC9HV6gJvq+XzqPWQBL2jwy0EIrcMgUPfFB21o97AwK/++9h+yx6EHS7omJWlV5ZGqSmnVgkOxusK1WKaDBiX9lG7ersWHdDLIMm6wFveCrpnkaj8LdAPDANCeKSqlZEIKqaQUEyk1TkmJVtTK1MZmKaw1WA458Xi58ddXqsFjZDyOkdG0OBN1PsMSBqHzQ+5YYRi9E/+OkwP86+xMh/7oiFKWVwSz4YW0jNI9S2S8pDx98c9kr912l9Lag2R+fVIKmv9ikZQeX/OjOuJiJKZ7lNs86Elp3cRH78jD4WOu7lRS8cA1EBVhGH4adtLLAuHDdVfUNMjcphZpS8WlduzasseB+8kffnap2s+SJDKMmOmfXvl47r8y5cX+eXoTwmL2WsK+dBP0tqAXBvziF7+QqVOnuvEh+stgUiYgloHL7P4t9amTo/Ovs3O2zOPwERC0xs3mZO6/bpX1N9pEBmy6vsyKa6lAS/RDBwyW2fMXSKq+zlVdkLlq1ddWaqbhg1ktKiA4VlJVu4touHOsiaTQP1qNUjyHiKA0oXlbSz/5OA0r41JRqpCMFnOm16ekevstZPzodWXK7/+s95+VYqZZX7AljZj/z2fu0Jk+zTJXGkbPhlfXDRxXTm6Jf6d96iDIF0wpdZNvnB1JF2Th/Y/ItAWzZMO9d5Tp0axkaytl4MCh0jynSbfWfEhD7JI6ZRX4RC8zWjihxI89YQj7JU+4ehP2i0R1KE4+p/aEhp5ZBsHT607PbpK1B46gltdFZUsbDpeasWvJnP/cK7JIjSIFGN2SZ8Lx/DPqYPGpyosXP29SaMtugS6edPWkeyfdOK+77jo599xzZf78+a4qo69jAmKZBG/lYge4GL+EtR1Cw4sHQlekYkFuf/gB2Wa/faSlIiH5qgqprK+XmdNnyYghwyW9sEkzum/NHGgT6g05LgV4EsvWFIQA+WgXIsL1j87lJaICSDQxpHZWjVNbW06qVRA111bItPZG2Xb/feWpxx8TmT5TKrSkES2XgnwKnlqA/9WxdE3erGF87ngn1vGGL/nClxcB25A/cJZBGV3tCJ/jnt8qD992l2y5/54yp0pkwDojpTWTk48+mSxDhq6lTjkI3tPLKq/5lM9vUyihAXRKs6oLBK4hyM6cH9sGQU+v8nVq4i5rIhVSaqORaFLeV5GUW2ewHP710+RPl/9axZPuqM+AZ+GfC88oeJ5lmA0nR7BNh2jrRmpra92XO6m2QESMHz9eLrzwQvcVTz7t3dcxAbEcAp+29JeQ9TTzcQ8SAUFqbBS+oPefa/4k4w/ZR2ZU69qqKimoR16UzUhC5+nJQH1ldTbiqgfa4xFV5kE1Bu0hXEYpi4llQR0cYTRCZiQ/gAlTQmh0K2KbPCNhKixjHV2MVqSOLseHu8j4Sd0vHpUa3aVGD6V2Sq1UXBKVVTKvuUWy9HceOlBK6w2TYVttLO/f+V8RBHh7TrJtaTUCKjiy7e555fJZDu3g/nzqYHk3bRi9gMXvdvBCBzlT8SuYFIKZYJuy2FbR3TJ3jki2JC13PyINFbVSv+14mdEQl/Z0RuqjKakdNFAWtKfVQQcFEPIovR0QD0CJ35X6g59LxdsNbyOwC96GeJsBrCdhP+hdwDS8visQD8HH+/S69NoW9yhTe1LuJs4XhiuE+ly1f2pfFjakpLEmLgfte6C8feW1aiz0Geiz4JmQ8jSu1IIZ+GcXfp7+fnmeocXdBs+Lb2EwCqUf1vrUU0+Vt99+Wx544IEOG0vvDM/ynltvouNPaiyNLl5BfUv9y5nVl4FBpqGoCtRFIOpqJf/BB/LBpI9kwISNJL/2EOdgc6qm6ZjBO5XKR6S2EHcDSGEEfNcrGlJWaKai7YNrQb0cC8BAJbykmUzWjcfuBQXL0uk29+IyJjujp/nBTXjpV6SODnNGaYFE1QWhyKTuy0Awce5Tf3PNMdp0aKmoWZ/IgoEVsvG+u8kLjz4psiCtR1ERg0HSbZlSN8vTCpckgn8XT5d3z4bRewje6o5XuuMlD4ioEtecJHm+ZskCdZLYkJr6ASrAM/Ls08/LJhO2lkKNFkCqq6SlPaPHCgoKPr7hejtoVsZJYz+IPHBGnHSn030K7AG2A5uAnfDfb8COYC+wL140kLArzVpgWNFvPWDbuBY1c07cEI1AVHDdblRLCl9a2CqqbYzGErIwn5PkkMGy7sbj5f2JH4nMnacOui6wq7oPnzHnYQa/OlFe0PGsP73F544XCAxzvXDhQjfP0Na/+93v3Jc7eY7gh7Vmez+4FPa6t+PeWWNZ8AJoKr8IUF7iiKlzdS+sLnBzvOiannnsMakZUCeV64+StiF1WhjnGHypjm9OqORQJZHQHE/pgf/IXOQ16i5p+8ABcdrBeThD14mhbRlyOsjsCffbJ5YVCkUVERk3Xv3ChYvcPNslkyk1QoErX1oq6vqMGg/qLWkAlaQ+kj7pmio0IyT0PjNk5cqUlgYiktHZudVxGbjlRlKVqpLsg4+rhdJSC+cpliTuWorrVI2fExA0ECsT3HEn/KUYRi8keH2Dqgnnyju/4LoBeRxnWHAOUqHxNR/gU4c668UXZVJbi4zYYQcppotSH61yUco29cJR3Y6BngvRgpbcNR/ilfUE9fTC0MRAcOl4ICIWZ6RPp4qKSufQMG/YCsREW1u7Cgs+Va2FHr0WbAZf7gxsStLZFdYx39UxO1JZPHD3fmA6bFsF1RIqlIp67dnKqLQII20WZECqRnItKmYiSWnYfDNpq62SVx56ODiOXptLSlEvlrkiYVBOEUbvI/zMO6/+vEFc+dEnKaQhyICvdlJIo00E+G36WrsIExCrSFxfkgB9c53K1Gl7m7z5ykuy5567a2YXWVTMS5s60EQiJVUqIBj5jWhEVrfNlessXV2h5grfFoI8syICorGxyWVwvq5HIsOT2REHqVSFvtQN7oM31dU1HfMYB/Zh266O6RMZHgGRV8MRlGw0Q0Z0JprX6yTyUlB9oOcrMmhKpT6MpDSpYZit93/kyV+WW26/wxlCdzw3VbhP/c0ZvDoP42wO+Klh9GJ4jbEQzkrwuvtXnhWacCvkjJiWwt1KhATtjDQPP/zAgzJ+7z1EtETetKhNCxfqtFOV7rP+JS29pmJqR9Ro5OIFtR+aB3XfuNoARn9E/BfUNgUudOkJwYCtoECBQEAYYCNIvkDCemwFwoIsi3DA1lAg6eqY4eRadej+2BKiDgiHuF4riZEm49VJaWxvcVvXpaolmY9LU0tG8vW1MmH/L8gzTz0tklani/1wJXaOEggIZyt8gvLz9c/bL+5OEAleHPiqIKIzLPvNb37jPrbFvBcWYfrCQFPe+xmfkfK76shmg9bCbom+QIveelOyLa2ywXrrS75dXx41CO71IaPmoxLNFV0pIl0Vl5Yk1RcR10eatg9kCuoyqRpAQCwvFxAuoyFPUCog8hD8SXmJ+YIcrYGZ8mL7r8n5F5zfy4JMn9Vj0vCJKhdadZdUQORiWmKIaIlE7yqhyiebaVcLqPcVS0o8H5OmxrTITtvLFDUMmUmfBDfC8+ERkfSmuC0iE/72/PMMP1fD6M3wbpMbuzSyupJswcBsZIlYRAUE3pkIBCs/mizTJk+RjfbYTWbkVCzUDJBCu26pq101gG6SK2Qkk8i7KES12pgqtSt8SyedCM4cL2j+6lDkXeM/Q00ivI5dYEqDwFmzZqlQKLrwO8mvZ57SNnZnWbgh8vU6SOR4ngPdOrmJGCKCD4VFtSBVyKqAUrvUmpG6iNqoWJV8ote19g7bSLq5ReTDSU5QEcXkGUWIZuhRXOL2urhF/9yXffefD9hRBALRBewwVTv83n333WXw4MFy8803dzSo9DY33CaiN9Plu210osOjBa9j2MEx79whoUJKD/qCfzRxomw4bj0p6gtVpU61MqqONcJHqIpqBGgEpJkmFZf2qoTrdoVgIPpAY0qaPTh/q8vy6pzD5+oKMjoCge5EGANeYBrzkHhphw4d6owDn6BdsGCBe7ExAKzzjaWWBqUXMj+liKCxFiWI4IM4uXhehQQCQu9ejVdRBUIxW5C6aKXUVw+QtpnTZJO9d5MXXn3FPRP37MjxzJYT40qEWd69GkZvgxzm3nL3zofyG3mcqQp0soXbQIV9EKovyZw33pJ1R42RrObjaepsBo4YJQX1oXylN6FHjGM/8m2aJ6lKzGuJvqiH19JvXAW9igiEA9WOy87hi+vmsR2IAwogODkKJsOHD3cFD+yHb++AHZk5c6bMmzfPNRxcFtwyhRBuFvtGGypsGoNLEcFM6LUX29JSlUxIRAsgC5uaJRGrkNr6wTJbbeRCtS0bjNtAJr/yWmA7ooHIQo7wk3K/e4bhm+QZ64l55su7988D3waCKWILeGbYV0TCd7/7XTcuBPjnC8trf9ZbWNKCG8uni7eSDObQF4SX941XX5Pttt5GxUJWqkpxqREVEUQesprJ9eUqpRKSrYhLs5Yc2rQoQQMooGQRVGEEGW1FhrLmhaQ0gFDAGDCoCYOZ8GEXFDHCguV8ux5xARgD9kN4LAtOHTSCIlSqmUSvifrLpGb8NlU7aU1UQ1bqNikEUltOagsJqU1Vy4dNC2Tc7jvK8wgIwo8YEjIbVkVTMRM0IOLoJI9brQuYGkZvp+P97vRCl7OBW+fnHTHNo5pNXn36Odlx2+2liaqDZEra1cYU1YFWRxKS1I3T8YIUkiJ1KtrrMzqvJfl0oqjbUfAIembQRTzIv8uGQgjOjYgC4gEb8tFHH8nHH3/svu8wZcoUt2zgwIGy7rrrypAhQ5yD9L0Olg5VKcET4Kuc2Dbaa7TRxzQSfJWzQm1kvd5zVkVQQe1iTrdNU1Va3yAL1UZss+VW8vpzLxKq0Yekx1L7yfH4F9fNlLQEuiA4a/eDHc1roQyb6p8H4gp4pvvtt5+b0iMD2w9MvS3u7ZiAWC7+NdQp72/5Fw+Oron4/hzhNeZ4o9Vpv/PSSzJ47LpSqq2T9mxeIupA2Z4gRUzVdtKp+ZK0q4IPsgJCIWg0GZxESw7lFMA2XafW1hZ9QbMyf/48ue++e+U73/6W7LPTjrLHttvIDltNkNNPO03uuvNOyecyUlmhhqi9TUsOrfriR9RYVOoRgv8WH3MxREOoU43pCx98qZNohN51KeiZTd9zxEEqGpcqvadcOyNPRqU5k5eatUdJvK5eZn34cRB+pHU5D4hb0mP59hf+jMHzDFaDnxpGb4V3OKik00Tm9y+1Tn3WDt75oBpDKlQRkBE0b7z7xtsyat1xkkykJKX5dKbm76KWWmura1xpvF2dKw0g8cVEGrAdQUNFcnE5V5Xnfc4O0pJLEu5bGkVJxGN6+qRMU7Hw56uvki8dd5wcsOuusv9uu8q+u+wsp375FPnXTTfK9OnTXJUtNqdQIA8vefQlWfx7sZ3z1xhER1LRhCT0KeTUCdcPHCAZLZzM0MJPXUO92qsqWXv0GJn47vsiFDi0hF/S7TgSx+PZYXIDu6n40znREjx7v6q7IIrrC5BEIKgeRmABgox2DocddpjcfffdHW0e2M6Lid5O7EJGvTCWjvs762uozpLZvP5DA6KYqBOOMFZ7XFpbMpKsTKlQ0A2efVqkqVHW2mUXmaTb5qkf091dhys1Dkxdl61CUSr1mLRKjuvLxIuOk6bqAsfMyx8MMMU6zrxkYhmJTI8B+PctN8v53/2uzFuwQCZss42MVgEzcNAgLck8JU9pSqWSstmm41W8JPUlb1fjk5IWFRKu8VY5l5HdmEW4YMfoMeEqMPT4nMsNVhOhTQQZJiHxQlzX6Rb6PAqasZMqjjJaksirocvqtgMwDe9+JOvr8ugGozSz630nKiSvpYmkGkWMps/87j65tXLmLy8OzRhGLwOVQKbXXJQlb+tPnB7vNPOQyGteUMeflmyQ59U2pF97Sxo/miYb7LiLtCRjkolFJabb4PhpsEw+pM1EhIMwAqUKexoqkmujmodc1MEVSDRfOnvik65klctoQdYaOGCALFKbkVIhkdECzXFHHymPaGm5tXGR7PWFfWX8FpupzSvKxDffkIf/e48kKipki803k4ENDbrfQpfnOU6AnwsvCewVi1xe1+cQFIwogMTc1y5IURUSFMQiei9JtU15tVG1WvhqUOM5/f2Jss6YUZIcMVQi1RXSppYj6Z5kUW1KINHKnVCCB8wjd0vDqfsJi4kwm2yyiZx44ony4x//uCMi7LrhYvPK9q634h61sTSWfAFdKUFnYzHNBORUauE0c9HDASWs3lhmvfOORFWht2lGiKoDp1RAfiHzkMjEOOWEOl3EA1MOxToy++I6w6DrpMvrLuOHks+UmhpUqb/88kty1ZV/cL+/e/Z35BeXXSb/uOEG+c/tt8ull18mbWoMfqnTdGuLNC5aIFWVFa4UgYhYEj0mhy3Dy0GraZw71xSMIhfXqQqDYlyvL+aMVXDFCIygFMQ3/xEZUb2H4ZU10jZ7tm5RkAKNu/SgkXg5fKc/g9NxXn26TqiQyrAydD2G0esov7/Yh6AhdZBYzKwzIy5/le2Lzs6fv8ANFMUSNww0jkZXBHaEucA+kFxvC01kLCf8y/kx2DY4D/OkgOBc/CRNnTxZUioCKlMpOee7Z8vMGdNlvbFj5YEH7pcrfv0rZzduv+1WOe+C86VSbc3Vv71CXnzheT1MUerqav3hyizxo+McpMD2BdfnCh16vVw3CUHEVfOfu061cRSquHeOWT14kMyft0DnA3fFdj76yxbuuXk4D/+4mfJ0DUIVB9Ubm2++ubz00kuu6qevRB8g+IsYy0b/4EQdPkW50QwhKRe91wxCXeGmm27qXhTqFrubSZMmyTtvvy0LZsyQLbbf3ildvlGfz+ddo8ljjz1WNtaXFx555JFy+wfNqHpPhNu6GxpiUYcKvuFQLK4yYYlcbxh9GwwtrgxH6n2aM77qYICuzU5WFyIy45PJMnCdkbqwoILdrV4lOsoezJd/ewirYyviiZg8//xzkk2n5bvfO0fWWXeM1KhAaM9mXSHl6KOPka222kqvLy/PPPO0a1/V3faDAlW7PoMhY9aWmfpMyqFc14gUiNMy5x4n/3R+Vm7Fmod2JXzq+x//+IeLUBB14Jn39ugDfA6vZz8A5axOlwbStAcMfJ/mQoSFZrBkUksDgW+U999/370wtFDmJelu6Ca06WabyWlnniknnHCCEy40fMpkM65xJa2rCZlxne+++67bB0fuX+TuZq211losICIxKZZbLfchEW4YyybkvLEd5IAOxweaJ+JlZyi5iEz78BNpWHekNCaKrofWquDPS6TDCwlw59Z5ChR1aicmfvCBpNsZ5Kgkhxx6iBRKRVcdig0jIoKt2GWXndnLjbg4d9685XbjXFUQT43xovv+x0zXlVOvWh+eWi61H0Gk0t0HLPFA3a251BPA1u6///5y//33l5fotfURA7iKr2c/IFRU5m+OJggW6duqjjhaVg65XLAdEYi6tdd2mYtWy90NGXvs2LGuu9AhhxziQmZV1VWSSqZcCYEWwJMnq3rXi0YF8+IiIFpp/+BVTzeSHDDA9Qjx9KXwnWGsKOQ0/BviAUvhnJ/PCuRJppQ3tFC/aMZsSQ4fKAsr1K6sQhblHEGbiPJ8eRnJoTMMI93S2iKVajNef+sNmThlsixqbqYnqQwZOkSGaqL9FA2u33zzLd0h6iKuQ4cMcVGI7oR7b6qMSEqfxaJpswIBoc/IOa2yHfH3VOKfsjfz98cWwVZrDt/Nc8stt3Rj8vgeGn0h+gAmIJaDfwGAaCNtZGLhp1Z+EaoqdaFu67efM3euLGoMvhO/+FX+rGn5IBiAKAMZ2nfNpJTw3nvvyZFHHikL9KXdaffdZeTIEa77EF+PSyaSUldX57ZdNl1d14ompSK1RFWOu15dtRq0i2H0DPR9J5diKRAPXkD4LEIjZJcdMB1Z/b+xRXJVCWmtYhh5n5dWLiFSvIjoYrVr1EcEYsTIkZJSG4IjzhcL7hsdM2fPUjs2z0Up3n77HVcFSkFkx512cpFPHOLy6eKkK5iIvqT1GRSqkpJvUhtCz29Elq724iv8XJ2IKFNevcbxY0NgnynovfHGG+43hbe+UJgKvI+xVDorxQ7xoJmsVZ10NjSiWLuWtN32qjJ4YYYOG6ZLg8yw8mnZEGUY0NDghAtVJ0Qc/vTHP8lRRx8lRxx8sHzwzjty2BFHuE/MUp1AiYJqjWwuK3NV5Cwbf/7O1/QZkj4Pl1HK1Tm0ss4xVK9h9COwIiSfM5xVYUbx69xYB5Sw80VpjRWlvZJh5Fnh9/psKThuICLAnyecGB+GKs+mlmZNLTJzzmwZOGSQpOmOOHSo1NbWyIIFC+XSS//PCYkho0bJ4Ycd5gaTGubs27Ionzh0TZ8l0QYiUxmXtmhR4kR46S3PVP/31+8FBBalw6qw++LJGiU83sOOO+7oGlICfsIERD8gSshB4W8d/ntTiifjXXXVVXLooUfI2qPGyS677CJPPPEEX1VRNZ/qqPvvTriOqupqmb9ggSvd0+5hthoBMvumNHpS7rjlFrniit9Ka2tar2mqq16pSFWswEAwsAovOTlbFbiLOpSVOPgoTR/IP4axYpTfdSZutqt3n4bamjWo429jYKWkllI76jlWhkA8OGfrp6EERC2xAxR4EAsUMmbMmCmD6fkwf4H78ub/+3/nywtPPiWNixbJjTf+07WLoOCyYlWgK3/9bmycZFQypULQcNKpBD2eu5fgDryA4Cwrf6buh+dFd04G6OL59RVMQHRBuG4vE5rHD85f0Co/ufj/ZPvtt3dtDqZPn+56Pjz00EPy5JNPuuXqqd32OPPuhlBic1OTxMshMZzzBRdcIA8+8KBr9XvTrbfKyDFj5J47bpeLLrrIKV+fursO05ENxtpXKa4ZfMksnmdQDcPozyCsfSkVRa2/qUqg2m+1tFHSc2MzaPSN/UAwBA2x50hNTbWceebX5b47/yN1Q4bINddeIyNGjHCCg4GffPVpd8OQ0G4QJs7HM1GbwjxR1N4Az5UC3QYbbOAa2ftqjdX1/LoTExAK9YBA+B/IQLQlyOmLmtL5vE5pHPmDH/xQxqgzplHif/7zH3n77bfl0ksvlWOOOUI22nCMVA4fHmR6zfytLa3uxeluaJRDhuaa/Xj2zU3N0tjU6DLdhhtuKOedd57LeLeqoFiwYL4zFgwoRalj+fiyykrA7esziNJPHdFSPpY3jK66xzD6A+VXnYmb9a9+KDLn6kcTOMmoVERiEssWZPFotCtDxLULcNnQT0MJmtT2kQ9pDzVv3nwZOHCA2oWUsxNf+MJ+8vzjT8jo9deXiy++2DXCxg5Sml5LbR3dxJfPyl+/GzMiy6BRDGCnV4zZCIVSuG6eHvdSXtTjwAd4O0eBkm+J9AXh4DEBofjuSFQHeMhQCXXAJVXn11xzjRsIhAxDtcQ1f/mTrLf+BrzBElcnnNWX3KG/nVNWo8CLk4hR/eFf7ZVNywaR4L/sRhsIEh/CGTxosHtRmT/44IMkhoKPx93180Lnc/nlfgxn8fk7X9NnSCpoqM7x0I0z7j5d7AoRhtEv8E7b5wzm3UwZ9xvxkIhIrDIlVfmIJFtzwQiLHXt9thScMxAR4K8hnHBq1NM3LWqUGrUd06dMlVdfelnOOP2rMv2DD2STrbZyn6Q+6KADZc6cuVpQCb7oS8Fl+RHW8olD1/RZEh/gSrXlJZkrSTFFFFMXq+ko8QEehR4kXkBgUQKrogSr/WSN4guRrufK0KGuR5oJiD4Ef+B8Pu/CeDQoAqIPhBDnzJ4lRx11lNx6661y++23q3D4oyvpt2dyUszngtCj7tdRFaCOmSoFleha6o64iEB5xUqm5UMm/utf/+pKCE899ZT7BC9Ch1IC56eh5Ny589z9JdVAEKLkZUZE+LHZl01X17WiSR+Fns8/V+A63MB5igkIo1+gWcE7Ol55knMrZBEXjSsFDQCZ1SxZNahBYi0ZqW1npNpwfvrsCfHAIZZ2GFdowslpYljrqZOnyAlHHyvTPvxIdtpzL/ntFb+RCRO2dDaDhE1hShf15RdAoIuTrmDiOx9VabUXzW2SGlCn9lavU3VEMcp6niOfCl/8XAlOeIIteg7YPZ4ZthkBwTPsC/R7E+4bA5H44yIciD7gePfaa29XBXDzzTe7CERzi77IWpiuSCVU/SYkR1sH3a++vtwYUUvbDQ0NMnvmTKfSV4fS5PqfffZZufn66+XRRx91Asa1i2gJxlxfe+215cMPP3BCI6vCaKONNnRGgBeaaEV3g+IePXp0+ZdmbBUuUBbmhtEvQCDwyqMRvIBwkQHyg2YGJyAi+m+yJINHj5TMzPkyMMMXNVmxcnAOLx7cfHkZyaEzDXX1snDBQhk+dJg88+TTcsLxJ+iGRTn4i4fJxRddqLZkiDQ2NsmiRY1qQ+pkxIi1nP2gqrS7nSD3XtdWktbpc+X/t3cegHZVVfpf993yenqHEKq0UAIkCAhIkSIOiAUFRMEOIoiD/mXGPjjoOFjQUZQiYkEQqQ4RBKkOhAABgnQILb2/fvt//fa56+Xk8lIeMXltfcl+p+1zzj777rXWt9duo5mZk2VIIRDJyLsC7JsCeagkx66F7I12+wWosFml0vTgQMeQJxAYWYwpbLqpqSn0J8AQH3jggXLuuefKhRdeKCOUObJoDCTDfvYVy5ZKWuN2trauMYYqVDvssENYThvyEDoPbmZQIE844YRAZK655hqZPXt2cEniWUHI586dKxdd9F1ZrYRo/0MPCR15aLLpynYF8rG5QZMJ77RMSlmHMYWTCMeQQMWAE1C4kAhsXdz8sp9lsoaMyLa77CTLX3xNGoMHIrr+VmHvDSSiEgDnSBfe1rFa4ViyeLFc8JWvyJhRo2XrydvI//z0J7LTjjtJc1OjTJ48OXQChESgb1auWhW8tlSWNidovhmWT8jyea/LNrvupMpaE5zCq8JaGmu+LYB86j7oP+TBKpEQBpqard+ZE4hBAowoTJraOAyRzpHHHnuszJw5U04++eRoGKdeZwhkQ30mjLRqaW2XUcrMy3pvvd7XXRZ0f9yMGbJgwYJQWLaEgYakHHfccfJuJRF4GM4++2z5xje/IX+87o9y1VVXyWc+8xl5XEnF1ttvL1/5ygVRU4Z+ZzoVkYzNjTfeeEMy2+8Q8tBGYZS0ZlGpeDkcQwJm32xCJzbd3EAFgX1W1aQPxFY77SCLmbq5s1jpA7FpMOJQeXU3iQBUNtB9D896WF56+hlZprprxbLlMnW3qbLXHnvKOw46WMYOGyaHHHJIaM7dd9/95JIf/1iatBKy4XlkNg30gagv1MgSJRCTNU8kownXLIott7eGN8QyNByD7p2+BfaFyidkDe82OtjOD3QMeQIBs8ag0ikIz8OnP/1pefTRR8OCVE3NTZIv5aWrmAvTQ1Nsy3mRkc00WaQkkW6gSh0EcvWqNtUAepHFo5YsldpsTsZqoUkp42CZ7pxWOwiMbWZ57EwxCqx2SckPY541RGUeF10UAo/u1gCVYOc1FLUQptIZOefcL8gnzv68tHd0ylW/+KV8/+KL5b++8x156dnn5L0nfUguv/JX8radd9FbkrJs+Qr95towA97a0Gfy2G6Q1mIIpDOhoahpZIa4gn4TghytAGhxS1KrwlGvtZP6Qj7cs6C1RWSrrfVyZflhrQqxpn+4Q+/rfh2MopuJVcBh1SmHY8CAsotwIPO6G/yRyEpF7ILx02uF0Kaf0Osai90J42TF4iUqZMVIb+j10KFQxSajtgedEumMKJQr20h/RA/ntUkN4clso9OKSKA4DEEPlyph+PuDD+qRHmjtvqCC2dreLiuXLpOFWgHgfEtrm7ysumTV4sXy0rx5snLlqqhvU/S4CtY6qCB6k6Utoc9mlU0C/3KayIImNqnfxOrEfCdgAq0Smabx2pgNc/xYfXz3R0hR3xX0j+5XvzVq4NAQ4q+5p68AUcDjgJcbshbvWDnQob9n5WsGKfg8cxcVKoaLWjvn8RKw5UdlAqhTTz1VLr/8cjn66KNDPOrM+UjMw0QmLENrZTMquWXpzOcDAelob5VmNcoM4fzxR0+Xj53+Camfsp0sHDlKFqeT0sbKevmsjKpJyXA1osmWTmlsqJdWKUg2FS2BXdJ3pFRqEpXlbkG0Wv6GfyK+qaBpYYY4JithmlkIwmGHHRZIUl19bWDBEA5WFiVP7BisEcI1e4E8aA5ESwrrXk1SWtMs6Z1UQa8JyqxJ1V4h1yWphrS06Tsn1zdKMpuVXCEbOmI98/fZctoF/ybSmNEfIKdVCiVdkKZUjcZRkpGJmjRYnncNNA12uCY5DscAAybSjARkG6sYdiMSHl3QU6obSl0yXOVKVrXriZTc+aWvys6HHSpLDtxH2lRmdiw3SGHJCsmqDDWOGyHLpTMY34i8V4REn887UqpfaiHrei2XogITXY4QCVb8FMPV0YVdnZ2h2ROjjes9dPbT/ZLKqxlBPBa1dfXBFY/ee7MrPn4MYdC/+gdCwJXaQjl4VSAuXcqouobVSldLu0zOZySd0/xqqpM3WldKw6Rx0tzSKo0PPiq3/eoq+fjvrwreGVE9k02mNe9Ud+kTIWVokNBXhE9DbdaguQkQjGip8LcKvpt8MOMPaMbBbqBXNwb0q6Np/I477ggjWuiQT2d8PBHo4IGMyEoNASAg/GAYWjr2UfD5ETlmRsnzzjsv9HeAPNioivaujlAMkXlUQUB0EAUtmOVkKpyqr6MYaylWInDgkUfKc48+JrVa6KACCFCtFpTm2jqVAaUExYKUqFmUVYXotcDI9SHUGEB4vJZ5QiR26w6QgWIxIgV1qmhov9xv+gw59t3HyQdOOkkyKugpFfQaFTq8D9FPHt2rr9W/0T87F0eUBk2YBkhMqD1UrjHNLJ4VFE5C313S7bBmVXIlJQlKHiakMvL4PffL26ZNC007WgXRVyuJ4OO6iVzUp4RQeUN0VMkHh2Mgg2Jc1L+RKdOjWLk2KUQSmH2mvkaNEYokDFEqy57Tp8nDcx6RZtVRNfmC5NraZXgzQ8tTYaVMjFpRz0cw7dQtQREqO3YuCmvLe1L1V4ZZaZuaZcSo0TJm3HgZM36CjNbtqLHjZLSGMWPHy9hxE8J2xMjR0qRxa/Ue7o0/OQpVgEGwWbMbVEHEbxJS7MxJRolTSStZHao3ymqcJ40YJV2tzMPTJXOfekIOPIRVQPVm5skIhCXqdMrjyC3C2q+PdDb5vqkI+ax2A7Jgw/wDidpI8gAgDxAQmnyYiAubAwY6eQAh7wczIArW7m8/Oj8ogFRw/pOf/KQcdNBBoY0PGDsMDFuPu8umlcdYuUxroS6UCpJCmHBFqpGdfugh8vg/5mpFglq7CrkKxqjOomxV0oKXL0tW47Qq816aSSibViNaTkp9ISF1EZ+QklYriomiCpqqH5O6dYC0UhDxrvA91b18raZAnDfXFtYP3lzEpalClK8MnSKN9Rqo+YR0qpiy1HlY1rw+I8tTWpup17haq1jx9Euy/4z9o1LGsFdVfuyzWA8ZinCuE+v/bIej34MibGEt6AlKvoVALgAiFmSkLOMOfYe89Nzz0rSsTcZ3laQr2y755qSsrlXdUVNUVZMSlWxJFfEGJvWWyENKTRzZxDuR1YCxXh/QG9SmMWroEmrZBPQG+pLAvp23Shf3cO/6wFeFpgsNpAvPQ15lvlP1YocSBqojIzsS0qj1tdaGpKzU78NLO1zjNrR2SH02L4/PfVJ2edfh+kEaKaiLcmhWpuqBGbY8tCw0cGhhU4GeQn8S6NeGHt3QtxusHxz25PHHH5epU6cGAjJYEPJ+MIMfmh/ejBWzTkIgEAAEg46G8+bNk0suuSScZ6YwAGNM1zArfZRJkRy+uThynsIB4w1HsOTx4ySpwrZkxXKp0cJeq8azrq1T6ju1tl4oSU6fk2usl7ZMUnLKviEQaa3Sp5WW442g3hKGdBE2IAI2nIrv4RspnBAG9u3bKfBctzY3ji2sD2W9HghEJZQ04B6l6SK0V/LMlMZBHspFTYuSB01znX7bc7MekX133EVkwsQok1RphK2GMmSELbdVQo9Y70WHo/9j7SK8Zo96AXqFUKZJD4FAHtEfTJQ0fqxM3morWfTgIzIpp7KWLsuyYpu01OSUGKheK5akLlOvd6luUwJh+oN/Zb2dfgV5JRAbEh/0gukGC+gNApURgh3H49h9G0KUgsjLStqKKvs51UmF4A1NSqPUSiKrFSUlFNKUUX1YlLaVWlPXa7nX5qsuU+Wy/bYaV/OoUkELTbB6xvJv7TpWdBC9ddOBbjc9aRVLwLeTJxuC3cvIt3vvvVf23XffcLwxeTcQQP4PatgPDiAF/JAYXdqlmPeB9SF+/etfd/+gzJdAPAoL6C6k4aiCtQ60Vp6ujdoOKSy4p/Te6Ye8Q+65716p7czK+GRKajH0KoxljVJQASoqs+9S8lBIpFU0oqYFag70hFAx00Dh3DCBABRSY8jmXjMSwXch8IHkVATf7tkggdBUQBoCgdBn0WTBOTo6NeTLSoxKqswKWpsoSU2tflOuS9WBfoPWHB78271yxHHvifKKDKzLRNuikhpVCqQip/sOx2AG5Rx6EKh7XNz0QmRCVSzUIEYxNQJGkplalZi/57jj5JW/3idNS5ZL47CMEohWEZWzGjW2nVqzRVOgO4IHM5+UukI0vDEHedBgtf/1AX1hFSx0Q1w/mE4xPWHXiWu6Zv2Ivgutgd4jD6iQKB0KaaZjdV6fU9ZQX9JnqkHurNUKVjInYzTyU/97uxx66KEhL6S5KeQNGjGpzyDfSBXb8BpD5T2E9X/5xoHvhChgLwBeGCqhfPuG9CdADwfboGAdDBbUAty7MQSkv2PQEwiMKYUeA0phALjgmPOBERcnnnhiYIUMscHAAgoJPzDFwwjEukpjLhcVDsSkgLtKC7eWLtnrne+UZ599VjpffUPG6xNq6SgpeSnXpqRILUMlIaG1BoSJTokYaQw0/QxStHEqgdAzQfiil/cckvosQqnEXBbt0tbWqoW9TTo7O0LgvIWopqMp1Q8j2PG6AxtNo9YWcD2G3uKqCXBFpjWvGGVRKOUlV85JqVbToZeHtxVk5dMvSZ4mi2lT9Ts1T8p8rD5LQ0Gfm1AFGZ7O43gF+w7HIIOV7TeV8coJbDsaKa3yT7+GIBAqZ8ELUchJ80EHSl1npyx/5hmpLeaDTmhsrJOEXs+pPuvowpcZdZysUQMcOnmjMfQxNC8SIgKx4YAusIBuQKfQR4nAvukLC9X39xj0Hj6SfzSllHhIJb00u/D1rXTUbqiTjFZGym3tqhtK0jysTkqvvioLn3hK9j7qXZECTtO0ozuqJ9NJVsfQQzwR8VdWED8VO/2WgV3AO00TMWD9I2D2ZEOgGePpp5+WCRMmyNixYytnNW0VsjaQwe8w6EHnF35syETo9KcFmZUzZ82aJRdffHEgD3geIBnsA/YrxT2ESBoqiB1ah5hMmjkitEBgZCnok7eWA2a8XebdP0uSK9ukrILRki5IoT4V4qU7i9IUFvtXYqH3dCqZz6ZQB/RSLlVIBHx7/cIKSaDpgH0EPa2C1tBQL8OGNcvIkSOC4Ftc9umvYMoAUmHXegoIZ0oFPaEhq88m0GxB+qjdlGpKUq/nIAhtNTmV8RoZ8coKWXDnLDnmgycom8Abk4qUWCXUaPp4Oo0+yZoo7xyOwQsEMPLcmc7oBoKg4p1JpLSSrSQdoo3+QC4b61X4RN519BHywhNzJP/GQhmlFdZavSeXy4Z1eiLHBRojIvd0TMSLGXXGrngg2A1/ew5FOnTHKhgWOOaaXa++Ztd7emZ1QP4tLXgvaQZNasCD0pFOSJbRFZ1ZGaEkKK36OZXtlMfuuVsO3X+6yPgxkfcSPaPfCBGJ9HFJiZdueWgc4RTXLWwaIA94EQCeF+zCz372s+Cl3lgPAt6Km266KczXA3gG2FgC0p8x6AkEhIFmC2N79uPRdAGThEzgcYAl8kNDCHBXmesp8kPEUHWY0kKMEQesNRE8EDBVfd/Rp54qz89+TGTZctUJ+B8KWnvQJ6rkp7NFqcc4a3WBdsEwrKvya4T2QhXUEN4kIWuD9JNm0kv6+U6+BTcbK+dxnYJPCF6VSiCeeVzWhSCCmj5qNrYqYKhJhJoN95akrp7agOZpR6cMyyuJmb9C3njyWZl84r9o5qiAZZJh6lmGbBZQQPpu/StdeGsqqMrSNQgJiHYdjoGJqgIcL9Mq2sUcnoXIKDKair1OvHfUuAuqk973bnn59ZclO2+BjGktSKqjS/KqbxgCntE4EHqQ1ejMGQGBSKk48oroyvr1h+kGdAgGjX2AnsRAEkxnco04xLX71oc1nocoFcTGe0kI6dM/yUxKcsW8ZPNdMrqpSYZ35KW0YJk8OutB2f30j0TEQQOkiSfwudxbyOZUJ/EQDYCThLXwphO9hn0jw+LRsXx/6B+nutY8EusD+UfF9W9/+5scfvjhQe9a2FD+DQQM/C/YADCWtsW7QMfJp556SubMmSOnnXZauIZA8CMDyISN0qCQBFSMZ0BVQWW3sT6aZCoc8T4VBC1tIqNHyVHvOlKu/+1vZfyoUZJkBcwVK2TiyJHS1dIqaY0fdS7CIEeyENXWo+cSNgQKNIXRBJ3v5Bxpp8DHCywB0mDEYcMFGHcoaUxIUzEpjYm0FGqT0kk1gtoHgl9DU0tZxreXZURLWf732hvkQ6d/jGqVlOr0ir4igdLRtCRqjHEnpL426mOyzm/cmI93OPoxTIaphKyrOGdq0QKRIs6kakOtvK5pmJ5QWRmmFZJMTk75t3+VO678nYxtK0tDe055eSFMidDV3haaEZPpGsmqrOHFTGsFpimZEaUDkouR9HXB9AG6gy06AqAbjCywNT1qOsT0yfqA7shp+miaZZRaJpGUjLKJJO9Kqt7T9Bb1G5rr6yRXl5BVratkcrFBnvjjTHnHuw4TmTSSDwp5ka5vDHmTqmFGHlH9EU0J3RNIqeV5lOpNA0SBVY0B30xTBPPt0AyO3gVGskD34ooK8m/+/PlhckJmOOZ+zpGf1jdiIGPQEwh+LAPTiFL4me/hm9/8ZuXs+mBFsBKsNMZPd+/q30A0sJgaMM7KnHfUmvjqzjZ54LbbZZcxEyTd0im1+aKMGNYonbl2vaukBlqVQClqvsC02xjpYH3D0/sGqIek5h+1o1ROyUlnTorlgpSUHKTqkkrGtPbQ1SGJ1naZIg3y1M13yIQpk0WOemeoPRVV2COq0jPsy9hacDgGD5R8V0I3hYgX9FiBj2JwIppQjincwsilBtVfe+wse+++h9z16z/INvUjZWwpJeXODhk9sll5fFayuQ6toXdJl9bi2zR0FpRk6P3D65oD+e9LUGlIqD4MlSM8qlrxqCmpsS3mpKwhrRWmxkxS2levkmGpjHQ+94q88NiTsvtHT1XyoHdpHpAX5Al5syafKojnZWWf65bvayK8dUCgDBh+CAUVUSMDgH0jEdYB33D11VeHZRFAnDR0V1AHMPhVBj0gDQYmjbrtttvkrLPOWos1rhuVQggDD2HNKbBmt7JHHMgDgd7DE0fJwf9yrMy5637JLG6TSaW05BYvlUx9SoppOLXWJlSgajWNYdprvY0Oi3Su1KIbIxFbPkBi6PiUqGFVwLKklW0nNJSVRGQTGlAAXTnZvn64LP37HJl1+11yyNfOVwlSwVd2TgUlLuz2ZL6o+qscjsEGyrWazxAiOaiU9OpCj3XtPklA/lVCGOrYUKuHJZlx9mfk+RdekLbHn5PxbSqH7e3S3tUiyXqVTbVhw/S+5lRaOuuTslJlU3IlaSgwR0Tf6Y8wKyZURr+joKfCrL7loqZJdV4xr3ovLw2NaVm6cL5MqW+WURrpB//1ffnsBV/R21U316qBVQIS8qJaY4Q8q8BOB0R5vSbfNw0QAzP07AMbzRe3K5AMm4MHmGcCwsAihx/96Ee7vTp2fjCAX2XQw35o+jZYWxQ/ZJxZrheVUkjxgdCHbThTQfcJK8ka6OBDDSJVlre973jZbced5a7f/VGGZUsysa5BWpYskiatwafKeQ3KyulApQ/B+xANl+xb8kDgb6HSQTORps1TJJMvSDKbk45CpwpMp2xdrpX0/JXyl5tulfd/7CMiY4dLuYTrVGsAJat9VT+55/Am9HjS4RgYoPgiwSbFAVbYLRhUf0SmL/rHEbXuMgpHa7syfpScfu7ZcsOvfiPZV+bLBD2XKnRpjJzqjpw0qo5r1NpwuTEjWa3RF5VAlLuYBj/+si0b6DeVLjNPRU3o8FlkZEiStv+S1CfKWs8oSlfrSpnQ3CjNrVm55arfybSDDxA5cD9lRM24P/U5Ue7F/0W6toLq11Y2b8r3t4h4JRMCgeEn4GWwphzIAp4J62wJjEA8/PDD4TzDN4ljHgsnEAME/MBGFGCAv/zlL8O01RvTASYO4whQEUJ3GbadqkKNbyG0Y9KDOJeVIz73OXl01ixZ9vI8Sa5ukTGalno9n1ECkYCb1xSloIJFh8qSMnYIRBgrvcki8NYRumPkVYA0D7tqNZUq/M1KgEYxaU19WhozaWl6eanc88vfy7SjDpURH36Pxs1KYvgwzQCtfYSpq4PIrze8Ceu84HAMIPSgMOwUvICwVjlH3jRExg+5UR1Qo+QhVatBje7hB8i0fafJXTfcJCMKRRmnei2V75RErkOEafeznapJilJUApFMZ4IHgOf1FUKHzoJWItRW8s2hozhdzWrLUisFaSjmZKzqx+LSZbJo9hPyyhP/kHf/+/kiTSnpaO/UzMAgKwHRnAhkgG+Jf08lDwlv0slV+f5WYV4HA/0b4s3ikAKroGJnbJ8mDsCIDdZYsmNQUHIRPx7IGPQEgh+YAGB9Dz74oBxwwAHdbVgbg3h5tDJpIcB2Kls2UVwkRvfoVKmC/eX/ukiu/8M18vrcf8i4YkJG5Vm9UplqoijZpAYtl3gf8DzUKHmAQNjoh75CKqniq5LLdN0MM8MTUZdKyohsWYat6pKHbrxNhmVqZeoZp2ji27XmUC8FWDtdr6POHL0LDsdgQlXZZoNuoF5ruqSbRMTiYnwj6p2WbE51RAPt6nnZ46xPyIhxI+WGy6+QwmvzZbTGGVmfkXRDSvK4/bM5yajcJVhwCoNW0X19AdKfoNMk+gx9oOowly5JLlVQo5+TdL5LxuSKsurp5+UvN9wo5134bZHG2tCXo2HSJCnoNW4iL+J5E1BRLW/KS1AddxMQ72jOPqPb6EsXB8QBUgDinoW5c+cGewOBMNJBPOxR/LkDGYOeQAAjCriTmDTKXE0bQyDiZTEK0b81Zyqo2iUE0aVcFfVoRIPIztvKRz7+Mbnrplsk9fpSSc9fJnVaoIo1RenIlKUjTROGCl0QOGXe3U0YfQNGhJSTDPksSVqVWI0erx5WIy3lrCQff0VW/uVhKZeK8s4LvqCS0y75uqRkNf3FdEpKnSpISLbli2VKdVgHNnDZ4RgYoBBj3Sow/cFQZkJ3GY8Xdiv8GhChdF2j5DpzWq3V6rvWRY684FxZ+dIrsuC+h6X02gJJ5rOSG5EOa9A0dZZkpFbemReiNRk1ifYlqADBa1KFcpgDIltTkrZkQVpKHVLsaJMld8+SuTfMlI+d9UmRt02WQstqqWtslkIiJUUbaWH5Yajss1mTj9G/bqzFKN46qpu5IRDMGQSMBBDHmjrMAwGRwNv9vve9T8aNG9ddieV69TMHMoYEgbDOLXfddZecdNJJYZ+5EnrDAvn54+FNiJ20OKEo1WnNIaO1gVyXbmtk3OHvlBPfe6L88DvflbqugjTm6exUlDotgMzumNJaftQfojJZk4aoX0QUIPIhaAzkwwLH3dc0EJfzYYSHBra0qhJzjbitkTB9TSTseDwI9kEJek3npD6fkxEap0lDeXmLLHnsGXnkL/fIEWedKTJmhF6ol0SDKjotUis7O6SmqU7KHbFhZJXHrYXqcz3FcTgGOqrKNYcWurGOso89QkoT6dqwCF05qbphWIN84pL/kRfnPC2vPTRXul6YL7UtXdKsNfbmrpw0lLSGny5oTT8fRJkKCV5NOkXHQ0CQe4Ke6Q6RvmCIOUafEDwiJCS65U36pnIpxCEEr4GeLaaKUkpR+aDTZEHq8hq6dL8jL8m2rFz89Qvl2COPkREHH6T6olVSoxguyVwLXZJiNJs9OI5K0gG7FtbCm068dRgpADRh2FpKoFDxPBjMprDyJkskfOMb3wjH2CDuscorc/QMBgwJAmGMD5fSzjvvHMgD8z7EC8a6YIWTjOIp9OwlRG2UesUixAIb4kIDVqsQtCQzkhimRlYFh45BE95znHzqnHPkhz/8kbS+skCal3fK22oaZBsmllq1Ukq5VknW4+rLhfX8s/rynIa8PphpsJk7PqG1/ERKa/rU+DWUtMbBlpoHK2eyhXzU67ZWBbeGYVMl+kEXQn+LsJKmKgkWq8l1ZqWQLSi/YVIoZdNaWyiXk2Gimrq0Ept8izRlO2SbQo0Mf3qBPHzZdbLk9cVy2i8uFdlqUiBIEKWssLR5jTTWaw1CMyAxgh7ka/JlgyGGHk45HAMLFOBIaXQXZvSG6RBCdxm3Ah8PijANgm5LKuv5TL0U0o1RnwitpX/ofy6TRU++KgtmPiJ1f39RdlotMj7FkMdWKaVbJFWfl1rVFelSWspaoygjnzVas1edxJxVhUJoZA1EIWw1hkp/mAWX2WYzGilaOI9RWJpeZQpUMCAf6JuC6psUQxb1HQWNz0RYDBtNK1nJMLW2pqQj1Sara1ZIZ3GlpHNtslVXWXYvNUni6YVy2X9cIo++8ZKMPfoo/dBaSYwep4lISVd7VoZlGiRJ/QM7XZ0vhMomnpfkbezCWvn+VoHhhxRgMwBTUb/wwgthH7tiTRbYE7wQbOmsf+aZZ8oFF1wQRmsARnLEycaIESO6nzmQQbkZ9DD3EbOJMSGIHdt2QyCWhbg97EY8QgV22KUGmyJGf2hpUuFP6xMyaoj3nyaf/Pzn5JLv/0AWPvWclF5fqmGxbD9spGwzcqTk2lukVMhqyId+CLVaAFVmVbjapVXZa2dbWxghEYR/HQF0FHJq2JU26GsRelbCjDwUSiBUwFZ3tcuICaOlYUSTCnmnpOpSUlufVmHISrJckPYli6TcslomDB8uLa/Pl+t+frlsN26SHPOdqL0yfI+mTymKvi3q7ESAPAUvCJlgYD8eHI7BjqrybruRtHSfjmAn4hfU0DPpK/E5WcAq0p5er0Fl9djvfVdWLFkhD930F632tkqzxs0uXSz5lUsl0dUm+VyndCn5L+ZVntXAUf/NqEFMqdymatWo6YMJ5rHs9kyobmQiKDsbQnBBEEO3ql/YtrW2qJHNSo3qgDQVCX1WDp2j7ytqhSWjlZWRtTUyWWvt22UaZXRrXmZe9lv56/W3ylcu+HfZZte95dnnnlI9UumAqO+so7+HVmK6CUB1qMAO35SXdtB94q3DPAakDbKA4ccDge2gOYPRGBADOuVDINj+/e9/l1dffVXO0UoiQz4BJAQSQRyegzfCJi8cyEjoh1AqBjX4RH7wrbfeOvSDoE0q3pN2c4GMzatMFLXwsU4EDL+c71LDzEUt3QjJawvklxf/UDK1dfL+U04O7snFHa1SO3ak5FNpadc4PAO226C1/EYW+tJ/7UogwpTbsclIqn9IFEObmvKyCnfoDMlJTQv5oWeDhyKtSmTFyuVhNs26dEY6VrfI8IZGGabval24SHYdP05qc3m548Zb5a9/nikfOelk2et9HxBZsSIsORyqSClVJfp8xpMA/iLUJtgOh+MtAIGGiYOKUAUvpF6gdp9Bda9UA5Wok9euvUH+dO21MuOIQ+SgU06U9gaRV7US0qpKYLTW7BvKKVm9fIVkO7NSN6xJCko+WtTIJ2oxkIkwvXTUXKGVAH1sRCTQm3qyB5iuqUlFs952dHaGNYfonD5mzJhgVFctXSiNdJZsaZOtaxqlrr0gN/72WsnqtZPP+ZzIyCb54re/Jjvvs5d85GOnS2NTs9bKNb6mic/mzWg39EhfgdmLIQnmbcDoT5w4UWbOnCl77713JZbqWf12i8f13/zmN3LYYYeFY8gHxKF64ijO96YZvT9iSBAIwI9F4YYR8qNtkR+OnCUU1VhjZNVgF0rK1ktamFhICgKxvEWrDEW59/obg2vsXce9WyZtv50saV0twyZNkNYahk9Gi7i0adpZcZNHNjQ1KRNu6O7fAUIFgW0l5PQb2+nQmExFglgoSiJf0DQVA3kQTUJbV7uMHD1Csl2doa/EuObh0r5sheRV6Hfbeoo888AsefDue6VF2fYXzv9XSU7ZRsorlktCSVhwiRBoq6TGom/lvd3aBYQTDoej18CC4vVGnqiNq7xSn9X6ayARGY3QxMVVTJ2sR3OelCsvv1zqhjfJke87XmonjpHcyEZZvHq1ZFTfjB87npqILFy6VNqKBakfMVw6WQVTZTd03NZKjfWDirwPmoAEvlPVG/oaiIUFrnKuVCpLZ7ZLGlQXDRs5Qla3tcobC+ZLjb5nh7HjZGR7p4zMNMiSB+fINVdcJfvts58c9KmPa0VJa9+jmuTqP/5OrrruD3LbzTOVKDC9c06TmFKVAkUqSa2e7Q8mlr4PEAQIxTHHHBMWYWRuB5Y+oD8DTRuQJvo8PP/88/LHP/6xu+KK7TGywDnicT4+b8RAxZAiELBBPneLMT9y1gKvCxYeraCBbO9Qwc/UaelUEpAvyT/uvFv+cNVvZfeddpEPf/DD0qUKY0G6KF31qbCKZQ0uQmX8LE4VeRD0NoaB6qNMoIOAV/b1i6WYZPhXjaRVUbDefrrIWa3B4AbRwFLcymiksb5W2leulJwKw3bjJkpu5Wq565aZ8tqz82T/tx8oB5zxEX1OQf/lJTViGCpF92kzjaa6Dv4N601FACQqJCYcORyO3oBquDWTqxi3qxxBIJD9tIY6DTXZDqmnTwTzJrDNl+XOH/5EHr37AfmX950gO75jmrTWJ8LslC16Z0lr9/UNzUo3VLlklTwU1VBrBYDKRk71Y0H3I0JBZUClPKEVHt2qigie0+CpQHXALYKsR/qUxfIQ/zo1qA3NTWHhvNSqNml6bancf/3N8sKzz8lnzzxTGg45OPJaZhKS7VglK1Nl2XaP3eTZl18SVucdlWoKzSyM2mAG3KA7CH0IIwKACtvvf/97ufnmm+XGG28M5wB5wJDN448/PizdTVOHNVFYswVe7y3h+d6SGFIEgg4ty5YtCz+ssUErGJsL5WJFEMIBTRg5SWSoTijU+JeYGz6lIsNQT+Z7bc/L/ZdeKY/fP0tmHHSg7HvMYdKhvCGfUnaeqZFsbY10qgR3JErShYbJRAUS4tAt4BrCindlJRvK4Ys0cJaKgThkNC21+s2M9kjpuZpCTnKtLSoZWZmEVyGbldtVOJ5+8knZfpsd5ISTlDhsv4OmXTXZcEaUKKlpXSXDmkcHKgR9YHmbsCQQCi8oFVKk4LOtHdPhcPQOyBMdqFR+ynAE3bV+hRAIPBAZ3bI6Z5iYCI/mstVqxYeJvLZErrnoQnl11UJ553uPkWmHHay6IylL2tpUaNNSm66XfE7lX0lHocaW60+GafQhFLyUnk3pUpZqSHipVUxM10AqGjO1Guok39ElbatWS10yLY21dfLqvFfkuUcek6fvul+OPewI2e+zn4p0Qaumb/RI3dFnanoK6aR88vxzpa1UkEt/cKnqk6IM14iJVv1wXP6wCV7cR6CZ2GwH5AGvAd4IvA8XXXSRfPCDHwz9HugQOWPGjDDy4sADDwx2BW8FzRZ4LqphZndz25/NjSHTBwJMmTJF/u///i+0UVnb1Ob0RPBWjCxFBKGDQGhpU0HSd7LMtZIHRlIUi8pOE0oEmDilRVVEskHkjSVy3y+ulHlzn5bdpu4mux40XZp22kZaG2tkcTInbY0q7M21KngR80eg6TFdW1D9oYF9JqPSeoB06Xs7mOVSCUiNCm3oYd3eJQ0tXbJtsl5SNKwuWCIP/fVOeeTxR2TnPXeXd334/SK77KKJViFmSlnaQLTWUNbdTv2iFbkWGZYZgagH8kCorPAdfTjgw51AOBxvCaY/gIlQUCMhRH8LpZzUac1dFblaO9UtNco0IBLoElTbS8/Jn6+5Rp579AnZb6995NAjjgx9l7rUMHcNq5cViaJ0MXJDDRnEgd4VjOZiJBdNmk1ac2atntDRUgNb9A2vp5JS05WXREunTFLSMjzdJMsefUr+/uc7pLiqTSbvuL1M/9SpIpPH682atkY1pKoPSmqUaxoYTaI6TL9wYctK2fvAt8vdf/ubbDd6ggxL4JXVdzD/daO+rB9U2mmmwKsAKWAiqWeeeUYOOeQQ+da3vhUWyoJIcHzuueeGJgpIA3Fmz54t99xzj9x7772BhLAmxqc+9SkZP378FqnAbm4MCQJhRGGPPfaQP/zhD2EoJ66kLUEgCPlcXvmCmlreRXZD47Xc0N6XUoYailDom6B7eAu6dB9vREml7fVFsvK+++X2B+6Rpbl2mTJtd9n1wP1k2OQJklNCUEhFoyp4ZPBAqN5AsIMHQv/VaI0gWyyqPBa1FqNpoLdzIS+FVa1SXtEm8x5+XF6YPUdKLe1y1OGHy67/8h6RCWM0HTnWzNUHqfSSQOamqEuHuewLLI6jJ7PlrNSpsEMioqAwAkEATiAcjrcE1QLBjiI+WqUINf7glQDBBVBWcSvL8hXLZOxwavUas7VDyb7KLboGbwNzQFA5eWOxPHfLn7UC9aA+rE62n763TNxtJxm307aBLERgq/pEA2SBXk21Yahn1FyKauJ8t2iTBCUqqxcukacfelSen/24jEk3yDHveKeMf8ehIluNE2UDWvHQiKp3RAlJUStNyeDaT4SafEkrU+lMvZx53uelnCvIlT+9VPWffiQrDXAPc0n1MYHAC8HIC4hBvAkCgnDKKafIyy+/HDqO7r777uGb6FD52GOPBXuDN2LatGmhwyXLgI8cObJ7Guvq5w1EDBkPBD/WJz/5ydAz9vTTT+92R21WkLOWuyp4KIRI/uH5kVwkYNkoBrYBuuUijICfJnSS1BPc+OyL8sS9/ycvPjZXupatkjpVDnvuPjWsSz98zChp2HYbvU8jjmgWaW6U4vKloXNkQyotq+cvluXzF0mnEoUXXnpJ3li5TJomjZfdDz1Apuy5q4ybuhuDmaP0oilILAlrUCG2Mh6SqNf0v1LncBiSHp0IyQ4kwi6A8C3RrsPh2HjQekGzBSLEZPg1yGQ07YAeqJBhwbsJehDOSGcY8ES0qT6ARGQ0Evdku2T508/KPx6YJa/NfUbaFy6VbSZMlJGjRsikrSZJfWODjN1qK71X75s4MVQasosXSUorN6xKsXrhYlm6YJG0rFwVhiq+Mv912Xr7bWXqjH1l1xn7iOy8g+oM1askOp2QvJKAvB5AGSLdoOnQ/4zYQqUV0R6a5lqtMG0/cWu59urfytsPP1IjqN5jHaGEkg7VhVT2bBQD/QlsSCSe5M0Nmih4D6G6wklnSdZW+vrXvx68CXvuuWfwUOy6667hPiMLgxWDnkDEf8Tvfe97snDhQvnBD36wWT0P3SBnCSowMPg1BCKyyUEcOAF5CPH0T6ocBCarJ+iFHPVi0FpAe1YlR9Nc0Dvb9EmLV4msaJHsrEdkydIl8vqSRfLa8sXSWlOUNn3TNXfdKCcec4KkCzmZOHyEjM40yDZjJspuu+0pss0UkXFjdKsKItsiMl5rLxkEXR/flZf6pAouywDzunRZz9PWir7iQ0hvpARC0DihdqIHfAK5GnQaB4A4Doej10A1UH1AhIIGQ4EQTFdUhK2sAdnFGwHwGCCDQV479ClsIRDM2YIAMy68Ux/U0imyskW6HnlMsp3tskIrHHPnPil5rUWvWLRY1UxB/u+F5+SQo44Oi+ql9VETR46W7bbeRnbYdjtpmDhBhIpHRp9bp2+s11DLe0IipENT3hk0XY006t9aPQ56QQ0t38X3FcqqbxJpSah+e+LhR+Sk939AHnlijozYaoJ05LNSX1sXvh8CQaUPXQ5xoM8BIyC2NObNmyfbbbddGM3HzMaf/vSn5ZZbbpHp06d3D+UsaL5BcLaIjeljDHoCYWwVMMHHWWedJU888UQ45tM3ZxsUGWuZG89k3hj6RGCM7QJlTU/m9GROTxL4Zx2lUhpoJuhWIkhfl4qheVG4P98V3JMrF82XaftPl7/ccpPsspsKOGC0Bgt7pTU+vbVZKZSbYPAJDXrMI1FExhPsNSgkFFi3EsNDAdhUHhNaXMLJcBgClysxHQ5Hb2E6ApgwcWwBqH2mpbNNdxneidyhETDYeAZXh23UBFKnz0tAHjijFZWo05JKeLbSL6u9QwVZBZxOf1xbsUpmHHCI3P/QbKkdO1Zv07iVGn+ptUVqWCSQ+0AQdJ7JfiT1TC4HgSBVeCACrwj6Tq/rf3YJxC7n6Uyekq9+42ty5/33ytV//INMGjNJUqWClJieW8kCxAF9jWHGgG8pAoEN4Z1srTJKnwb6M7Da5nHHHRcqpvStA5AbCE9PnScHGyq//uCFuboAbVQrVqwIIzEoDJsbCAf2lgAQvTCvPMkhEIFfQC/QOYlmv6gmEZ2Gu+eKXSpgtEsymIp+BzmtVLRLMa0xR6tYNmjsZq39NyakXUNOaxrzsi3yaudqydAGGWas06c1a9xRKoTNacnWl6RUq+dqk6GJQ1iyWx8T0qfSTNJIC0qJtCDiSrV0H8HXQOKQelDRAqSV+znNPfFPdDgcbwEIjwkSQsUxAoagIXAVoUO/RKfXTOkcyWs0asNujSKp8OoBU09nlSQsz7IInuqGdI3qDr0wulkZiN6h4clFr0pXU63UokdUr7RrtWZ1qUOyygQ6RzVJZyYpy/V4tb6lK0yPry9gBAc1EE1zqlhWIpOQ+kqa0B/R/BIKfQWtrfTraF25KkzNn9NL/+/b35Id954qZ553jry29I0wtBOiYPVcaveAc8wEuaUAcYE84NFmkSyawy+99NJAHkgbfSQAfSAY5Qd5YH+wA1Mw6MEPTKAX7aGHHhrG8UIsNncPWIo8cyUwbju8CUk2RsE+G/0FuvQiRQ23HvfA1JkghkVjRycbtUaRDPPLJ/VfbapBhWe4JNOw26SUaN8MaiMpjelGvTcpz875h0wcPk5uvf5WfWBKinRKYt7qUA/Q+kmRwZcca82gXhUGw0h5sXKSRA6vRxh2Lqw5B8fnLt4S9FiV8grgW/RiGD6qu3wrcWOf6XA4egsECRlja7qDrR5n9XybBkwop5FTFrsbpqFeA/LHbRN0Z6xGqFfZLtMngpNqrFPltNTm0jI6MVzSWZXapR2SSY/U52eka5VWH2oa5YWnXpL995iuekFfVEC/NMvw9DCpLaWkMVcjNa2dqp+GyfBEo9QVa6WG5lXisnAP+4W01GSZgyb6DJKOjqPJ03QGHcaHDRshrbnOQHbo7P2DH/5YmtN18oVPnxk6fLMEARU++iCgt20hKltnYnODd+JVgBBgO77//e+H4ZrHHntsSBveBvo9EMe83cA9EIMAFDx6uhpZ+PjHPy6/+93vQnva5gZvxKASujOakxxUAjKE7eaQeBhvnGTdHkakDZKgwl/G/Qi714ewcE1nZzaaQ0LvbmciGd0W80V5bNajcsKx/yJ/u/Neldx6STaOknyiTvIq+DX69LTuF/P6guCE4c0VqJSn9PFJfRekAaXUoNFQSCiAIO8aOjQOOoK21/A9fAAXNZBmnhiSrsHhcGwCkC8EyrYa4v2pOI3egLyHk4S44LGPXJapxhSkWNYqTVEFH/3HarnUCNp1P6laJ5GWztYuqRszUd9TJ7+65no54tjj9JkF6VipRlufVWbSO/RRTUYrH1rFyelJAuSEd+GBoHmU9v/gjYjej6dBj0J6iWbfEoICzYSPlSpQve5d9qOfyo5bT5H9p88IRpkO74yGQI9TEQS2zsTmxurVqwMZuPDCC0M/ur/85S+y1157hWusrQSxYXgnngdsDR5v+kMMBVR+vsGLai/D29/+9sBcb7vttsqZzQfa+5iPgc5HQWo0t5WUBxcgs0yyyibAWDdq3AbVDKx8h2svkjKNny9EAzTou6Ahr99DwGuQrm+U5a2t0qEkqb6xWWWVRXJqZdaDD8uMfWfI/Q88KC8sWCIdKp6lZK0+J6OKBEFNSTKhb00kpZRnlU6qCPoSEqzMJan7SSa4yup5qgWqMyA0JAmagmgQgoOObyB9XKykOzoVDTHjksPheKtQCUqoHKnOyKnO6FThQiQhDYzMaFJ5y8TZBMKngQ3oTHRKPtMl5UwpTOcSujzRmbJR9cnwOinXJaQ0qkkKo0bo89PSVlunFYSMPP7aG/Lgyy/L29/7Humqr5PU2DGqu/QBjVqtqNF7mBtCSQjdocqppJRr01LMpPQZNdKlz2/T9LanNGFUyCusgSHmtJJwSAWE7ynWpWRVy0ppUP3U2FmSRuU2zYWkjG0aLj+75CfykZNPCZM2Pf7446GZYMmSJXyWLFiwYIv0gaCZBBty1FFHhXWU6Dg5adKkkBaIBaQG77b1jeAchIKRcdZ0Pphh5WzQAkYYZ4OwxHe/+91y3XXXVc5sRphhJVQ2yLrJO5f5Abo7VBLYr3gZuJrS9CaU0dN+SEio0ae5gvoEy3EPbx4hmTST2iZktbLgRYsWy8svz5OTVfA+8MEPyW0zb5dlq6Pv1+hhOofwjvD4hNTUKqlQwS/pxTIXOU8EttZBCuipkFYNlroAO4idZINzwuI6HI5NgApRtd6AQMD5u3WGyV9F4Ezu8FCyfLdWQ8K098w9k2ceGJV3pq3Oachq7OUdbcEh2aCVkk6Ne9Ott8mBhxwqtUxLrdfp1N3Cqp66TzpypZKkGuqjOR1Ux9KBs0v1R6deZQRZWDW0RtmDKQ1AOjWQNpLNt3SVCzJ85MjKN+g9dPTmIv2yCkU5/0tfCk0GRx99dFhngoUQMeoY8S0BJoFihkn6z/31r38NCzJiUyAOw4cPD0SCfTwkEAmaMgBphEgMdgyKURh0bIHtWUeWOGi3MnbIp9KbFnfTDjvsIHfccUeY5MNABx0rGGx5HveYF4PmENxptt3gXBIVgQnQR8ALTN4BT+02st2/gu2w1SuVd3dfrkKRKaqZipb2Ny3YP/rRj2Se1hwQutdef0OOf9/75N777pNxo0eF98x/fYEKwSTJZTXtrMQXPb6C2FtsF38pcTSEiWR0t5KyQBKCiPBRBosbHTmJcDg2BRVhM71hsreW3rCThsp+dCn6y6nodPSXs+wXmM5e9Ud7R0dY6ZfzLW2t8radd5GZM2+TaXtGrnq7P7p7zdYQvWXtQByITjiIwfQgIE7gF3aTofKCltZo5sdnn31WvqRkgv4PX/va14JHAL2PPjcdjP7u7cRM3IN+x9izj07Hs8GCWBdccEFY4JApq62zJCA++/R9GAokYX0wbjhggeGkAMXJAwUBI8+Wtit+cAKkAOBe+u53vyv/+q//Go7N1UThgzwACibnjTxQYKyDzH//93+H0RzrJQ/ApKMi7RxS3CjioQYRnY7ATghEJOhNlXeD7stVIaXCv1LTUqc1AVjvFVdcIR//xCfCDJdbb72VzNhnmvzyf34KUwxLgG89eZJkc1lJ4W5kspa1EHuypYNEVtLPLl9MkwvbbtGxb6zEA1xb6/scDkfvUREgRAt56lFvmNxZqCC6xAiI6G88YvRPJK36I0EnQDWaeTXIPP+ib31bTtaKx55KIuK6Kv6aakTvWpNGNCXbALupEtgQz54ZwElLYuxFkAd07bbbbiu33nprmAb6nHPOkfe85z3y3HPPBR0MkUA/o79N9wPOmaFHl3MegkAw+8A9kAB0J/s8j35yTEuN54GlDyAPgMqo2QPuH+rkAXT/fgMZGHvAj0pBoSBg7NnS0YZhm5y3XrvE/9jHPhZ60NKrliYOChOgjY1CB/EwzwbgnG3pgcu43/4C87BcffXVQdD22Wef8P2QKmZI+/nPfx7mvoA4Ab4hztwdDsfQBEYRXYDuRB889NBDoZ3/tNNOC829fQ28xaNGjQo6Dl3M3AusdnnCCSfIe9/73jBVNBM5oefRa6b7IQlWceT7MPacZxu3D3w/FUtswZlnnhlsBJXIF198Uc4444xunWmeCQP55VCOp5le5WAamOAHpoDZ0Bn2e2KIxKNAUXgeeOCBMJf5k08+GYQFAeKelStXhjnLAR6OakGi2ePHP/5xKLw8p69BGhEU5mNnSVna6/hOIwiMW/7FL34R2DTxEB5j0g6HY+gCA4rOpJaOTqDy8ZnPfEY++9nPdl/rL6CSZ5Uf9Dt6j8kBL7nkkqDDSfsRRxwh73rXu0LHSwPfwb3xYZ+sX0HzBB0jb7jhhlAh/NznPhe80jbHBPGpXBqJ4J1xvUk6hjoGPIEg+RR+YISBY7wHGEqYojFH2CxGFTZrBpZ2NaYnvf7669ea3cz6QPCs6oLyhS98Qd72treFyUTMSPcVjOycffbZ4Vt/8pOfhPOky7wqkJwPfOADYctiYoC4CEN/IEAOh6NvYG58gNcBvfHTn/40EIf+QCAw4Ojrdekp0gjQ4XPnzg2VJHQ5ozSo6NHp0hawwhP90ksvhS3HnMeLccwxx4TmCuwH+QExQedXfzv2gXSYzo/n3VDFoPBAxGvbsERgZILPw1BSKLgWd0MZu9xvv/2CS4zOOXHPhT03/kyec/PNN8u1114rf/rTn8L5vgYLunz5y18OHY0gTZAeCrZ9uwkh7YZTp06Vb37zm92s2uFwDG1ghL/61a8G43vfffcF3WFNGv0FpAc9bM0Q6Dj0M3otDlt2GzD0kyZpKo7oQO5jGW3Wspg8eXL3vehJns2W5xt4Z7wSFr8GuF59bqhh0BEIxuFaR0jatZjoI04EKETmnqJwcI4tq6hBIFipE/YaHyZEYSWbuBdh4/qRRx4Zeur2dQGaP39+aEqh8+QBBxzQ3Zm0p9oDQgTTpq0P70l/ck86HI4tDypENMdSa585c2bQCVbJwotbbaD7AmbcrbZvehyYbsZjTFrNDqDr2Ec/x5sdDNxH4Jo9C/DN3IcHIm5XDJAGQrwiOpQxKBpxjCUCK2QwUWacpNcunWwABYWCBXkwdxT9GzC611xzTRhnzARTkAcbsWHuLCtkxGcIKM9funRpONeXeP/73x96DUNo+I7FixeH/EARIAwGvgOvA9932WWXBaURzzeHwzH0QAdr+kihFzCKBAwylaz+QB7QYehedDUGH+Ntuph9082M1sDYU3EiHrqOYwgC32OEwWD3sQXoRwLfTHyezf1sIRIG7jHyYM0nQxmDgkDE2aD1W2BLZyDcVayYtscee4Thl+YxgMUaKDDUzH/1q1+FzkN0zCEe562wGiAWPP/ggw+Wp556qnJ202BkBUBw7NgKPEJkZADiAzg+/vjjQzo+//nPd58bO3ZsEDb2TQEgGBAf3HmM0mAqVhQHIzSAPdMIBYJh+yZM1WSD/IsLpMPh6Bsg3wYzhADZBfHryDKgokGzxW9+85vQJEsHbDO2bKlkxQ1nXyFOYjD2cY9vT95fKk5GCgx8D+d6Ok8A6EfrLI/Ot2ezjXsh4s9wD+4gIRA9wQrHv/3bvwUBoXPhI488IjvuuKP853/+ZygUsGyLCw4//PAwWoFevHfeeWcQIPNo0FkRGFlhRjKbVnVTgHAb6eEdMGeOMepWWCnYCBJNMryfuB/84AeDsNP3gWFOPAfSUC0kxEVpYPDpUEQcPCyvvvpq+EaGs5IXNP0Y8UAwuI9nkjcIkdUAuM7z4uzd4XD0HdAPyCaVD2TVDCGyyhwKdowO4Dqe029/+9ty//33h7kVGLUFkGfThcS1fYdjXRjwFsBYdhwUfIQBI2f9HegfwAgEOgnNnj071MQhEq+88kqocWNAAT1y8SwwpAfXHgII6LGLQPJMPAQM/5kyZUq41hNIV09pqwY1ewwycW3oKGk29s87+R4IBf05MOr77rtvIBQIPx4HwP18p8GEn3yAlPAe4nCfER+GL3GO9UG4jtLgOu+HVKBsyBfeyTW7n/OA8w6Ho2+BvJqcI6fmwaQiQOUCuUWfoLsYukgFieM///nP3X29rIIEuMbzTM4djnVhUBAIQhxGIAgYVQydsfBtttlGbrzxxtBMgXHG6/DhD384DO9BcDDmtKcxzfWVV14p//Ef/9E9aRTGkx69DAOiBr/33nuH89WwNFWnqyfgbQAINzDCQ09iyAvvRLhN+HnnYYcdFkZeANJD7YN4xDFvg30vsO83UoIngnh4Ua6++urw/eQLE8hAVMxlR/7RIZV7eTbviTdlxF17DodjywNZt4oDco7OMZ2C3uA6+hBZpYmWNSXoRM2qktwH2SAOlZe4PFsFxOFYL7TADWioUQthXdDadmWvXF61alVZSUPlKIISh/LPfvaz8gEHHFCeOHFi+cILLyzPmjUrXFMBLJ9yyinl6dOnlx955JHyU089VT777LPLyvTLt99+e4izLqhQltXYVo7WD+Ia1LCXOzs7u79JjX7Y3nbbbWUV8vLFF18cjnn26tWrw76Bc21tbZWjclkVSvf97IN4mhYvXlxWBRL258yZU95uu+3KX/3qV8Px8uXLw5b74uljX0lGSKfD4ehbxPWZyTayaXqA6+x/6lOfKu+8887l2bNnd8uuVlDCNo64fjDd4HCsC4NmJsoNgRp33CVHTZtaO7VsoIIT2gTpJ0HHIjoZMWbYVn+jyQKvAAusnHTSSTJhwoRwP7Vy2Ho1YydbCfb89QFPA65GwPMA95HmRYsWhUmiGNNM58ddd901XI+D9/RUY+A8z8N7QLunNXcwgoQ+Dbg8DcTDC3PuueeGWdoYlcJkWdY/o/obOUf64p4Oh8Ox5WHD1QFeVWQSWaVPxDPPPCMf+chH5KCDDpLLL788eE/RaXHgqaC5A/2IzrD+ThujuxxDHFpgBjWogVstXIWirGQg7ANj73EmroY2bPE+zJ07t3zLLbeU77777rB/8sknl9XQl6+77rruWjjPhrXz7Gr0dG59ID2WvgULFpS/853vlJubm8sXXXRROAdIq3kHAOkw74KBdBEMeDQMlheAd1ka48/405/+VJ48eXL5i1/84lrvIn28zxB/h8Ph6Bsgu8hiS0tL0Ftg4cKF5fPPP7+sZKF88803h3NcB6b3zMNQrT/QCXFPpsOxLgx6ArEumCE19zxbM6YYXDOOds6Oad448cQTy1OmTCn/+Mc/DsLHs+Ju/t7A0mGGGQVw3nnnlXfYYYfQfPLGG2/0SFJ6ar5AIcTjgLhyMMVhSsYQJwWmZBYtWlQ+7bTTylOnTi1fccUVb8oHEHd3OhyOLQ8jAfHKwKWXXlreaaedymeccUaQbeS0WlbjFSm7j3Omj0xXOBzrw5BpwthUKEEIzRzmsqeT5XXXXRc6ZLI2PfPIv/Od7+we5kl8YJ0j1wXiqdCG5zEHPc0HLB/LBFjMXdHXmDNnTpisaquttgodLplXg/RahytVPsHVyXfYt5JPSjSCW1QJzDqbOYjjPb0dQxmoX2saRK6AyZbJmZKAtZpbOY/ccB/3M4oMvUMzK82dNE1+61vfkunTp4f7HI7NBScQGwDCub4JQxgSyXAojCvLzDKygRXhWE8eY0s/CvoRGLGgvZJ17InLNNQMK2VEB/cxoyTrVaAA+Fn6Q/8Ca1+l1zZKiYXEPv3pT4d2UtJcDa25dCutnggC+Ynic8XmcERATpAJZGpdgKC3t7eHEWLVYHTWv//7v4cl+7/4xS/Khz70oaA71qe3HI5/BpxA9BIIO8FqBHEjSQclVoSjMyYL0+BNoMMigk8tAjDjG50TWW6WWj1zOrBqnGE0i5UAABNnSURBVBljq9GDeE2/L2FeBDp7MncG80+wih1Tf0OM+DbSTJ6QZpQheYIngu8hoBzjCpJih1Jcn9J0OAY74p475IRjZAf5gIwjd6YTTC8QB5lEdphI7n//93/DYoA2QZ7pjfV5/xyOfwacQGwEEESEOM7oEVIMpNUcCOxvDFAAdr+N4Qb0hkbwbRw3vajjIyX6EqSXb0SJ4T1hLQ1Gq+A1gUgwwgOiZGmHVKC8TDnyzdy7sXnkcAwFbMjIxwkGlRX0EHO/MKKCqaiZ04FJ7xidhcwho/2h0uEYGvBxOhuA1Qiq3YEIKbVvzpsHAuE2cB8CjYIgGGGAr6EQuA/yYB4NwGQuGGBqHtzTX8gD6eZ7IQB8E94Tpvxm+XC+6x3veEdo2qB5grTjiSFv+E6+g+8z8sCzOBfPK4djqALygAwhO1aXM5kByBCEASBX5513XugbRbMnqwJD5G1oN3rIyAMzyKKDHI7NCScQGwACbK5DhByvAAKPcCLo1LrNE0E8BJ/z7GNEURAEagYoCK4T32AeDHsehpWmAO7BGPc1SGtcEfFNnOM7Jk6cGKb7vummm4KS22uvvcI8EuQJMBcsis08D3wr58gf8tPhGMpAtjD6VCiQF2TLZAY9A2FH59BJe5dddgmePqbahzjQv8qIOHHRHzyPQEXEPBcOx+aCE4iNBMYfw45XAIE3YoGgGgEgIPgoAAymEQaEnLhWQyA+4Dz7xCGuGVbO86z+0NGQ7yBdgHShpFByfD/fQzqpATHt90MPPRQmxGLdEebb55j4BpRcnDz1h+9zOPoSkAMDJMJ0Ax2s77333rDYHf2kmGqeyeDOP//8II8E0zcAvWKdr9En9hyHY3PC+0BsAGSP1Z4NCKgRCIyiuQ0NGEmuEQw8BwPMNn4t/nzu49iUQk/v7ivwzaTFFFM8bXwX+3aMB4KFyy655JKQT8yERw2K2hNx+U6+sb98m8PRl6CjNWCmW5oprrjiCrnlllvC/pe+9KWw8i5r0iA3Jn94JiAcJkPm9TTdgV5C9ggOx+aCEwjHZgUjUpjfgsXLWLiMDl/77bdft2IzsgUgF/GaU5ycxT08ceKB4uQee9664g1VkL/kh3mR4uiJ/DrWBnlXbYSrCTPHIF5h4ByhurJAqI7H8YMPPigXX3xx2B544IFBTphXxuHoz3AC4dgimDdvnvzud78Lq4iikONeiTgweJACDBskIF7rAqasTXmviyQQj3vdQEagfb21tTXkNyKPl6i/dNIdCKA8QSYob/HyWA1Tp3FyEScQdh4PAqOu8DZcf/31ocyfc845ocmCfkYc42FwOPoznEA4Nitwz+KaNXDMgmW//e1v5YYbbpD9998/LCfOOHb6T5j3AGyIBBi5oHmFAIi7PgU/1EBHVfLD8hTgeeBcvCbs6B0obxh5SJiRC/LTvBVWJo0McJ48p7Mxi+JR/h944IFAGI4//vgwkgnYMwGELz7M2+Hob3AC4djswNATcKPHPQYoWDwS1157rTz22GOh8+UZZ5wRSIUpzrjhA0YUqs8brDivyzMxFIG3AQNGp1UMlDVnYMx6mtnQ8WZAEkBvSRflkfz/29/+Jj//+c9l1qxZsvfee8tnP/vZMOssvwtxIL5O6BwDDU4gHJsdKF8MvxkuG/POMQoU9zo9zOkvcfXVV8uTTz4ZpgKHTBx22GHdtbt4Oz7P5D6uxXuvx0Gcoa6UMV6MFCIvIFVOrHoHyqnlGfuUN4IRCrwEtjw25RFiS5lmintmo4Ugs8ULxzTTeNsoq8Sl3MbLKJ4h5MQ8bnFvhMPRH+EEwtFvwOQ3KGtqxjNnzgxtw48//nhYWwTFe9BBB4Xe6CjwOJkAKF/rFGgK2AnEm/OAYYMYMPIPIoeL3bFubAzxwtATyFemlaYz5GuvvSZ77rmnnHTSSaFTJHM4AAiCec/If0gEW0iHlVu8daAnUuxw9Cc4gXBsVtBZLG6kMP62xeBTO0b5okCr2+lRpNzPiqd0wHzllVdkxx13lKOPPjp4JlhTBLe8KV7APTwLxGtzQxnUdsmn2bNny+9///uQh5/4xCd8Ho5egDIKiYgbefKVFTAhuRCHZ555RqZOnSqnn356mAeFReiIY+Wfssx9PTUbUd4hK+bBAKjm9REXh6Ov4QTCsdkBWaCYWY3KihzKEYVq51GgRgAI1QqUxbwYDop3AmO4aNGisKgXHdAgFOZKdqwBLnaWnadpiGYiOuwx7fiECRPeRO4cbwblEQ+OeXFYnZYyePPNN4ct5yl7lEMmfKIjcDV4BoiXf2SCMl7tBaqWFYejP8MJhGNAAHJBUbXaGa54hsHhnSAwsgM38YknnigHH3xw97S/eCHiBgCsr1a3MS7rOMwQANIXv49aJYaAOLzf4nHMeziOp6snWLOMvce2vAvDxPeZATJPA6CnP0ME77zzTjnyyCPl1FNPDfNwWO2X9xP6i6EiLaA6P6oJZrwMWH5zPk48DdZcQDzyja2Vherf157N+XgayNM5c+aEiZ1uu+22sP7E7rvvHiZ3omnNmiYcjqEIJxCOAYGejAc1aJpAAIYWEkG/CXq803mQpdMZHsoaHbRD038C4I7GoGCYMDBm0Dk248HzMB6cs3hxo8P7uY9z8TTxHHuGvaMaGDbu6+laT2BZ+O23376bTIC4YSUfeObixYvD2iQQh5122kk+//nPyzHHHBM64tmcAsQjXfSBqDaifQHyy0B6qtNk+cnW8i3eLMW3xEmDNRNAqsgfavj8duvK6/jvBZj9kZESd9xxR2iawMswffr04LmhWQLC4B0bHY4ITiAcAwJmnOPGAkAGANfj7ccLFy4Mk1fdeuutYVQHCxBRO2d0B6QCQmHzTlQ/k2e9FeNK+ux5ZpQ4h0HjmfHzcaP1VgBB4nshFcynAXGgdvz+978/TEg0efLk0CnVSFM1SCdp4xn9DaTL1FL1b2OATBAgCuQv+QBJiJOLOMkCPJcAeD7hxRdflCeeeCI0izEKiHlKWNsF4jVjxozQ36a6LJB3BO6v7szrcAwlOIFwDBiYAcD4mgHGiMSNYPyYuPFaLcbi7rvvDm593NLU2I877rhgMCAUdIDDaxE3WhgmwDN4Z7VBY8QIRqu6QyJiRVriBi0OM2QbIhI8nxqvkRAMli3V/Otf/1ouvPDCMOUxHfeOPfbYYDAhVTwfrwNp4F7LN+7f0Du3JPDykKdGrkwd2W/Gt3Ce76o25ID48fN8J98b/73IA55Ds9cbb7wR+s/gpYJYkpf0XSDvKAPbbrttmIPEypDlu71nXelwOIYinEA4+jV6MhAYTzMQbK0Is9+TcscIEDDmZjwhBnQwvO+++wKZuOeee0JTAcZj2rRpofa53XbbhRooRiNekwVmmK1pwAwXz7cAeI+lE1i6ewvLB97L3AKMomCeDPM20JRDHPLG0sq74wSGNK4rj/oT4irJ0so5S391/hlBwBvBNeJBFvk9+X1feOGFQBboADlp0qTQ6Zb+C7vttlsgj4C84h3xvCP05MHh+ZbGakLpcAwlOIFw9GuYso4raiuyceMSN4q49zlHbbvaRW/PIz7BngUwQnglaO6glvr888+HmiqTALGcMgYHcsFMgjvvvHN3Dd8IDcY6no5q8C7e31ujw2gTRk3QLAOxYbQJq53Sz8HAs0mHgXeQFmrdPeWDxa8mRlsaZrgBxp/0VOcheca5+HnLd0aW0Ozw7LPPhiYIFqNiKWy+mSYqOpDyW9GPgWG/nDfwXCMcRv6q84M+FJyL519P6XE4hiKcQDj6PVDuKOt1GV7c4FYDrTaUXIt7HoAVeZ6JEaomJxgn4psRpmPd3LlzQydNvBXPPfdc6G+AccZDMXHixND8scceewRvAF4MyAXGyt7PczA8gOeyz3viBm19eP3110Pvf1Y2/ehHPxrO8X7SyTPWlTdx8E4jO31NHDYG/O6kk2YGmh6YnIm857eA3PG7QB4gV3gSIHZM3kRHR34H8sQmazLY72uemWovDdc5Z3kULzcOh2NtOIFw9Htg9AiQg7ghRrlTfDlnwOhwDuVffR7EDafdy7PZN8JgsPPVxpZzEBYMEbVePAQYtqeffjq4zvGAUPvFXQ6xGD9+vEyZMiUYta233jp4EKqJzrrAuyAhrA/yla98JczIyUiD6pEA5IkZO+4hcGw162pDSHzibAzx2NzAyDP1M94fiBmdX2l2IF8ZEUFaGX7KSBTyEyKF9wXiQB5DAOLfYd8GOM++/f4cx/OJ35tr/Nacr/Y0WFz2iWvlg/jct7EE0OEYjHAC4XD8k0ENFo8BgdoyLnVqzBhGjCLXMYiQDIwh/RcgGZALIxqQDEgCxpHZIy+77LIwDwGGzIaumoHDmAEzopwH1aRhfeAeew732bNQDxYMXI8TLRC/Ht+n2QVPCeQADwJ5wJZjzjMCgufxTczbsdVWW4W+JzQ70Gy0zz77hHyIEyYMN+mrToPD4diycALhcGwCMLpxQ2ZGG4OMp4DRGVw3gwxwyTMJFp4FpkLGY0ENHDf9q6++Gra07VsTBVMis3/UUUeF+yAeNJtgdCEaI0eODIHaMOLMu2jOsbkQOIaIcJ30sLVaO2TGatN4VCxwzDdAgqiVEzim4ylpI72MELHvYJ9OilxjxlC+kfN4CDD+kAOIEaTAvDCknz4dpIN0WR5ZnvLteCfiHgYjOlyzcw6Ho2/gBMLh2AQgPkYgMLwcW1OLAaNHiDeF9HSOe+08gWOeefnll8vtt98uZ511VjC01OAx3LyHZhPiYdgx4MTnPE0sGHUjBxAFDDoGmS3XeQf9A0gD92Co2cc4W/rxCBAPEIf+HRAahrtCDPCkkCY6mkISIAZsGb3As3mXkQEMvj3fwLO5Hs8v0gvieWPge/henhF/jsPh2PJwAuFw/BOBAY8bRYwuiNeqAWJHwFjaeULckBp4JrV1vBMYbwy9GXV7Hh4K4mHgzfDiAbFnxt9h9wAIBcfcs74avaUVEH9jav/c09P3gOr0kz+cIxjRiMPyy77F4XD0PZxAOBybgGpiYMAQIlpch0T01uiZWFKDpyb/9a9/PQwtZfIoavkA0hDvG2DgnWbsqzv58VxLG8EIThzxOJb+6u/j+RAW4tj3G7GIxyWOfTvb+H58Ww1LA89iC4hbnQ6Hw9F3cALhcGwiMKaIEbXmaoOIAeU812lGIC4GeWN673NP/HkshgWZuPbaa7uJA8aVQDyMN/sYfTPkca9BT8aX9AHuNwNd/Q2AtNizqklCNUgD8S1P1ge8JOSHxYu/m/fZeyx9BvvuDT3f4XBsPjiddzg2EWbkMJgYNQyfGVszfMShrwCG38gD/RDiMKMbD4AOizyXfhBMZMWEVldddVW4xnMxohh184aYx4BjrhEsjQZ7PnHNgPMMzplxJhjsufZsrvH8nsB1nrUxxt3m7uD5PNPyDXC/5R1bYOkD1d/kcDi2LNwD4XBsIhAhM3AAwxo3esCMI4aVACweiMeNg/vihhKPAdNuf+1rXwvNG9/97nfDBFZ0dgTx+FyHtFQjLvLxtK8rDcSJ30M8ixs/H4ed78nIx+8xDw3Ps/ywezjmvB3H09HTcx0Ox5aFEwiHox8D0mE1eQyqkQ8mXHrmmWfk+9//fhgKetJJJ8nHP/7xMF0zIyLi9zkcDsfmgBMIh6MfwzwKiCm1dUZgGBjKCVlg1kYWjfre974XJm469dRTwyqjBx10UBi14XA4HJsDTiAcjgEAxBSvAi79as8CkzbZqpHMB3HllVfKHXfcIYceeqh8+ctfDucdDofjnw0nEA7HAIN1NKQ5I+6VYHEpJngCzG5pU147HA7H5oATCIejHwPxrO5cCDhvHRnjIC7NHhALRjg4HA7H5oJ3ZXY4+jEgCXgaqnk+5znH3BJMWW2AQDAsEvLAvsPhcGwuuAfC4RggMO+CeSLYhyzQpMG+NWXYCAzIRbzTpcPhcPwz4QTC4ejHgDTY0E0QJxCAmRytqYJmC0D8eByHw+HYHHAC4XA4HA6Ho9fwaorD4XA4HI5ewwmEw+FwOByOXsMJhMPhcDgcjl7DCYTD4XA4HI5ewwmEw+FwOByOXsMJhMPhcDgcjl7DCYTD4XA4HI5ewwmEw+FwOByOXsMJhMPhcDgcjl7DCYTD4XA4HI5ewwmEw+FwOByOXsMJhMPhcDgcjl7DCYTD4XA4HI5ewwmEw+FwOByOXsMJhMPhcDgcjl7DCYTD4XA4HI5ewwmEw+FwOByOXsMJhMPhcDgcjl7DCYTD4XA4HI5ewwmEw+FwOByOXsMJhMPhcDgcjl7DCYTD4XA4HI5ewwmEw+FwOByOXsMJhMPhcDgcjl7DCYTD4XA4HI5ewwmEw+FwOByOXsMJhMPhcDgcjl7DCYTD4XA4HI5ewwmEw+FwOByOXsMJhMPhcDgcjl7DCYTD4XA4HI5ewwmEw+FwOByOXsMJhMPhcDgcjl7DCYTD4XA4HI5ewwmEw+FwOByOXsMJhMPhcDgcjl7DCYTD4XA4HI5ewwmEw+FwOByOXsMJhMPhcDgcjl7DCYTD4XA4HI5ewwmEw+FwOByOXsMJhMPhcDgcjl7DCYTD4XA4HI5ewwmEw+FwOByOXsMJhMPhcDgcjl7DCYTD4XA4HI5ewwmEw+FwOByOXkLk/wNQOeLDysn9KAAAAABJRU5ErkJggg==)"
   ]
  },
  {
   "cell_type": "markdown",
   "metadata": {
    "id": "F3N2oX3OQoFr"
   },
   "source": [
    "**D'après le graphique , l'on peut avoir : $ 2 \\to 2 \\to 3 \\to 1 \\,$ et\\, $3 \\to 3 \\to 2 \\to 1 $,$3 \\to 2 \\to 3  $, quand on quitte 2 ou 3 la probabilité  d'y revenir n'est pas certaines d'où les états 2 et 3 de cette chaîne de Markov sont transitoires.**"
   ]
  },
  {
   "cell_type": "markdown",
   "metadata": {
    "id": "znx04TIyQoFs"
   },
   "source": [
    "2.Rappelons que le nombre moyen de visite d’un état i est donnée par : \n",
    "$$\n",
    "\\boldsymbol{E}(N_i|X_0= i) = \\sum_{k=0}^{\\infty}\\mathcal{P}_{ii}^{\\,(k)}\\,~~~~ avec\\,~~~~\\mathcal{P}_{ii}^{\\,(0)} = 1\n",
    "$$\n",
    "<br>\n",
    "Évaluons avec une précision à $10^{-5}$ : <br>\n",
    "- la valeur de $\\boldsymbol{E}(N_i|X_0= i)$ pour l'état 2"
   ]
  },
  {
   "cell_type": "code",
   "execution_count": 150,
   "metadata": {
    "id": "YXSm76zAQoFs"
   },
   "outputs": [],
   "source": [
    "def visite_etat(i,p,e):\n",
    "    di = p[i-1,i-1]\n",
    "    E = 1 + di\n",
    "    produit = np.eye(p.shape[0]).dot(p)\n",
    "    precision = E - 1\n",
    "    while precision >= e:\n",
    "        E_ = E\n",
    "        produit = produit.dot(p)\n",
    "        E += produit[i-1,i-1]\n",
    "        precision = E - E_\n",
    "    return E"
   ]
  },
  {
   "cell_type": "code",
   "execution_count": 152,
   "metadata": {
    "id": "G1MrKAbQQoFs"
   },
   "outputs": [
    {
     "data": {
      "text/plain": [
       "1.7142727253734007"
      ]
     },
     "execution_count": 152,
     "metadata": {},
     "output_type": "execute_result"
    }
   ],
   "source": [
    "p = np.array([\n",
    "    [1,0,0],\n",
    "    [1/3,1/6,1/2],\n",
    "    [2/5,2/5,1/5]\n",
    "])\n",
    "i=2\n",
    "e=10**(-5)\n",
    "visite_etat(i,p,e)"
   ]
  },
  {
   "cell_type": "markdown",
   "metadata": {
    "id": "UkOJxhVgQoFt"
   },
   "source": [
    "**le nombre de visite moyen de l'état 2 est de 1,71427 à $10^{-5}$**"
   ]
  },
  {
   "cell_type": "markdown",
   "metadata": {
    "id": "WVY9xluxQoFu"
   },
   "source": [
    "**Évaluons avec une précision à $10^{-5}$** : <br>\n",
    "- la valeur de $\\boldsymbol{E}(N_i|X_0= i)$ pour l'état 3"
   ]
  },
  {
   "cell_type": "code",
   "execution_count": 154,
   "metadata": {
    "id": "220xiZz3QoFu"
   },
   "outputs": [
    {
     "data": {
      "text/plain": [
       "1.7857002919132128"
      ]
     },
     "execution_count": 154,
     "metadata": {},
     "output_type": "execute_result"
    }
   ],
   "source": [
    "i = 3\n",
    "visite_etat(i,p,e)"
   ]
  },
  {
   "cell_type": "markdown",
   "metadata": {
    "id": "BDI7NEdSQoFw"
   },
   "source": [
    "**Le nombre de visite moyen de l'état 3 est de 1,78570 à $10^{-5}$**"
   ]
  },
  {
   "cell_type": "markdown",
   "metadata": {
    "id": "TpGhUETeQoFx"
   },
   "source": [
    "3.soit $$\\boldsymbol{E}(N_i|X_0= i) = \\frac{1}{1-f_i}$$\n",
    "<br>\n",
    "donc : $$f_i = 1 - \\frac{1}{\\boldsymbol{E}(N_i|X_0= i)}$$\n",
    "<br>\n"
   ]
  },
  {
   "cell_type": "markdown",
   "metadata": {
    "id": "TUoR_5oDQoFy"
   },
   "source": [
    "**Évaluons avec une précision à $10^{-5}$** : <br>\n",
    "- la valeur de $f_i$ pour l'état 2"
   ]
  },
  {
   "cell_type": "code",
   "execution_count": 157,
   "metadata": {
    "id": "o-NnEiLZQoFz"
   },
   "outputs": [
    {
     "data": {
      "text/plain": [
       "0.4166622467949601"
      ]
     },
     "execution_count": 157,
     "metadata": {},
     "output_type": "execute_result"
    }
   ],
   "source": [
    "f2 = 1 - 1/visite_etat(2,p,e)\n",
    "f2"
   ]
  },
  {
   "cell_type": "markdown",
   "metadata": {
    "id": "QRKA2is9QoF0"
   },
   "source": [
    "**La probabilité de retour à l'état 2 est: $f_2 = 0.42$**"
   ]
  },
  {
   "cell_type": "markdown",
   "metadata": {
    "id": "g0RJvK3mQoF0"
   },
   "source": [
    "**Évaluons avec une précision à $10^{-5}$** : <br>\n",
    "- la valeur de $f_3$ pour l'état 3"
   ]
  },
  {
   "cell_type": "code",
   "execution_count": 158,
   "metadata": {
    "id": "7W2zfUegQoF0"
   },
   "outputs": [
    {
     "data": {
      "text/plain": [
       "0.439995611509593"
      ]
     },
     "execution_count": 158,
     "metadata": {},
     "output_type": "execute_result"
    }
   ],
   "source": [
    "f3 = 1 - 1/visite_etat(3,p,e)\n",
    "f3"
   ]
  },
  {
   "cell_type": "markdown",
   "metadata": {
    "id": "UskeTBBLQoF1"
   },
   "source": [
    "**La probabilité de retour à l'état 3 est de: $f_3 = 0.44$**"
   ]
  }
 ],
 "metadata": {
  "colab": {
   "provenance": [],
   "toc_visible": true
  },
  "kernelspec": {
   "display_name": "Python 3 (ipykernel)",
   "language": "python",
   "name": "python3"
  },
  "language_info": {
   "codemirror_mode": {
    "name": "ipython",
    "version": 3
   },
   "file_extension": ".py",
   "mimetype": "text/x-python",
   "name": "python",
   "nbconvert_exporter": "python",
   "pygments_lexer": "ipython3",
   "version": "3.9.7"
  },
  "vscode": {
   "interpreter": {
    "hash": "9b1aa5d9122de1903175be1042f7bc0446495ba982f95cbd1f4114427ebf3c02"
   }
  }
 },
 "nbformat": 4,
 "nbformat_minor": 1
}
